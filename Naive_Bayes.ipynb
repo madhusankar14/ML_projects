{
 "cells": [
  {
   "cell_type": "code",
   "execution_count": 1,
   "id": "9d6f2c56",
   "metadata": {},
   "outputs": [],
   "source": [
    "#Naive bayes theorem uses bayes theorem for conditional probability with a naive assumption \n",
    "#that the features are not correlated to each other and tries to find conditional probability of target\n",
    "#variable given the probabilities of features. \n",
    "\n",
    "#There are three types of Naive Bayes models: Gaussian, Multinomial, and Bernoulli. \n",
    "#Gaussian Naive Bayes – continuous features and has an assumption that each feature is normally distributed.\n",
    "\n",
    "#Multinimial & Bernoulli: Count - frequeny based data\n",
    "#text data/classification problems\n",
    "#Bernoulli - all features takes only binary values. If word occur then it is 1, else 0\n",
    "#Multinomial - discrete data (e.g movie rating from 1 to 5)\n",
    "\n",
    "#Naive Bayes can be used for both classifcation and regression problems\n"
   ]
  },
  {
   "cell_type": "code",
   "execution_count": 2,
   "id": "52a6786f",
   "metadata": {},
   "outputs": [],
   "source": [
    "import pandas as pd"
   ]
  },
  {
   "cell_type": "code",
   "execution_count": 3,
   "id": "45edb0a1",
   "metadata": {},
   "outputs": [
    {
     "data": {
      "text/html": [
       "<div>\n",
       "<style scoped>\n",
       "    .dataframe tbody tr th:only-of-type {\n",
       "        vertical-align: middle;\n",
       "    }\n",
       "\n",
       "    .dataframe tbody tr th {\n",
       "        vertical-align: top;\n",
       "    }\n",
       "\n",
       "    .dataframe thead th {\n",
       "        text-align: right;\n",
       "    }\n",
       "</style>\n",
       "<table border=\"1\" class=\"dataframe\">\n",
       "  <thead>\n",
       "    <tr style=\"text-align: right;\">\n",
       "      <th></th>\n",
       "      <th>PassengerId</th>\n",
       "      <th>Name</th>\n",
       "      <th>Pclass</th>\n",
       "      <th>Sex</th>\n",
       "      <th>Age</th>\n",
       "      <th>SibSp</th>\n",
       "      <th>Parch</th>\n",
       "      <th>Ticket</th>\n",
       "      <th>Fare</th>\n",
       "      <th>Cabin</th>\n",
       "      <th>Embarked</th>\n",
       "      <th>Survived</th>\n",
       "    </tr>\n",
       "  </thead>\n",
       "  <tbody>\n",
       "    <tr>\n",
       "      <th>0</th>\n",
       "      <td>1</td>\n",
       "      <td>Braund, Mr. Owen Harris</td>\n",
       "      <td>3</td>\n",
       "      <td>male</td>\n",
       "      <td>22.0</td>\n",
       "      <td>1</td>\n",
       "      <td>0</td>\n",
       "      <td>A/5 21171</td>\n",
       "      <td>7.2500</td>\n",
       "      <td>NaN</td>\n",
       "      <td>S</td>\n",
       "      <td>0</td>\n",
       "    </tr>\n",
       "    <tr>\n",
       "      <th>1</th>\n",
       "      <td>2</td>\n",
       "      <td>Cumings, Mrs. John Bradley (Florence Briggs Th...</td>\n",
       "      <td>1</td>\n",
       "      <td>female</td>\n",
       "      <td>38.0</td>\n",
       "      <td>1</td>\n",
       "      <td>0</td>\n",
       "      <td>PC 17599</td>\n",
       "      <td>71.2833</td>\n",
       "      <td>C85</td>\n",
       "      <td>C</td>\n",
       "      <td>1</td>\n",
       "    </tr>\n",
       "    <tr>\n",
       "      <th>2</th>\n",
       "      <td>3</td>\n",
       "      <td>Heikkinen, Miss. Laina</td>\n",
       "      <td>3</td>\n",
       "      <td>female</td>\n",
       "      <td>26.0</td>\n",
       "      <td>0</td>\n",
       "      <td>0</td>\n",
       "      <td>STON/O2. 3101282</td>\n",
       "      <td>7.9250</td>\n",
       "      <td>NaN</td>\n",
       "      <td>S</td>\n",
       "      <td>1</td>\n",
       "    </tr>\n",
       "    <tr>\n",
       "      <th>3</th>\n",
       "      <td>4</td>\n",
       "      <td>Futrelle, Mrs. Jacques Heath (Lily May Peel)</td>\n",
       "      <td>1</td>\n",
       "      <td>female</td>\n",
       "      <td>35.0</td>\n",
       "      <td>1</td>\n",
       "      <td>0</td>\n",
       "      <td>113803</td>\n",
       "      <td>53.1000</td>\n",
       "      <td>C123</td>\n",
       "      <td>S</td>\n",
       "      <td>1</td>\n",
       "    </tr>\n",
       "    <tr>\n",
       "      <th>4</th>\n",
       "      <td>5</td>\n",
       "      <td>Allen, Mr. William Henry</td>\n",
       "      <td>3</td>\n",
       "      <td>male</td>\n",
       "      <td>35.0</td>\n",
       "      <td>0</td>\n",
       "      <td>0</td>\n",
       "      <td>373450</td>\n",
       "      <td>8.0500</td>\n",
       "      <td>NaN</td>\n",
       "      <td>S</td>\n",
       "      <td>0</td>\n",
       "    </tr>\n",
       "  </tbody>\n",
       "</table>\n",
       "</div>"
      ],
      "text/plain": [
       "   PassengerId                                               Name  Pclass  \\\n",
       "0            1                            Braund, Mr. Owen Harris       3   \n",
       "1            2  Cumings, Mrs. John Bradley (Florence Briggs Th...       1   \n",
       "2            3                             Heikkinen, Miss. Laina       3   \n",
       "3            4       Futrelle, Mrs. Jacques Heath (Lily May Peel)       1   \n",
       "4            5                           Allen, Mr. William Henry       3   \n",
       "\n",
       "      Sex   Age  SibSp  Parch            Ticket     Fare Cabin Embarked  \\\n",
       "0    male  22.0      1      0         A/5 21171   7.2500   NaN        S   \n",
       "1  female  38.0      1      0          PC 17599  71.2833   C85        C   \n",
       "2  female  26.0      0      0  STON/O2. 3101282   7.9250   NaN        S   \n",
       "3  female  35.0      1      0            113803  53.1000  C123        S   \n",
       "4    male  35.0      0      0            373450   8.0500   NaN        S   \n",
       "\n",
       "   Survived  \n",
       "0         0  \n",
       "1         1  \n",
       "2         1  \n",
       "3         1  \n",
       "4         0  "
      ]
     },
     "execution_count": 3,
     "metadata": {},
     "output_type": "execute_result"
    }
   ],
   "source": [
    "#import data\n",
    "df = pd.read_excel(\"Titanic.xlsx\")\n",
    "df.head()"
   ]
  },
  {
   "cell_type": "code",
   "execution_count": 4,
   "id": "19b15b67",
   "metadata": {},
   "outputs": [
    {
     "name": "stdout",
     "output_type": "stream",
     "text": [
      "   Pclass     Sex   Age     Fare  Survived\n",
      "0       3    male  22.0   7.2500         0\n",
      "1       1  female  38.0  71.2833         1\n",
      "2       3  female  26.0   7.9250         1\n",
      "3       1  female  35.0  53.1000         1\n",
      "4       3    male  35.0   8.0500         0\n",
      "shape (891, 5)\n"
     ]
    }
   ],
   "source": [
    "#drop features\n",
    "df.drop(['PassengerId','Name','SibSp','Parch','Ticket','Cabin','Embarked'],axis='columns',inplace=True)\n",
    "print (df.head())\n",
    "print ('shape', (df.shape))"
   ]
  },
  {
   "cell_type": "code",
   "execution_count": 5,
   "id": "ec46ebc0",
   "metadata": {},
   "outputs": [],
   "source": [
    "#set x and y\n",
    "inputs = df.drop('Survived',axis='columns')\n",
    "target = df.Survived"
   ]
  },
  {
   "cell_type": "code",
   "execution_count": 6,
   "id": "ab2a6d4c",
   "metadata": {},
   "outputs": [
    {
     "data": {
      "text/html": [
       "<div>\n",
       "<style scoped>\n",
       "    .dataframe tbody tr th:only-of-type {\n",
       "        vertical-align: middle;\n",
       "    }\n",
       "\n",
       "    .dataframe tbody tr th {\n",
       "        vertical-align: top;\n",
       "    }\n",
       "\n",
       "    .dataframe thead th {\n",
       "        text-align: right;\n",
       "    }\n",
       "</style>\n",
       "<table border=\"1\" class=\"dataframe\">\n",
       "  <thead>\n",
       "    <tr style=\"text-align: right;\">\n",
       "      <th></th>\n",
       "      <th>female</th>\n",
       "      <th>male</th>\n",
       "    </tr>\n",
       "  </thead>\n",
       "  <tbody>\n",
       "    <tr>\n",
       "      <th>0</th>\n",
       "      <td>0</td>\n",
       "      <td>1</td>\n",
       "    </tr>\n",
       "    <tr>\n",
       "      <th>1</th>\n",
       "      <td>1</td>\n",
       "      <td>0</td>\n",
       "    </tr>\n",
       "    <tr>\n",
       "      <th>2</th>\n",
       "      <td>1</td>\n",
       "      <td>0</td>\n",
       "    </tr>\n",
       "  </tbody>\n",
       "</table>\n",
       "</div>"
      ],
      "text/plain": [
       "   female  male\n",
       "0       0     1\n",
       "1       1     0\n",
       "2       1     0"
      ]
     },
     "execution_count": 6,
     "metadata": {},
     "output_type": "execute_result"
    }
   ],
   "source": [
    "#convert sex to dummy\n",
    "\n",
    "dummies = pd.get_dummies(inputs.Sex)\n",
    "dummies.head(3)"
   ]
  },
  {
   "cell_type": "code",
   "execution_count": 7,
   "id": "af4bd092",
   "metadata": {},
   "outputs": [
    {
     "data": {
      "text/html": [
       "<div>\n",
       "<style scoped>\n",
       "    .dataframe tbody tr th:only-of-type {\n",
       "        vertical-align: middle;\n",
       "    }\n",
       "\n",
       "    .dataframe tbody tr th {\n",
       "        vertical-align: top;\n",
       "    }\n",
       "\n",
       "    .dataframe thead th {\n",
       "        text-align: right;\n",
       "    }\n",
       "</style>\n",
       "<table border=\"1\" class=\"dataframe\">\n",
       "  <thead>\n",
       "    <tr style=\"text-align: right;\">\n",
       "      <th></th>\n",
       "      <th>Pclass</th>\n",
       "      <th>Sex</th>\n",
       "      <th>Age</th>\n",
       "      <th>Fare</th>\n",
       "      <th>female</th>\n",
       "      <th>male</th>\n",
       "    </tr>\n",
       "  </thead>\n",
       "  <tbody>\n",
       "    <tr>\n",
       "      <th>0</th>\n",
       "      <td>3</td>\n",
       "      <td>male</td>\n",
       "      <td>22.0</td>\n",
       "      <td>7.2500</td>\n",
       "      <td>0</td>\n",
       "      <td>1</td>\n",
       "    </tr>\n",
       "    <tr>\n",
       "      <th>1</th>\n",
       "      <td>1</td>\n",
       "      <td>female</td>\n",
       "      <td>38.0</td>\n",
       "      <td>71.2833</td>\n",
       "      <td>1</td>\n",
       "      <td>0</td>\n",
       "    </tr>\n",
       "    <tr>\n",
       "      <th>2</th>\n",
       "      <td>3</td>\n",
       "      <td>female</td>\n",
       "      <td>26.0</td>\n",
       "      <td>7.9250</td>\n",
       "      <td>1</td>\n",
       "      <td>0</td>\n",
       "    </tr>\n",
       "  </tbody>\n",
       "</table>\n",
       "</div>"
      ],
      "text/plain": [
       "   Pclass     Sex   Age     Fare  female  male\n",
       "0       3    male  22.0   7.2500       0     1\n",
       "1       1  female  38.0  71.2833       1     0\n",
       "2       3  female  26.0   7.9250       1     0"
      ]
     },
     "execution_count": 7,
     "metadata": {},
     "output_type": "execute_result"
    }
   ],
   "source": [
    "#append dummies data\n",
    "inputs = pd.concat([inputs,dummies],axis='columns')\n",
    "inputs.head(3)"
   ]
  },
  {
   "cell_type": "code",
   "execution_count": 8,
   "id": "ddfa18f6",
   "metadata": {},
   "outputs": [
    {
     "data": {
      "text/html": [
       "<div>\n",
       "<style scoped>\n",
       "    .dataframe tbody tr th:only-of-type {\n",
       "        vertical-align: middle;\n",
       "    }\n",
       "\n",
       "    .dataframe tbody tr th {\n",
       "        vertical-align: top;\n",
       "    }\n",
       "\n",
       "    .dataframe thead th {\n",
       "        text-align: right;\n",
       "    }\n",
       "</style>\n",
       "<table border=\"1\" class=\"dataframe\">\n",
       "  <thead>\n",
       "    <tr style=\"text-align: right;\">\n",
       "      <th></th>\n",
       "      <th>Pclass</th>\n",
       "      <th>Age</th>\n",
       "      <th>Fare</th>\n",
       "      <th>female</th>\n",
       "    </tr>\n",
       "  </thead>\n",
       "  <tbody>\n",
       "    <tr>\n",
       "      <th>0</th>\n",
       "      <td>3</td>\n",
       "      <td>22.0</td>\n",
       "      <td>7.2500</td>\n",
       "      <td>0</td>\n",
       "    </tr>\n",
       "    <tr>\n",
       "      <th>1</th>\n",
       "      <td>1</td>\n",
       "      <td>38.0</td>\n",
       "      <td>71.2833</td>\n",
       "      <td>1</td>\n",
       "    </tr>\n",
       "    <tr>\n",
       "      <th>2</th>\n",
       "      <td>3</td>\n",
       "      <td>26.0</td>\n",
       "      <td>7.9250</td>\n",
       "      <td>1</td>\n",
       "    </tr>\n",
       "  </tbody>\n",
       "</table>\n",
       "</div>"
      ],
      "text/plain": [
       "   Pclass   Age     Fare  female\n",
       "0       3  22.0   7.2500       0\n",
       "1       1  38.0  71.2833       1\n",
       "2       3  26.0   7.9250       1"
      ]
     },
     "execution_count": 8,
     "metadata": {},
     "output_type": "execute_result"
    }
   ],
   "source": [
    "#drop one category to avoid dummy trap\n",
    "inputs.drop(['Sex','male'],axis='columns',inplace=True)\n",
    "inputs.head(3)"
   ]
  },
  {
   "cell_type": "code",
   "execution_count": 9,
   "id": "e25c0c20",
   "metadata": {},
   "outputs": [
    {
     "data": {
      "text/plain": [
       "Pclass      0\n",
       "Age       177\n",
       "Fare        0\n",
       "female      0\n",
       "dtype: int64"
      ]
     },
     "execution_count": 9,
     "metadata": {},
     "output_type": "execute_result"
    }
   ],
   "source": [
    "#chk for missing values in columns\n",
    "inputs.isnull().sum()"
   ]
  },
  {
   "cell_type": "code",
   "execution_count": 10,
   "id": "349ef0d5",
   "metadata": {},
   "outputs": [
    {
     "data": {
      "text/plain": [
       "Pclass    0\n",
       "Age       0\n",
       "Fare      0\n",
       "female    0\n",
       "dtype: int64"
      ]
     },
     "execution_count": 10,
     "metadata": {},
     "output_type": "execute_result"
    }
   ],
   "source": [
    "#impute missing age\n",
    "inputs.Age = inputs.Age.fillna(inputs.Age.mean())\n",
    "inputs.isnull().sum()"
   ]
  },
  {
   "cell_type": "code",
   "execution_count": 11,
   "id": "8f46ca18",
   "metadata": {},
   "outputs": [
    {
     "name": "stdout",
     "output_type": "stream",
     "text": [
      "shape X_train (623, 4)\n",
      "shape X_test (268, 4)\n"
     ]
    }
   ],
   "source": [
    "#train test split 70:30\n",
    "from sklearn.model_selection import train_test_split\n",
    "X_train, X_test, y_train, y_test = train_test_split(inputs,target,test_size=0.3)\n",
    "\n",
    "print ('shape X_train',X_train.shape)\n",
    "print ('shape X_test',X_test.shape)"
   ]
  },
  {
   "cell_type": "code",
   "execution_count": 12,
   "id": "03ad54d4",
   "metadata": {},
   "outputs": [],
   "source": [
    "#Gaussian NB is used for normal distribution\n",
    "from sklearn.naive_bayes import GaussianNB\n",
    "model = GaussianNB()"
   ]
  },
  {
   "cell_type": "code",
   "execution_count": 13,
   "id": "6e335d6b",
   "metadata": {},
   "outputs": [
    {
     "data": {
      "text/plain": [
       "GaussianNB()"
      ]
     },
     "execution_count": 13,
     "metadata": {},
     "output_type": "execute_result"
    }
   ],
   "source": [
    "#fit model\n",
    "model.fit(X_train,y_train)"
   ]
  },
  {
   "cell_type": "code",
   "execution_count": 14,
   "id": "4605e805",
   "metadata": {},
   "outputs": [
    {
     "data": {
      "text/plain": [
       "0.7425373134328358"
      ]
     },
     "execution_count": 14,
     "metadata": {},
     "output_type": "execute_result"
    }
   ],
   "source": [
    "#score\n",
    "model.score(X_test,y_test)"
   ]
  },
  {
   "cell_type": "code",
   "execution_count": 15,
   "id": "59495f0f",
   "metadata": {},
   "outputs": [
    {
     "data": {
      "text/plain": [
       "array([1, 0, 1, 1, 0, 1, 0, 0, 0, 0], dtype=int64)"
      ]
     },
     "execution_count": 15,
     "metadata": {},
     "output_type": "execute_result"
    }
   ],
   "source": [
    "#predict\n",
    "model.predict(X_test[0:10])"
   ]
  },
  {
   "cell_type": "code",
   "execution_count": 16,
   "id": "6f1062d9",
   "metadata": {},
   "outputs": [
    {
     "data": {
      "text/plain": [
       "array([[0.43048926, 0.56951074],\n",
       "       [0.96526647, 0.03473353],\n",
       "       [0.00293803, 0.99706197],\n",
       "       [0.29642928, 0.70357072],\n",
       "       [0.6985234 , 0.3014766 ],\n",
       "       [0.0502906 , 0.9497094 ],\n",
       "       [0.92444102, 0.07555898],\n",
       "       [0.96795696, 0.03204304],\n",
       "       [0.96854111, 0.03145889],\n",
       "       [0.65193351, 0.34806649]])"
      ]
     },
     "execution_count": 16,
     "metadata": {},
     "output_type": "execute_result"
    }
   ],
   "source": [
    "#probabilities\n",
    "#first one is non-event prob (non-survived)\n",
    "model.predict_proba(X_test[:10])"
   ]
  },
  {
   "cell_type": "code",
   "execution_count": 17,
   "id": "2a290682",
   "metadata": {},
   "outputs": [
    {
     "data": {
      "text/plain": [
       "array([0.70949721, 0.79775281, 0.78089888, 0.75842697, 0.79213483])"
      ]
     },
     "execution_count": 17,
     "metadata": {},
     "output_type": "execute_result"
    }
   ],
   "source": [
    "#Calculate the score using cross validation for K-fold=5\n",
    "from sklearn.model_selection import cross_val_score\n",
    "cross_val_score(GaussianNB(),inputs, target, cv=5)"
   ]
  },
  {
   "cell_type": "code",
   "execution_count": 18,
   "id": "a44fa073",
   "metadata": {},
   "outputs": [
    {
     "data": {
      "text/html": [
       "<div>\n",
       "<style scoped>\n",
       "    .dataframe tbody tr th:only-of-type {\n",
       "        vertical-align: middle;\n",
       "    }\n",
       "\n",
       "    .dataframe tbody tr th {\n",
       "        vertical-align: top;\n",
       "    }\n",
       "\n",
       "    .dataframe thead th {\n",
       "        text-align: right;\n",
       "    }\n",
       "</style>\n",
       "<table border=\"1\" class=\"dataframe\">\n",
       "  <thead>\n",
       "    <tr style=\"text-align: right;\">\n",
       "      <th></th>\n",
       "      <th>Category</th>\n",
       "      <th>Message</th>\n",
       "    </tr>\n",
       "  </thead>\n",
       "  <tbody>\n",
       "    <tr>\n",
       "      <th>0</th>\n",
       "      <td>ham</td>\n",
       "      <td>Go until jurong point, crazy.. Available only ...</td>\n",
       "    </tr>\n",
       "    <tr>\n",
       "      <th>1</th>\n",
       "      <td>ham</td>\n",
       "      <td>Ok lar... Joking wif u oni...</td>\n",
       "    </tr>\n",
       "    <tr>\n",
       "      <th>2</th>\n",
       "      <td>spam</td>\n",
       "      <td>Free entry in 2 a wkly comp to win FA Cup fina...</td>\n",
       "    </tr>\n",
       "    <tr>\n",
       "      <th>3</th>\n",
       "      <td>ham</td>\n",
       "      <td>U dun say so early hor... U c already then say...</td>\n",
       "    </tr>\n",
       "    <tr>\n",
       "      <th>4</th>\n",
       "      <td>ham</td>\n",
       "      <td>Nah I don't think he goes to usf, he lives aro...</td>\n",
       "    </tr>\n",
       "  </tbody>\n",
       "</table>\n",
       "</div>"
      ],
      "text/plain": [
       "  Category                                            Message\n",
       "0      ham  Go until jurong point, crazy.. Available only ...\n",
       "1      ham                      Ok lar... Joking wif u oni...\n",
       "2     spam  Free entry in 2 a wkly comp to win FA Cup fina...\n",
       "3      ham  U dun say so early hor... U c already then say...\n",
       "4      ham  Nah I don't think he goes to usf, he lives aro..."
      ]
     },
     "execution_count": 18,
     "metadata": {},
     "output_type": "execute_result"
    }
   ],
   "source": [
    "#Spam Data\n",
    "df_s = pd.read_excel(\"Spam.xlsx\")\n",
    "df_s.head()"
   ]
  },
  {
   "cell_type": "code",
   "execution_count": 19,
   "id": "6fbfc3ab",
   "metadata": {},
   "outputs": [
    {
     "data": {
      "text/plain": [
       "Category    object\n",
       "Message     object\n",
       "dtype: object"
      ]
     },
     "execution_count": 19,
     "metadata": {},
     "output_type": "execute_result"
    }
   ],
   "source": [
    "df_s.dtypes"
   ]
  },
  {
   "cell_type": "code",
   "execution_count": 20,
   "id": "f645f14a",
   "metadata": {},
   "outputs": [
    {
     "data": {
      "text/html": [
       "<div>\n",
       "<style scoped>\n",
       "    .dataframe tbody tr th:only-of-type {\n",
       "        vertical-align: middle;\n",
       "    }\n",
       "\n",
       "    .dataframe tbody tr th {\n",
       "        vertical-align: top;\n",
       "    }\n",
       "\n",
       "    .dataframe thead tr th {\n",
       "        text-align: left;\n",
       "    }\n",
       "\n",
       "    .dataframe thead tr:last-of-type th {\n",
       "        text-align: right;\n",
       "    }\n",
       "</style>\n",
       "<table border=\"1\" class=\"dataframe\">\n",
       "  <thead>\n",
       "    <tr>\n",
       "      <th></th>\n",
       "      <th colspan=\"4\" halign=\"left\">Message</th>\n",
       "    </tr>\n",
       "    <tr>\n",
       "      <th></th>\n",
       "      <th>count</th>\n",
       "      <th>unique</th>\n",
       "      <th>top</th>\n",
       "      <th>freq</th>\n",
       "    </tr>\n",
       "    <tr>\n",
       "      <th>Category</th>\n",
       "      <th></th>\n",
       "      <th></th>\n",
       "      <th></th>\n",
       "      <th></th>\n",
       "    </tr>\n",
       "  </thead>\n",
       "  <tbody>\n",
       "    <tr>\n",
       "      <th>ham</th>\n",
       "      <td>4825</td>\n",
       "      <td>4516</td>\n",
       "      <td>Sorry, I'll call later</td>\n",
       "      <td>30</td>\n",
       "    </tr>\n",
       "    <tr>\n",
       "      <th>spam</th>\n",
       "      <td>747</td>\n",
       "      <td>641</td>\n",
       "      <td>Please call our customer service representativ...</td>\n",
       "      <td>4</td>\n",
       "    </tr>\n",
       "  </tbody>\n",
       "</table>\n",
       "</div>"
      ],
      "text/plain": [
       "         Message                                                            \\\n",
       "           count unique                                                top   \n",
       "Category                                                                     \n",
       "ham         4825   4516                             Sorry, I'll call later   \n",
       "spam         747    641  Please call our customer service representativ...   \n",
       "\n",
       "               \n",
       "         freq  \n",
       "Category       \n",
       "ham        30  \n",
       "spam        4  "
      ]
     },
     "execution_count": 20,
     "metadata": {},
     "output_type": "execute_result"
    }
   ],
   "source": [
    "#view category\n",
    "df_s.groupby('Category').describe()"
   ]
  },
  {
   "cell_type": "code",
   "execution_count": 21,
   "id": "6aaa1a88",
   "metadata": {},
   "outputs": [
    {
     "data": {
      "text/html": [
       "<div>\n",
       "<style scoped>\n",
       "    .dataframe tbody tr th:only-of-type {\n",
       "        vertical-align: middle;\n",
       "    }\n",
       "\n",
       "    .dataframe tbody tr th {\n",
       "        vertical-align: top;\n",
       "    }\n",
       "\n",
       "    .dataframe thead th {\n",
       "        text-align: right;\n",
       "    }\n",
       "</style>\n",
       "<table border=\"1\" class=\"dataframe\">\n",
       "  <thead>\n",
       "    <tr style=\"text-align: right;\">\n",
       "      <th></th>\n",
       "      <th>Category</th>\n",
       "      <th>Message</th>\n",
       "      <th>spam</th>\n",
       "    </tr>\n",
       "  </thead>\n",
       "  <tbody>\n",
       "    <tr>\n",
       "      <th>0</th>\n",
       "      <td>ham</td>\n",
       "      <td>Go until jurong point, crazy.. Available only ...</td>\n",
       "      <td>0</td>\n",
       "    </tr>\n",
       "    <tr>\n",
       "      <th>1</th>\n",
       "      <td>ham</td>\n",
       "      <td>Ok lar... Joking wif u oni...</td>\n",
       "      <td>0</td>\n",
       "    </tr>\n",
       "    <tr>\n",
       "      <th>2</th>\n",
       "      <td>spam</td>\n",
       "      <td>Free entry in 2 a wkly comp to win FA Cup fina...</td>\n",
       "      <td>1</td>\n",
       "    </tr>\n",
       "    <tr>\n",
       "      <th>3</th>\n",
       "      <td>ham</td>\n",
       "      <td>U dun say so early hor... U c already then say...</td>\n",
       "      <td>0</td>\n",
       "    </tr>\n",
       "    <tr>\n",
       "      <th>4</th>\n",
       "      <td>ham</td>\n",
       "      <td>Nah I don't think he goes to usf, he lives aro...</td>\n",
       "      <td>0</td>\n",
       "    </tr>\n",
       "  </tbody>\n",
       "</table>\n",
       "</div>"
      ],
      "text/plain": [
       "  Category                                            Message  spam\n",
       "0      ham  Go until jurong point, crazy.. Available only ...     0\n",
       "1      ham                      Ok lar... Joking wif u oni...     0\n",
       "2     spam  Free entry in 2 a wkly comp to win FA Cup fina...     1\n",
       "3      ham  U dun say so early hor... U c already then say...     0\n",
       "4      ham  Nah I don't think he goes to usf, he lives aro...     0"
      ]
     },
     "execution_count": 21,
     "metadata": {},
     "output_type": "execute_result"
    }
   ],
   "source": [
    "#convert features to numeric\n",
    "\n",
    "df_s['spam']=df_s['Category'].apply(lambda x: 1 if x=='spam' else 0)\n",
    "df_s.head()"
   ]
  },
  {
   "cell_type": "code",
   "execution_count": 22,
   "id": "5854c9f6",
   "metadata": {},
   "outputs": [
    {
     "name": "stdout",
     "output_type": "stream",
     "text": [
      "train (4180,)\n",
      "test (1394,)\n"
     ]
    }
   ],
   "source": [
    "#split train test\n",
    "from sklearn.model_selection import train_test_split\n",
    "X_train, X_test, y_train, y_test = train_test_split(df_s.Message,df_s.spam,test_size=0.25)\n",
    "\n",
    "print ('train',X_train.shape)\n",
    "#convert object to string\n",
    "print ('test', X_test.shape)"
   ]
  },
  {
   "cell_type": "code",
   "execution_count": 23,
   "id": "80b0052f",
   "metadata": {},
   "outputs": [],
   "source": [
    "#convert object to string\n",
    "#x = v.fit_transform(df['Review'].values.astype('U'))  ## Even astype(str) would work"
   ]
  },
  {
   "cell_type": "code",
   "execution_count": 24,
   "id": "ef7d8758",
   "metadata": {},
   "outputs": [
    {
     "name": "stdout",
     "output_type": "stream",
     "text": [
      "shape (4180, 7422)\n",
      "{'sad': 5618, 'story': 6228, 'of': 4679, 'man': 4156, 'last': 3849, 'week': 7125, 'was': 7077, 'my': 4465, 'day': 2090, 'wife': 7195, 'did': 2207, 'nt': 4643, 'wish': 7221, 'me': 4218, 'parents': 4862, 'forgot': 2827, 'so': 6019, 'kids': 3760, 'went': 7144, 'to': 6641, 'work': 7274, 'even': 2539, 'colleagues': 1817, 'not': 4624, 'win': 7203, 'year': 7358, 'supply': 6338, 'cds': 1627, 'store': 6224, 'ur': 6901, 'choice': 1725, 'worth': 7289, '500': 512, 'enter': 2491, 'our': 4789, '100': 240, 'weekly': 7128, 'draw': 2333, 'txt': 6798, 'music': 4456, '87066': 659, 'ts': 6765, 'cs': 2002, 'www': 7320, 'ldew': 3874, 'com': 1827, 'subs16': 6279, '1win150ppmx3': 323, 'you': 7384, 'didn': 2209, 'have': 3220, 'tell': 6472, 'that': 6528, 'now': 4637, 'thinking': 6560, 'plus': 5040, 'he': 3228, 'going': 3038, 'stop': 6216, 'all': 874, 'your': 7389, 'runs': 5606, 'why': 7189, 'dint': 2236, 'come': 1832, 'with': 7229, 'us': 6915, 'customer': 2036, 'place': 5006, 'will': 7201, 'call': 1538, 'ok': 4701, 'april': 1002, 'cant': 1574, 'wait': 7041, 'sure': 6346, 'but': 1508, 'since': 5914, 'be': 1217, 'working': 7277, 'on': 4720, 'tuesday': 6775, 'don': 2304, 'really': 5370, 'need': 4526, 'cover': 1960, 'dont': 2307, 'know': 3785, 'bring': 1444, 'some': 6031, 'food': 2806, 'and': 925, 'is': 3581, 'the': 6530, 'problem': 5203, 'walk': 7049, 'around': 1035, 'in': 3476, 'julianaland': 3697, 'oblivious': 4670, 'what': 7160, 'say': 5666, 'same': 5637, 'things': 6556, 'constantly': 1894, 'they': 6551, 'go': 3026, 'one': 4724, 'ear': 2395, 'out': 4791, 'other': 4783, 'while': 7178, 'off': 4680, 'doing': 2295, 'whatever': 7161, 'want': 7065, 'do': 2273, 'it': 3592, 'upset': 6897, 'listen': 3969, 'when': 7167, 'then': 6539, 'surprised': 6354, 'mad': 4122, 'anything': 965, 'lor': 4032, 'juz': 3707, 'both': 1384, 'if': 3440, 'got': 3067, 'ever': 2544, 'green': 3109, 'quote': 5303, 'told': 6658, 'by': 1524, 'jerry': 3650, 'cartoon': 1602, 'person': 4941, 'who': 7183, 'irritates': 3577, 'always': 895, 'loves': 4059, 'vry': 7018, 'much': 4436, 'fails': 2630, 'express': 2605, 'gud': 3131, 'nyt': 4663, 'how': 3366, 'fantastic': 2652, 'am': 897, 'any': 956, 'chance': 1650, 'or': 4760, 'bigger': 1290, 'life': 3929, 'lift': 3934, 'as': 1050, 'losing': 4037, 'live': 3978, 'think': 6557, 'would': 7295, 'first': 2745, 'die': 2211, 'from': 2896, 'oh': 4697, 'ho': 3313, 'this': 6565, 'time': 6612, 'use': 6919, 'these': 6545, 'type': 6810, 'words': 7273, 'still': 6203, 'painting': 4836, 'wall': 7054, 'long': 4017, 'beach': 1218, 'expected': 2590, 'having': 3224, 'dinner': 2234, 'yar': 7350, 'wanted': 7066, 'scold': 5683, 'yest': 7370, 'late': 3851, 'already': 886, 'where': 7171, 'zhong': 7412, 'se': 5706, 'qing': 5285, 'ask': 1057, 'b4': 1135, 'll': 3986, 'can': 1562, 'act': 765, 'real': 5361, 'thanks': 6521, 'for': 2814, 'hope': 3339, 'had': 3155, 'good': 3049, 'today': 6647, 'its': 3598, 'laptop': 3841, 'take': 6410, 'im': 3450, 'gonna': 3047, 'miss': 4312, 'dear': 2102, 'reached': 5354, 'railway': 5313, 'happen': 3188, 'at': 1078, 'bruce': 1465, 'downs': 2328, 'amp': 913, 'fletcher': 2765, 'simply': 5911, 'sitting': 5933, 'watching': 7088, 'match': 4193, 'office': 4688, 'many': 4169, 'people': 4923, 'seems': 5732, 'special': 6091, 'sight': 5895, 'only': 4730, 'very': 6970, 'few': 2694, 'remain': 5440, 'till': 6610, 'maintain': 4144, 'them': 6537, 'ends': 2473, 'sh': 5791, 'jas': 3632, 'are': 1013, 'gorgeous': 3063, 'keep': 3736, 'those': 6571, 'pix': 5003, 'cumming': 2024, 'thank': 6520, 'symptoms': 6393, 'love': 4053, 'like': 3940, 'listening': 3972, 'songs': 6050, 'get': 2984, 'stopped': 6220, 'see': 5725, 'name': 4484, 'beloved': 1260, 'won': 7257, 'angry': 930, 'gobi': 3031, 'arts': 1047, 'college': 1823, 'hi': 3281, 'better': 1273, 'night': 4574, 'says': 5669, 'give': 3009, 'his': 3295, 'friend': 2880, 'money': 4370, 'definitely': 2134, 'buying': 1515, 'before': 1240, 'end': 2468, 'we': 7105, 'tried': 6746, 're': 5351, 'reply': 5472, 'sms': 5998, 'video': 6977, 'mobile': 4345, '750': 594, 'mins': 4300, 'unlimited': 6869, 'text': 6503, 'free': 2857, 'camcorder': 1556, '08000930705': 49, 'also': 889, 'didnt': 2210, 'na': 4474, 'nice': 4566, 'talking': 6421, 'please': 5029, 'forget': 2822, 'sorry': 6060, 'misbehaved': 4308, 'hurt': 3402, 'plz': 5042, 'just': 3703, 'slap': 5955, 'urself': 6914, 'bcoz': 1212, 'fault': 2666, 'basically': 1187, 'right': 5533, 'ahmad': 839, '18': 303, 'days': 2091, 'euro2004': 2532, 'kickoff': 3756, 'kept': 3742, 'informed': 3510, 'latest': 3855, 'news': 4559, 'results': 5507, 'daily': 2058, 'unsubscribe': 6879, 'send': 5752, 'euro': 2531, '83222': 639, 'no': 4592, 'break': 1425, 'stuff': 6263, 'fr': 2847, 'round': 5575, 'has': 3209, 'been': 1235, 'screamed': 5696, 'princess': 5190, 'jus': 3702, 'finished': 2735, 'avatar': 1112, 'nigro': 4578, 'ya': 7343, 'onion': 4727, 'roast': 5551, 'facebook': 2620, 'huh': 3388, 'her': 3267, 'she': 5816, 'message': 4263, 'darlin': 2073, 'ive': 3604, 'back': 1148, 'tomorrow': 6667, 'xxx': 7335, 'shaking': 5801, 'booty': 1375, 'dance': 2062, 'floor': 2777, 'planned': 5015, 'yet': 7372, 'join': 3669, 'company': 1845, 'jan': 3624, 'after': 816, 'whats': 7162, 'house': 3364, 'again': 823, 'beer': 1236, 'there': 6543, 'polyphonic': 5079, 'ringtone': 5541, 'super': 6331, '87131': 663, 'poly': 5074, 'tone': 6669, '16': 299, 'sn': 6003, 'pobox202': 5051, 'nr31': 4641, '7zs': 612, 'subscription': 6284, '450pw': 483, 'birthday': 1307, 'feb': 2676, 'lt': 4073, 'gt': 3127, 'da': 2051, 'later': 3854, 'meanwhile': 4227, 'shit': 5837, 'suite': 6308, 'xavier': 7326, 'decided': 2112, 'seconds': 5715, 'warning': 7074, 'samantha': 5636, 'coming': 1838, 'over': 4805, 'playing': 5025, 'jay': 3635, 'guitar': 3140, 'impress': 3469, 'doug': 2321, 'realizes': 5369, 'here': 3268, 'anymore': 959, 'collecting': 1820, 'configure': 1875, 'settings': 5776, 'izzit': 3609, 'somewhere': 6044, 'head': 3229, 'up': 6884, 'usf': 6925, 'fifteen': 2705, 'minutes': 4303, 'urgent': 6904, 'number': 4649, 'awarded': 1126, '2000': 330, 'bonus': 1364, 'caller': 1546, 'prize': 5198, '09058095201': 173, 'land': 3829, 'line': 3953, 'valid': 6941, '12hrs': 273, 'bus': 1501, 'home': 3326, 'hey': 3277, 'ic': 3423, 'lotta': 4044, 'childporn': 1709, 'cars': 1601, 'chile': 1712, 'decimal': 2114, 'hour': 3362, 'drive': 2345, 'down': 2323, 'subletting': 6275, 'audition': 1095, 'season': 5710, 'doubt': 2320, 'could': 1946, 'handle': 3176, 'times': 6613, 'per': 4924, 'case': 1603, 'cool': 1921, 'fun': 2915, 'practicing': 5139, 'making': 4150, 'babies': 1142, 'slept': 5962, 'sister': 5926, 'earn': 2399, 'more': 4386, 'than': 6517, 'sent': 5760, 'phone': 4966, 'display': 2259, 'texts': 6514, 'currently': 2030, 'scotland': 5689, 'lol': 4010, 'remember': 5443, 'til': 6609, 'nite': 4586, 'sunshine': 6328, 'quiz': 5300, 'wkly': 7240, 'top': 6688, 'sony': 6051, 'dvd': 2387, 'player': 5022, 'which': 7177, 'country': 1950, 'algarve': 868, 'ansr': 946, '82277': 634, '50': 511, 'sp': 6081, 'tyrone': 6813, 'wonders': 7263, 'world': 7280, '7th': 610, '6th': 583, 'style': 6268, '5th': 539, 'smile': 5989, '4th': 503, 'personality': 4944, '3rd': 448, 'nature': 4506, '2nd': 386, '1st': 317, 'lovely': 4055, 'friendship': 2883, 'morning': 4390, 'masters': 4191, 'buy': 1513, 'bb': 1201, 'cos': 1934, 'sale': 5628, 'bf': 1280, 'breeze': 1434, 'bright': 1439, 'sun': 6321, 'fresh': 2872, 'flower': 2781, 'twittering': 6795, 'birds': 1302, 'waiting': 7044, 'goodmorning': 3054, 'grand': 3088, 'bit': 1309, 'party': 4877, 'doesn': 2286, 'mention': 4253, 'charge': 1659, 'probably': 5202, 'served': 5769, 'pls': 5037, 'confirm': 1876, 'collect': 1818, 'cheque': 1692, 'bugis': 1486, 'wat': 7084, 'walking': 7052, 'oredi': 4770, 'oso': 4781, 'saw': 5665, 'dat': 2080, 'din': 2229, 'brand': 1417, 'new': 4554, 'being': 1252, 'an': 921, 'agent': 828, 'mob': 4343, 'loads': 3992, 'goodies': 3052, 'info': 3507, 'mat': 4192, '87021': 658, 'pick': 4978, 'fone': 2802, 'dumb': 2376, 'wil': 7199, 'cal': 1533, 'sir': 5924, 'okay': 4702, 'ah': 834, 'tmr': 6635, 'maybe': 4213, 'meet': 4234, 'yck': 7356, 'ill': 3448, 'yours': 7391, 'about': 731, 'look': 4021, 'takin': 6414, 'shower': 5869, 'yeah': 7357, 'leave': 3888, 'done': 2305, 'studyn': 6262, 'library': 3923, 'wot': 7291, 'bitch': 1310, 'newest': 4556, 'harry': 3208, 'potter': 5122, 'order': 4767, 'phoenix': 4965, 'book': 1367, 'answer': 947, 'questions': 5294, 'among': 909, 'readers': 5357, 'official': 4689, 'england': 2480, 'colour': 1825, 'flag': 2757, 'yer': 7368, 'tonights': 6676, 'game': 2940, '84199': 647, 'optout': 4759, 'eng': 2476, 'box39822': 1400, 'w111wx': 7023, 'should': 5861, 'ish': 3583, 'ma': 4109, 'way': 7100, 'school': 5680, 'ashley': 1055, 'aight': 843, 'hai': 3160, 'friends': 2881, 'present': 5170, 'rajitha': 5321, 'raj': 5317, 'ranju': 5336, 'mentor': 4255, 'percent': 4925, 'yes': 7369, 'plm': 5035, 'ammae': 907, 'takes': 6413, 'lot': 4040, 'turns': 6786, 'sit': 5928, 'try': 6762, 'hold': 3318, 'steering': 6194, 'found': 2842, 'diff': 2216, 'farm': 2655, 'shop': 5849, 'cheese': 1688, 'piggy': 4990, 'awake': 1124, 'bet': 1270, 'sleeping': 5959, 'lunch': 4083, 'theory': 6542, 'argument': 1023, 'wins': 7215, 'situation': 5934, 'loses': 4036, 'argue': 1021, 'kick': 3755, 'correct': 1930, 'accordingly': 753, 'repeat': 5465, 'word': 7272, 'camera': 1558, 'sipix': 5922, 'digital': 2224, '09061221066': 183, 'fromm': 2897, 'landline': 3831, 'delivery': 2148, 'within': 7231, '28': 358, 'ugh': 6819, 'fuck': 2904, 'resubbing': 5504, 'eve': 2537, 'aiyah': 851, 'lar': 3842, 'nydc': 4662, 'wheellock': 7166, 'hello': 3255, 'wats': 7095, 'talks': 6422, 'email': 2455, 'address': 783, 'job': 3662, 'umma': 6831, 'speed': 6099, 'opinion': 4748, 'jada': 3617, 'kusruthi': 3803, 'lovable': 4052, 'silent': 5903, 'spl': 6116, 'character': 1657, 'matured': 4206, 'stylish': 6271, 'simple': 5909, 'dare': 2068, 'stupid': 6267, 'wont': 7264, 'hear': 3239, 'talk': 6418, 'great': 3104, 'deal': 2098, 'tour': 6708, '9am': 707, '5pm': 538, '95': 699, 'pax': 4897, 'deposit': 2164, 'may': 4211, 'someone': 6034, 'fancies': 2648, '09058097218': 175, 'find': 2729, 'pobox': 5046, 'ls15hb': 4071, '150p': 289, 'sign': 5896, 'well': 7140, 'track': 6714, 'record': 5397, 'reading': 5359, 'women': 7256, 'evening': 2540, 'roger': 5560, 'prices': 5185, 'mean': 4221, 'hot': 3357, 'fantasies': 2651, '08707509020': 82, '20p': 338, 'min': 4287, 'ntt': 4645, 'ltd': 4074, 'po': 5045, 'box': 1393, '1327': 277, 'croydon': 1995, 'cr9': 1965, '5wb': 540, '0870': 67, '09066612661': 226, 'complimentary': 1858, 'lux': 4089, 'costa': 1937, 'del': 2140, 'sol': 6026, 'holiday': 3321, '1000': 241, 'cash': 1604, 'await': 1122, 'collection': 1821, 'ppm': 5133, '150': 287, 'sae': 5619, 'james': 3621, 'eh74rr': 2438, 'meant': 4226, 'getting': 2992, 'bored': 1377, 'bridgwater': 1438, 'banter': 1173, 'di': 2197, 'closer': 1774, 'tyler': 6809, 'two': 6796, 'trips': 6749, 'personal': 4943, 'sized': 5938, 'winner': 7213, 'ave': 1114, 'specially': 6095, 'selected': 5739, 'receive': 5385, 'flights': 2769, 'inc': 3478, 'speak': 6089, 'operator': 4747, 'claim': 1743, '0871277810710p': 104, 'jamster': 3622, 'wallpaper': 7056, 'heart': 3243, '88888': 677, 'apply': 988, 'help': 3258, '08701213186': 70, 'thru': 6590, 'different': 2220, 'feeling': 2682, 'wavering': 7098, 'decisions': 2116, 'coping': 1924, 'individual': 3501, 'heal': 3235, 'everything': 2554, 'believe': 1253, 'credits': 1982, 'topped': 6691, 'http': 3381, 'bubbletext': 1476, 'renewal': 5456, 'pin': 4995, 'tgxxrz': 6515, 'posh': 5101, 'chaps': 1656, 'user': 6923, 'trial': 6745, 'prods': 5211, 'champneys': 1649, 'put': 5275, 'dob': 2274, 'asap': 1052, 'ta': 6398, 'mail': 4139, 'relatives': 5430, 'deliver': 2145, 'costs': 1939, 'risks': 5546, 'benefits': 1265, 'else': 2452, 'dis': 2245, 'yijue': 7377, 'happy': 3198, 'wif': 7194, 'gek1510': 2971, 'search': 5708, 'hoping': 3346, 'away': 1127, 'langport': 3835, 'town': 6710, 'tonight': 6675, 'another': 944, 'biz': 1314, 'polo': 5073, '373': 432, 'london': 4014, 'w1j': 7026, '6hl': 576, 'busy': 1507, 'inside': 3526, 'outside': 4799, 'bedroom': 1232, 'sexy': 5786, 'cum': 2023, 'wet': 7156, 'warm': 7071, 'ready': 5360, 'porn': 5095, 'msg': 4419, 'recd': 5382, 'msgs': 4424, 'vat': 6954, 'cancel': 1566, 'petey': 4953, 'boy': 1404, 'whereare': 7172, 'friendsare': 2882, 'thekingshead': 6536, 'canlove': 1570, 'nic': 4565, 'watch': 7085, 'tv': 6788, 'until': 6882, 'check': 1679, 'guess': 3134, 'might': 4279, 'car': 1579, 'mum': 4445, 'leh': 3900, 'reach': 5352, 'movies': 4410, 've': 6958, 'him': 3289, 'returned': 5514, 'too': 6679, 'surya': 6358, 'movie': 4409, 'pm': 5043, 'vijay': 6981, 'pokkiri': 5069, 'toyota': 6712, 'camry': 1561, 'mr': 4414, 'olayiwola': 4711, 'own': 4817, 'mileage': 4282, 'clean': 1757, 'sell': 5744, 'raise': 5316, 'dough': 2322, 'soon': 6054, 'landing': 3830, 'holla': 3322, 'actually': 775, 'nvm': 4656, 'hella': 3254, 'luck': 4078, '28th': 361, '06': 19, 'removal': 5453, '87239': 666, 'services': 5772, '08708034412': 85, 'others': 4784, 'early': 2398, 'activate': 770, 'messages': 4265, 'replying': 5473, 'terms': 6490, 'conditions': 1870, 'visit': 6994, '07781482378': 29, 'flaked': 2758, 'seriously': 5768, 'goin': 3037, 'roommate': 5569, 'booked': 1368, 'ticket': 6600, 'pongal': 5081, 'al': 856, 'above': 733, 'paper': 4850, 'morn': 4388, 'aft': 815, 'something': 6039, 'thats': 6529, 'came': 1557, 'flat': 2761, '50s': 524, 'alot': 885, 'wiv': 7235, 'woman': 7254, '30': 404, 'trying': 6764, 'contact': 1895, 'todays': 6648, 'shows': 5875, '800': 614, 'guaranteed': 3130, '09050001808': 157, 'm95': 4108, 'valid12hrs': 6942, 'kate': 3729, 'jackson': 3615, 'rec': 5381, 'center': 1635, '7ish': 606, 'private': 5196, '2004': 332, 'account': 754, 'statement': 6179, '078498': 38, '786': 602, 'unredeemed': 6874, 'points': 5066, '08719180219': 140, 'identifier': 3434, 'code': 1805, '45239': 484, 'expires': 2597, '05': 16, 'allo': 879, 'braved': 1420, 'buses': 1503, 'taken': 6412, 'trains': 6721, 'triumphed': 6750, 'ham': 3172, 'jolly': 3676, 'rest': 5501, 'sary': 5652, 'tim': 6611, 'bollox': 1360, 'tol': 6657, 'bangbabes': 1168, 'service': 5771, 'download': 2324, 'content': 1899, 'goto': 3070, 'wap': 7069, 'bangb': 1167, 'internet': 3548, 'menu': 4256, 'issue': 3589, 'weigh': 7130, 'breathe': 1431, 'easier': 2402, 'make': 4147, 'regret': 5424, 'looking': 4025, 'forward': 2839, 'sex': 5783, 'cuddling': 2019, 'sleeps': 5960, 'fixed': 2754, 'test': 6498, 'wipro': 7217, 'every': 2545, 'thing': 6555, 'years': 7359, 'auction': 1093, 'nokia': 4600, '7250': 588, 'part': 4869, '86021': 654, 'initiate': 3514, 'understand': 6848, 'checked': 1680, 'argh': 1020, '3g': 440, 'spotty': 6137, 'anyway': 968, 'research': 5484, 'province': 5243, 'sterling': 6196, 'were': 7147, 'places': 5009, 'looked': 4023, 'said': 5623, 'woke': 7252, 'request': 5479, 'melle': 4241, 'oru': 4778, 'minnaminunginte': 4298, 'nurungu': 4652, 'vettam': 6971, 'set': 5774, 'callertune': 1548, 'callers': 1547, 'press': 5174, 'copy': 1926, 'sleep': 5957, 'bhaji': 1283, 'kallis': 3719, 'best': 1268, 'cricketer': 1987, 'sachin': 5614, 'tough': 6706, 'chennai': 1691, 'settled': 5778, 'yah': 7344, 'never': 4551, 'haha': 3158, 'able': 729, 'happened': 3190, 'interview': 3549, 'loan': 3993, 'purpose': 5269, '75': 593, '000': 1, 'homeowners': 3327, 'tenants': 6483, 'welcome': 7138, 'previously': 5182, 'refused': 5415, '0800': 45, '1956669': 308, 'rimac': 5538, 'access': 745, 'xmas': 7330, 'radio': 5308, 'taj': 6408, 'mahal': 4135, 'symbol': 6391, 'lesser': 3911, 'known': 3787, 'facts': 2624, 'mumtaz': 4449, 'shahjahan': 5797, 'wifes': 7196, 'killed': 3764, 'husband': 3405, 'marry': 4183, 'died': 2212, 'th': 6516, 'married': 4182, 'question': 5292, 'arises': 1027, 'hell': 3253, 'hari': 3204, 'rain': 5314, 'quite': 5298, 'big': 1289, 'drizzling': 2349, 'least': 3886, 'run': 5604, 'next': 4562, '1030': 247, 'basic': 1186, 'yoga': 7380, 'course': 1956, 'pilates': 4991, 'intro': 3555, 'sat': 5654, 'gave': 2959, '5000': 513, '09050090044': 160, 'toclaim': 6646, 'tc': 6446, 'pobox334': 5052, 'stockport': 6208, 'sk38xh': 5940, 'cost': 1936, 'max10mins': 4208, 'searching': 5709, 'dual': 2366, 'sim': 5907, 'pa': 4823, 'reaching': 5355, 'stops': 6221, 'network': 4548, 'urgnt': 6907, 'maid': 4138, 'murderer': 4453, 'coz': 1962, 'murdered': 4452, 'january': 3628, 'public': 5254, 'govt': 3075, 'instituitions': 3535, 'closed': 1773, 'including': 3483, 'post': 5112, 'posted': 5116, '645': 555, 'east': 2404, 'coast': 1796, 'finish': 2733, 'str': 6229, 'ard': 1012, 'smth': 6002, 'wun': 7319, 'signing': 5900, 'hee': 3248, 'wk': 7236, 'hols': 3324, 'hairdressers': 3164, 'appointment': 991, 'four': 2844, 'beforehand': 1241, 'does': 2284, 'cause': 1616, 'prob': 5201, 'selflessness': 5743, 'plenty': 5034, 'dream': 2335, 'partner': 4874, 'career': 1586, 'flyng': 2788, 'start': 6171, 'horo': 3349, 'followed': 2796, 'star': 6166, 'aries': 1025, 'sickness': 5891, 'easy': 2407, 'feel': 2680, 'update_now': 6888, 'offer': 4684, 'motorola': 4402, 'sonyericsson': 6052, 'bluetooth': 1348, 'double': 2318, 'orange': 4764, 'mobileupd8': 4349, '08000839402': 48, 'call2optout': 1540, 'f4q': 2615, 'secured': 5723, 'unsecured': 6875, 'credit': 1980, '195': 307, '6669': 559, 'isn': 3587, 'decision': 2115, 'decide': 2111, 'simpler': 5910, 'less': 3910, 'magical': 4132, 'dad': 2054, 'hurry': 3401, 'dun': 2378, 'gf': 2994, 'directly': 2239, 'calicut': 1536, '80488': 624, 'honey': 3330, 'predicte': 5154, 'nigeria': 4572, 'used': 6920, 'important': 3465, 'monday': 4368, 'move': 4406, 'morphine': 4392, 'lab': 3813, 'goggles': 3035, '0776xxxxxxx': 28, 'invited': 3560, 'xchat': 7327, 'final': 2724, 'attempt': 1088, 'chat': 1670, '86688': 656, 'msgrcvdhg': 4423, 'suite342': 6309, '2lands': 377, 'row': 5579, 'w1j6hl': 7027, 'ldn': 3875, '18yrs': 306, 'once': 4722, 'shant': 5807, 'disturb': 2262, 'jia': 3657, 'yo': 7379, 'dats': 2086, 'straight': 6230, 'dogg': 2290, 'tired': 6619, 'travel': 6733, 'lions': 3963, 'lionm': 3961, 'mono': 4375, 'lionp': 3962, 'ringtones': 5543, 'co': 1794, 'uk': 6824, 'original': 4774, 'tones': 6670, '3gbp': 441, 'rates': 5339, 'earlier': 2396, 'meeting': 4236, 'swoop': 6386, 'picking': 4980, 'wherever': 7173, 'result': 5506, 'consistently': 1891, 'intelligent': 3538, 'kind': 3767, 'asking': 1061, 'practicum': 5140, 'links': 3959, 'ears': 2400, 'open': 4741, 'ttyl': 6772, 'dismissial': 2258, 'haven': 3221, 'eh': 2437, 'gandhipuram': 2943, 'cross': 1992, 'cut': 2039, 'road': 5549, 'side': 5892, 'street': 6235, 'turn': 6783, 'apo': 977, 'most': 4395, 'sleepwell': 5961, 'care': 1583, 'staying': 6186, 'wisdom': 7219, 'teeth': 6465, 'hidden': 3282, 'mayb': 4212, 'remove': 5454, 'breather': 1432, 'promise': 5225, 'granted': 3093, 'fulfil': 2911, 'wonderful': 7261, 'blessing': 1330, 'valued': 6945, 'frnds': 2890, 'evn': 2558, 'comes': 1834, 'luv': 4087, 'ignore': 3442, 'lose': 4034, 'evr': 2562, 'phone750': 4967, 'anytime': 967, 'five': 2751, 'pounds': 5125, '08000776320': 47, 'konw': 3792, 'waht': 7040, 'rael': 5310, 'gving': 3147, 'yuo': 7403, 'exmpel': 2586, 'jsut': 3690, 'ese': 2518, 'tihs': 6607, 'evrey': 2563, 'splleing': 6122, 'wrnog': 7308, 'bt': 1472, 'sitll': 5930, 'raed': 5309, 'wihtuot': 7198, 'ayn': 1134, 'mitsake': 4324, 'goodnight': 3055, 'sweet': 6374, 'dreams': 2336, 'wan': 7060, 'stay': 6183, 'meh': 4238, 'dunno': 2380, 'show': 5867, '850': 650, 'toa': 6642, 'payoh': 4906, '650': 557, 'howz': 3372, 'pain': 4834, 'fine': 2731, 'accidentally': 749, 'deleted': 2143, 'resend': 5485, 'unsold': 6876, 'date': 2082, 'giving': 3012, 'calling': 1551, '08719839835': 145, 'future': 2925, 'mgs': 4274, 'billed': 1294, '89123': 682, '07742676969': 26, '08719180248': 141, 'bad': 1149, 'girl': 3003, 'zoe': 7414, 'hit': 3297, 'fucking': 2907, 'shitin': 5838, 'myself': 4470, 'il': 3447, 'defo': 2136, 'hardest': 3202, '2morow': 380, 'millions': 4285, 'lekdog': 3902, 'requirements': 5482, 'wearing': 7111, 'blue': 1347, 'shirt': 5835, 'black': 1316, 'pants': 4847, 'little': 3977, 'child': 1707, 'afraid': 813, 'dark': 2069, 'become': 1228, 'teenager': 6464, 'wants': 7068, 'addie': 781, 'goes': 3034, 'sucks': 6296, 'announcement': 939, 'freephone': 2865, '542': 532, '0825': 59, 'thk': 6566, 'drug': 2356, 'eating': 2411, 'esplanade': 2522, 'club': 1780, 'choose': 1726, 'quality': 5287, 'items': 3595, '7cfca1a': 605, 'joy': 3684, 'father': 2663, 'john': 3668, 'mandan': 4161, 'possibility': 5109, 'pub': 5253, 'cup': 2025, 'tease': 6458, 'cry': 2000, 'rose': 5572, 'grave': 3097, 'bslvyl': 1468, 'weird': 7134, 'timing': 6615, 'smoke': 5993, 'shitstorm': 5841, 'attributed': 1092, 'everyone': 2550, 'players': 5023, 'allowed': 881, 'play': 5020, 'hows': 3370, 'resizing': 5490, 'mm': 4331, 'wishing': 7225, 'beautiful': 1223, 'each': 2393, 'moment': 4364, 'revealing': 5519, 'smiling': 5991, 'enjoy': 2482, 'iam': 3414, 'addicted': 780, 'msging': 4421, 'wrong': 7309, 'dirty': 2244, 'fellow': 2687, 'xy': 7341, 'eat': 2408, 'havent': 3222, 'laid': 3824, 'dogging': 2291, 'locations': 3997, 'direct': 2238, 'largest': 3846, 'txting': 6803, 'gravel': 3098, '69888': 571, 'ec2a': 2413, '31p': 419, 'leaves': 3889, 'garden': 2950, 'summer': 6317, 'selection': 5740, 'bulbs': 1490, 'seeds': 5726, '33': 424, 'scotsman': 5690, 'saturday': 5658, 'go2': 3027, 'notxt': 4633, 'means': 4225, 'teju': 6466, 'add': 778, 'nuerologist': 4647, 'liao': 3921, 'family': 2644, 'happiness': 3197, 'valentines': 6940, 'proof': 5231, 'fb': 2673, 'page': 4830, 'glad': 3013, 'rupaul': 5607, 'tool': 6682, 'mind': 4289, 'hand': 3174, 'wit': 7228, 'called': 1545, 'alrite': 888, 'sam': 5635, 'checkin': 1681, 'unless': 6868, 'kinda': 3768, 'joke': 3672, 'thet': 6549, 'skinny': 5945, 'white': 7181, 'girls': 3006, 'casting': 1607, 'noe': 4596, 'files': 2715, 'between': 1275, 'computers': 1862, 'gautham': 2957, 'lil': 3945, 'fever': 2693, 'fuckin': 2906, 'skyped': 5951, 'kz': 3805, 'sura': 6345, 'pleasure': 5032, 'given': 3010, 'ultimatum': 6829, 'countin': 1949, 'aburo': 738, 'ago': 832, 'gosh': 3064, 'spose': 6135, 'wud': 7316, 'wen': 7143, 'persons': 4945, '200': 329, 'award': 1125, 'cashto': 1606, '08000407165': 46, 'getstop': 2990, '88222': 672, 'php': 4973, 'rg21': 5525, '4jx': 499, 'shd': 5815, 'minus': 4301, '10': 239, 'paragraphs': 4857, 'alone': 883, 'kanji': 3724, 'heavy': 3247, 'orchard': 4766, 'laready': 3844, 'raining': 5315, 'non': 4605, 'elsewhere': 2453, 'gift': 2997, 'alian': 872, 'loving': 4061, 'kiss': 3774, 'byatch': 1525, 'whassup': 7159, 'looks': 4026, 'scrumptious': 5701, 'daddy': 2055, 'especially': 2521, 'boston': 1383, 'woulda': 7296, 'changed': 1653, 'realized': 5368, 'nyc': 4661, 'babe': 1140, 'online': 4728, 'second': 5713, 'disappeared': 2246, 'eyes': 2614, 'philosophy': 4963, '11': 252, 'months': 4382, 'entitled': 2498, 'update': 6887, 'mobiles': 4346, '08002986030': 52, 'month': 4379, 'games': 2941, 'sport': 6132, '20': 328, 'photo': 4971, 'ow': 4814, 'weeks': 7129, 'savamob': 5661, 'member': 4245, 'offers': 4687, 'accessible': 746, '08709501522': 88, 'details': 2181, '139': 278, 'la3': 3812, '2wu': 401, 'torch': 6694, '9ja': 708, 'no1': 4593, '87077': 661, 'mates': 4197, 'zed': 7410, '36504': 430, 'w45wq': 7030, 'norm150p': 4616, 'convey': 1912, 'regards': 5420, 'helloooo': 3257, 'wake': 7045, 'welcomes': 7139, 'full': 2912, 'mrng': 4416, 'gone': 3046, '4the': 504, 'driving': 2348, 'pay': 4898, 'lakhs': 3825, 'friday': 2876, 'stoners': 6213, 'wating': 7093, 'yup': 7405, 'short': 5853, 'failed': 2628, 'except': 2572, 'theres': 6544, 'chick': 1701, 'huge': 3385, 'boobs': 1366, 'bout': 1390, 'almost': 882, 'noon': 4609, 'pound': 5123, '08712402050': 97, 'lines': 3956, 'close': 1771, '10ppm': 251, 'ag': 822, 'promo': 5227, 'buzz': 1518, 'together': 6651, 'kitty': 3777, 'shaved': 5813, 'natural': 4505, 'took': 6680, 'hooch': 3335, 'toaday': 6643, 'fell': 2686, 'splat': 6119, 'grazed': 3102, 'knees': 3781, 'stayed': 6184, 'wah': 7035, 'lucky': 4080, 'save': 5662, 'balance': 1159, 'maximize': 4210, 'cc': 1622, '08718720201': 127, 'hg': 3279, 'den': 2152, 'kb': 3733, 'charged': 1660, 'mesages': 4261, 'hurts': 3404, 'mu': 4434, 'stuck': 6253, 'guys': 3145, 'sunoco': 6325, 'howard': 3367, 'linear': 3954, 'algebra': 869, 'lap': 3839, 'room': 5567, 'shut': 5885, 'freemsg': 2864, 'fav': 2667, 'jeans': 3642, 'sathya': 5655, 'single': 5919, 'mmmmm': 4334, 'loved': 4054, 'waking': 7046, 'yep': 7367, 'program': 5218, 'slacking': 5954, '27': 357, '03': 13, '08714714011': 110, 'voucher': 7015, 'holder': 3319, 'pc': 4908, 'tlp': 6632, 'expressoffer': 2607, '80062': 616, 'alright': 887, 'omw': 4719, 'gotta': 3071, 'change': 1652, 'half8th': 3167, 'connection': 1886, 'bw': 1520, 'dude': 2370, 'fake': 2634, 'thts': 6593, 'reffering': 5409, 'link': 3958, 'vl': 7001, 'credited': 1981, 'rs': 5586, 'getiing': 2986, 'acc': 742, 'jane': 3626, 'babes': 1141, 'wrk': 7304, 'lst': 4072, 'foned': 2803, 'chuck': 1735, 'thx': 6597, 'running': 5605, 'admit': 790, 'correction': 1931, 'let': 3914, 'lets': 3915, 'hadn': 3156, 'clocks': 1769, 'shouted': 5863, 'realised': 5364, 'wahay': 7036, 'bed': 1230, 'torture': 6697, 'anthony': 953, 'bringing': 1445, 'fees': 2684, 'rent': 5459, 'tel': 6467, 'software': 6024, 'received': 5387, 'shopping': 5851, 'arrive': 1041, 'plan': 5011, 'telugu': 6477, 'abt': 736, 'thought': 6574, 'slide': 5965, 'enough': 2489, 'letter': 3916, 'half': 3166, 'asked': 1059, 'dating': 2085, '09058091854': 164, 'revealed': 5518, 'box385': 1399, 'm6': 4105, '6wu': 585, 'arnt': 1034, 'pissed': 5000, 'id': 3430, 'xxxxxxxxxxxxxx': 7340, 'pocay': 5058, 'wocay': 7251, '4eva': 492, 'ring': 5539, '2morrowxxxx': 383, 'boo': 1365, 'moms': 4366, 'tortilla': 6696, 'soup': 6073, 'yummmm': 7399, 'darren': 2076, 'saying': 5668, 'ge': 2967, 'awkward': 1129, 'ten': 6482, 'ride': 5532, 'bike': 1292, 'leaving': 3890, 'sooner': 6055, 'splashmobile': 6118, '1000s': 243, 'gr8': 3079, 'subscrition': 6287, 'costing': 1938, '300p': 409, 'toshiba': 6699, 'portege': 5099, 'm100': 4099, 'gd': 2965, 'crucial': 1996, 'sometimes': 6041, 'makes': 4148, 'shall': 5802, 'jesus': 3653, 'christ': 1731, 'drugs': 2358, 'xin': 7329, 'hostel': 3355, 'sweetheart': 6376, 'reasons': 5376, 'biola': 1300, 'perhaps': 4932, 'identification': 3433, 'uni': 6859, 'baby': 1143, 'inner': 3518, 'tigress': 6606, 'chikku': 1706, 'habba': 3153, 'hw': 3411, 'thanx': 6525, 'screaming': 5697, 'shouting': 5864, 'plane': 5012, 'contract': 1905, 'either': 2443, '09066361921': 215, 'discount': 2250, 'rp176781': 5582, 'further': 2924, 'regalportfolio': 5417, '08717205546': 122, 'spoil': 6123, 'marvel': 4186, 'ultimate': 6827, 'spider': 6109, '83338': 641, '8ball': 688, 'feelin': 2681, 'pete': 4951, 'wuld': 7318, 'em': 2454, 'nuther': 4654, 'fredericksburg': 2856, 'price': 5184, 'linerental': 3955, 'lf56': 3919, 'tat': 6436, 'cd': 1625, 'apeshit': 974, 'stand': 6162, 'tiwary': 6626, 'rcb': 5346, 'battle': 1198, 'bang': 1166, 'kochi': 3791, 'hahaha': 3159, 'brain': 1412, 'sac': 5613, 'needs': 4530, 'carry': 1600, 'raping': 5337, 'dudes': 2371, 'poker': 5067, 'wa': 7031, 'openin': 4744, 'sentence': 5761, 'formal': 2830, 'tt': 6771, 'eatin': 2410, 'puttin': 5277, 'weight': 7132, 'anythin': 964, 'old': 4712, 'high': 3285, 'lk': 3984, 'cine': 1737, 'yogasana': 7381, 'monkey': 4372, 'face': 2619, 'asshole': 1068, 'lookin': 4024, 'saucy': 5659, 'daytime': 2092, 'busty': 1506, 'sort': 6061, '09099726429': 235, 'janinexx': 3627, 'calls': 1552, 'minmobsmorelkpobox177hp51fl': 4296, 'hun': 3392, 'onbus': 4721, '2go': 373, '4a': 490, 'meal': 4219, 'donyt': 2312, 'cuz': 2046, 'hes': 3273, 'latelyxxx': 3853, 'mths': 4429, 'phones': 4969, 'weekend': 7126, 'callback': 1541, 'orno': 4775, 'opt': 4754, 'fyi': 2928, 'swing': 6382, 'whenever': 7168, 'snow': 6014, 'noooooooo': 4610, 'stress': 6236, 'fair': 2632, 'pic': 4977, 'greetings': 3112, 'consider': 1889, 'yourself': 7392, 'excused': 2577, 'read': 5356, 'exams': 2570, 'tix': 6627, 'goods': 3059, 'indians': 3499, 'poor': 5088, 'india': 3497, 'swiss': 6383, 'bank': 1170, 'directors': 2241, 'lac': 3815, 'crore': 1991, 'indian': 3498, 'deposited': 2165, 'banks': 1171, 'taxless': 6442, 'budget': 1481, 'yrs': 7397, 'jobs': 3663, 'village': 6985, 'delhi': 2144, 'lane': 3834, 'roads': 5550, 'forever': 2819, 'power': 5129, 'suply': 6335, 'social': 6021, 'projects': 5222, 'citizen': 1739, 'monthly': 4380, 'imf': 3455, 'blocked': 1334, 'rich': 5531, 'politicians': 5072, 'rights': 5536, 'against': 824, 'corrupt': 1932, 'itna': 3596, 'karo': 3728, 'ki': 3753, 'pura': 5264, 'padhe': 4829, 'textand': 6505, '08002988890': 54, 'salt': 5634, 'rub': 5592, 'wounds': 7298, 'confirmed': 1878, 'slaaaaave': 5953, 'must': 4458, 'summon': 6319, 'okie': 4705, 'hmmm': 3307, 'hop': 3338, 'muz': 4462, 'discuss': 2252, 'train': 6718, 'worc': 7271, 'foregate': 2817, 'shrub': 5879, 'hill': 3287, 'laugh': 3858, 'embarassed': 2457, 'delete': 2142, 'tag': 6404, 'far': 2654, 'knew': 3782, 'wasn': 7079, 'fact': 2622, 'felt': 2688, 'messy': 4269, 'wednesday': 7121, 'skype': 5950, 'pictures': 4985, 'throw': 6585, 'laundry': 3862, 'because': 1226, 'underwear': 6851, 'bras': 1419, 'strewn': 6240, 'pillows': 4993, 'kicks': 3757, 'birth': 1305, '8lb': 689, '7oz': 608, 'mother': 4397, 'brilliantly': 1442, 'ericsson': 2510, 'cannot': 1573, 'totally': 6702, 'rejected': 5427, 'steve': 6197, 'mate': 4196, 'boss': 1382, 'cheaper': 1675, 'telling': 6473, 'hoped': 3340, 'regretted': 5425, 'etc': 2527, 'imin': 3456, 'dontmatter': 2310, 'urgoin': 6908, 'outl8r': 4796, 'reallyneed': 5371, '2docd': 368, 'dontplease': 2311, 'dontignore': 2309, 'mycalls': 4466, 'thecd': 6534, 'isv': 3591, 'tome': 6663, '2moro': 379, 'collected': 1819, 'password': 4885, 'mix': 4326, '85069': 652, 'verify': 6967, 'usher': 6926, 'britney': 1450, 'fml': 2790, '5249': 527, 'mk17': 4328, '92h': 698, '450ppw': 482, 'excuse': 2576, 'fujitsu': 2909, 'series': 5766, 'lifebook': 3930, 'crucify': 1997, 'spook': 6129, 'halloween': 3171, 'logo': 4006, 'eerie': 2429, 'card': 1580, '8007': 617, '08701417012150p': 73, 'hon': 3328, 'vikky': 6982, 'otside': 4787, 'nw': 4658, 'tht': 6592, 'art': 1045, 'value': 6944, 'brings': 1446, 'afternoon': 818, 'faith': 2633, 'spoons': 6131, '83600': 644, '114': 256, '14': 279, 'tcr': 6447, 'w1': 7022, 'waqt': 7070, 'pehle': 4916, 'naseeb': 4495, 'zyada': 7418, 'kisi': 3773, 'ko': 3790, 'kuch': 3801, 'nahi': 4480, 'milta': 4286, 'zindgi': 7413, 'wo': 7249, 'jo': 3660, 'hum': 3390, 'sochte': 6020, 'jeetey': 3643, 'wed': 7118, 'wasnt': 7080, 'phoned': 4968, 'rules': 5600, 'happening': 3192, 'showing': 5872, 'responsibility': 5500, 'bend': 1262, 'rule': 5599, 'thia': 6553, 'doesnt': 2287, 'inlude': 3516, 'previews': 5180, 'ruin': 5597, 'thesis': 6547, 'sub': 6273, 'subpoly': 6277, '81618': 631, '08718727870': 135, 'wid': 7192, 'corect': 1927, 'speling': 6102, 'sarcasm': 5648, 'repent': 5467, 'hiya': 3301, 'paying': 4903, 'into': 3553, 'pleasant': 5028, 'surprise': 6353, 'statements': 6180, 'tampa': 6426, 'point': 5065, 'though': 6573, 'ordered': 4768, '81303': 630, 'delivered': 2146, 'sufficient': 6303, 'aiya': 850, 'responsibilities': 5499, 'toot': 6684, 'fringe': 2886, 'os': 4779, 'ubandu': 6816, 'without': 7232, 'installing': 3531, 'hard': 3199, 'disk': 2255, 'system': 6396, 'repair': 5463, 'behind': 1250, 'rows': 5580, 'freaky': 2855, 'bath': 1192, 'sos': 6067, 'amount': 912, 'applebees': 985, 'velly': 6963, '2marrow': 378, 'class': 1752, 'alive': 873, 'figure': 2711, 'itself': 3599, 'cheap': 1674, 'splash': 6117, 'wine': 7210, 'responce': 5495, 'happend': 3189, 'reg': 5416, 'pract': 5136, 'lessons': 3913, 'flung': 2784, 'advance': 798, 'apples': 986, 'pairs': 4837, 'malarky': 4152, 'thinkthis': 6562, 'dangerous': 2066, 'yan': 7349, 'jiu': 3659, 'neft': 4533, 'transaction': 6722, 'reference': 5407, 'beneficiary': 1264, 'realy': 5372, 'soz': 6079, 'imat': 3454, 'mums': 4448, '2nite': 387, 'female': 2689, 'throwing': 6587, 'deciding': 2113, 'doctor': 2280, 'drink': 2341, 'appy': 1001, 'fizz': 2756, 'contains': 1898, 'cancer': 1569, 'causing': 1618, 'age': 825, 'italian': 3593, 'grins': 3113, 'ni8': 4564, 'slp': 5977, 'swt': 6387, 'muah': 4435, '7250i': 589, 'w1jhl': 7028, 'jade': 3618, 'paul': 4894, 'barmed': 1179, 'aslamalaikkum': 1063, 'insha': 3524, 'allah': 875, 'tohar': 6652, 'beeen': 1233, 'muht': 4441, 'albi': 859, 'mufti': 4439, 'mahfuuz': 4137, 'meaning': 4222, 'fall': 2638, 'prone': 5230, 'falls': 2640, 'fetch': 2691, '08714712388': 107, '10am': 248, '7pm': 609, '10p': 250, 'si': 5886, 'como': 1842, 'listened2the': 3970, 'plaid': 5010, 'album': 860, 'air1': 847, 'hilarious': 3286, 'bought': 1388, 'braindance': 1413, 'comp': 1843, 'ofstuff': 4694, 'aphex': 975, 'abel': 724, 'hav2hear': 3218, 'xxxx': 7336, 'project': 5221, 'twins': 6794, 'comin': 1837, 'lect': 3891, 'arm': 1029, 'weak': 7106, 'shot': 5859, 'boltblue': 1361, 'eg': 2433, 'poly3': 5075, 'cha': 1643, 'slow': 5973, 'jamz': 3623, 'toxic': 6711, 'askd': 1058, 'hours': 3363, '0578': 18, 'greatest': 3105, 'courage': 1954, 'earth': 2401, 'bear': 1219, 'defeat': 2130, 'gn': 3022, 'prepare': 5163, 'pleasured': 5033, 'flatter': 2762, 'mine': 4291, 'pints': 4997, 'carlin': 1594, 'fancy': 2649, 'meetin': 4235, 'hav': 3217, 'beverage': 1276, 'l8r': 3807, 'pist': 5001, 'alertfrom': 864, 'jeri': 3649, 'stewartsize': 6198, '2kbsubject': 376, 'low': 4064, 'prescripiton': 5167, 'drvgsto': 2362, '123': 267, 'aah': 716, 'bless': 1328, 'finally': 2726, 'valentine': 6939, 'aren': 1015, 'alle': 878, 'mone': 4369, 'eppolum': 2505, 'pole': 5070, 'allalo': 876, 'wkend': 7237, 'journey': 3683, 'terrible': 6492, 'log': 4002, 'marking': 4179, 'spoken': 6126, 'fast': 2659, 'asleep': 1064, 'near': 4515, 'kalainar': 3717, 'thenampet': 6540, 'touch': 6704, 'permission': 4937, 'nor': 4612, 'mid': 4275, 'neva': 4550, 'cousin': 1959, 'deus': 2185, 'ex': 2566, 'yr': 7396, 'reckon': 5395, 'arrange': 1038, 'transport': 6729, 'castor': 1608, 'anand': 924, 'leg': 3896, 'musta': 4459, 'overdid': 4807, 'mon': 4367, 'practice': 5138, 'usc': 6918, 'payment': 4904, 'portal': 5098, 'explain': 2599, 'carlos': 1595, 'excuses': 2578, 'realize': 5367, '40': 454, 'thousands': 6576, 'ladies': 3819, 'tattoos': 6437, 'weirdo': 7136, 'emigrated': 2462, 'hopeful': 3341, 'jst': 3688, 'tickets': 6601, 'walsall': 7059, 'tue': 6773, 'march': 4173, 'treat': 6738, 'bak': 1156, 'terry': 6495, 'worry': 7285, 'poorly': 5089, 'punishment': 5261, 'worst': 7288, 'brb': 1422, 'kill': 3763, 'rajini': 5320, 'cann': 1571, 'voice': 7005, 'asa': 1051, 'borrow': 1381, 'bag': 1151, 'wanna': 7063, 'chit': 1723, 'logon': 4008, '8883': 675, 'cm': 1786, '4217': 467, 'w1a': 7025, '6zf': 586, '118p': 259, 'rcvd': 5349, 'excited': 2574, 'spend': 6105, 'lyricalladie': 4097, '21': 339, 'inviting': 3561, '910': 696, 'ac': 740, 'hmmross': 3309, 'frnd': 2889, '62468': 552, 'staff': 6157, 'science': 5682, 'nus': 4653, 'edu': 2422, 'sg': 5790, 'phyhcmk': 4975, 'teaching': 6454, 'pc1323': 4909, 'nationwide': 4503, 'auto': 1105, 'centre': 1636, 'newport': 4557, 'liked': 3941, '3d': 438, 'imp': 3461, 'flies': 2767, 'hittng': 3300, 'reflex': 5411, 'toledo': 6659, 'mag': 4128, 'avo': 1119, 'door': 2313, 'shortly': 5858, 'install': 3529, 'browse': 1463, 'artists': 1046, '09061221061': 182, '28days': 360, 'box177': 1395, 'm221bp': 4100, '2yr': 403, 'warranty': 7075, '150ppm': 293, '99': 704, 'garbage': 2949, 'bags': 1152, 'eggs': 2435, 'jam': 3620, 'bread': 1424, 'hannaford': 3185, 'wheat': 7164, 'chex': 1697, 'kidding': 3759, 'papa': 4849, 'delay': 2141, 'spjanuary': 6114, 'male': 4153, 'gay': 2960, '08709222922': 87, 'national': 4502, 'rate': 5338, '5p': 537, '8p': 690, 'peak': 4914, '08712460324': 103, 'lennon': 3906, 'anti': 954, 'medicine': 4232, 'remb': 5442, 'missy': 4318, 'funeral': 2918, 'netflix': 4544, 'sang': 5639, 'uptown': 6900, '80': 613, 'walked': 7050, 'serious': 5767, 'west': 7152, 'haiz': 3165, 'empty': 2466, 'alwys': 896, 'entry': 2500, '250': 350, '84128': 646, 'textcomp': 6508, 'cust': 2034, '08712405020': 101, 'pray': 5149, 'painful': 4835, 'maintaining': 4145, 'congratulations': 1883, 'virgin': 6992, 'records': 5399, 'mystery': 4472, '09061104283': 179, 'smsco': 5999, 'net': 4542, '50pm': 521, 'approx': 998, '3mins': 445, '2wks': 399, 'goals': 3030, 'villa': 6984, 'god': 3032, 'success': 6290, 'supervisor': 6334, 'students': 6257, 'self': 5741, 'bathroom': 1195, 'sup': 6330, 'aiyar': 852, 'lots': 4042, 'cupboard': 2026, 'yay': 7355, 'gym': 3148, 'lazy': 3871, 'jog': 3666, '6times': 584, 'bloody': 1342, 'mo': 4341, 'somethin': 6038, 'ortxt': 4777, 'jess': 3652, 'xx': 7333, 'exactly': 2568, 'chechi': 1678, '88066': 670, 'lost': 4039, '3pound': 446, 'report': 5475, 'whenevr': 7169, 'gray': 3101, 'remembr': 5446, 'listn': 3973, 'watevr': 7092, 'hair': 3162, 'cedar': 1628, 'key': 3747, 'tho': 6570, 'wondering': 7262, 'uncle': 6840, 'dollars': 2301, '2years': 402, 'strain': 6231, 'dime': 2227, 'gives': 3011, 'expect': 2589, 'practical': 5137, 'chachi': 1644, 'unable': 6836, 'pl': 5005, 'missed': 4314, 'tiz': 6628, 'kanagu': 3722, 'er': 2508, 'limping': 3951, 'slowly': 5976, 'aa': 715, 'exhaust': 2583, 'hanging': 3183, 'sometext': 6037, 'missing': 4316, 'tahan': 6406, 'anot': 943, 'lo': 3990, 'plural': 5039, 'noun': 4634, 'referin': 5408, 'mei': 4239, 'waitin': 7043, 'somebody': 6033, 'shld': 5843, 'frm': 2887, 'onwards': 4734, 'tescos': 6496, 'merry': 4260, 'christmas': 1733, 'kisses': 3775, 'seeking': 5729, 'lady': 3820, 'freak': 2853, 'sheets': 5818, 'crave': 1974, 'arabian': 1009, 'steed': 6193, 'mmmmmm': 4335, 'yummy': 7400, 'vote': 7012, 'guides': 3138, 'lanre': 3838, 'fakeye': 2635, 'eckankar': 2415, 'whore': 7186, 'unbelievable': 6837, 'vouchers': 7016, 'tncs': 6640, 'com1win150ppmx3age16': 1828, '09061790121': 195, '3030': 410, 'dhanush': 2194, 'rocks': 5557, 'gary': 2953, 'buzy': 1517, 'error': 2512, 'pple': 5132, 'problems': 5205, 'forwarding': 2841, '2003': 331, 'un': 6835, 'redeemed': 5405, '08715203685': 116, '4xx26': 510, '13': 275, '04': 14, 'valuable': 6943, 'situations': 5935, 'loosing': 4030, 'released': 5433, 'cosign': 1935, 'option': 4758, 'saibaba': 5622, 'colany': 1812, 'shrek': 5877, 'srsly': 6151, 'yi': 7375, 'seat': 5711, 'lower': 4065, 'chief': 1704, 'bell': 1255, 'royal': 5581, 'june': 3699, 'training': 6720, 'sound': 6069, 'effects': 2431, 'brighten': 1440, 'matter': 4204, 'handed': 3175, 'celebrations': 1632, '530': 530, 'waaaat': 7033, 'lololo': 4012, 'excellent': 2571, 'imagine': 3453, 'sink': 5921, 'through': 6584, 'paces': 4824, 'left': 3894, 'cage': 1530, 'cock': 1802, 'surrounded': 6356, 'water': 7090, 'reminding': 5451, 'owns': 4819, 'cuck': 2015, 'minute': 4302, 'solve': 6029, 'police': 5071, 'questioned': 5293, 'murder': 4451, 'cook': 1917, 'cooking': 1920, 'gardener': 2951, 'vegetables': 6959, 'children': 1710, 'neighbour': 4538, 'marriage': 4181, 'arrested': 1040, 'immediately': 3459, 'reason': 5374, 'brilliant': 1441, 'getzed': 2993, 'w4': 7029, '5wq': 543, 'norm': 4615, 'nighters': 4575, 'persevered': 4939, 'apologise': 978, 'isnt': 3588, 'corporation': 1929, 'st': 6154, 'gap': 2946, 'trust': 6759, 'alex': 866, 'nichols': 4567, 'whens': 7170, 'probs': 5208, 'obviously': 4671, 'catching': 1613, 'inches': 3480, 'wouldn': 7297, 'assume': 1071, 'intention': 3540, 'rather': 5340, 'visitors': 6996, 'drop': 2351, 'ful': 2910, 'song': 6049, 'lyrics': 4098, 'vday': 6957, 'parachute': 4854, 'coins': 1810, 'expecting': 2591, 'battery': 1197, 'hont': 3333, 'dawns': 2089, 'refreshed': 5412, 'air': 846, 'dnt': 2272, 'ice': 3425, 'pieces': 4988, 'cloth': 1777, 'pack': 4825, 'tablets': 6401, 'zaher': 7408, 'ym': 7378, 'file': 2714, 'gained': 2935, 'kg': 3751, 'blood': 1341, 'sugar': 6305, 'tests': 6500, 'pressure': 5175, 'normal': 4617, 'limits': 3950, 'worries': 7284, 'congrats': 1882, 'plans': 5017, 'fri': 2875, 'drivin': 2347, 'shoppin': 5850, 'garage': 2948, 'replacing': 5469, 'taking': 6415, 'tomo': 6665, 'urination': 6910, 'mus': 4454, 'dollar': 2300, 'complete': 1852, 'smoking': 5997, 'difficult': 2221, 'sunny': 6324, 'africa': 814, 'avin': 1118, 'silver': 5906, 'singles': 5920, 'chart': 1665, 'math': 4198, 'costumes': 1941, 'their': 6535, 'yowifes': 7394, 'hint': 3291, 'slave': 5956, 'shell': 5821, 'unconsciously': 6844, 'avoiding': 1121, 'unhappy': 6858, 'successful': 6291, 'entered': 2492, 'cabin': 1528, 'apartment': 972, 'manage': 4157, 'although': 892, 'baig': 1154, 'watches': 7086, 'touched': 6705, 'arranging': 1039, 'mah': 4134, 'arsenal': 1044, 'dartboard': 2077, 'condition': 1869, 'doubles': 2319, 'trebles': 6742, 'tick': 6599, 'beerage': 1237, 'la': 3810, 'depends': 2163, 'whether': 7176, 'wana': 7062, 'western': 7153, 'chinese': 1718, 'prefer': 5157, 'wylie': 7321, 'smokes': 5995, 'justify': 3705, 'ruining': 5598, 'priest': 5187, 'exact': 2567, 'intentions': 3541, 'recovery': 5400, 'pass': 4880, 'cooped': 1922, 'yesterday': 7371, '2day': 367, 'geeee': 2969, 'aiyo': 853, 'tot': 6700, 'eldest': 2448, 'cozy': 1963, 'exhausted': 2584, 'nobody': 4595, 'sao': 5644, '12': 262, 'free2day': 2858, 'george': 2981, 'jordan': 3680, '89080': 680, 'celeb': 1629, 'pics': 4982, 'pocketbabe': 5060, '0870241182716': 77, 'fireplace': 2742, 'icon': 3429, 'absolutly': 735, 'nah': 4479, 'crammed': 1969, 'heroes': 3270, 'receiving': 5388, 'tips': 6618, 'drama': 2331, 'struggling': 6249, 'strange': 6232, 'ego': 2436, 'necessity': 4522, 'reppurcussions': 5476, 'guoyang': 3142, 'unsubscribed': 6880, 'tons': 6678, 'hunks': 3397, 'gotbabes': 3069, 'subscriptions': 6285, 'hardly': 3203, 'watever': 7091, 'relation': 5428, 'built': 1489, 'remains': 5441, 'atlast': 1082, 'iz': 3608, 'lonlines': 4019, 'lotz': 4046, 'memories': 4249, 'recognise': 5396, 'confused': 1880, 'instead': 3534, 'improved': 3474, 'jiayin': 3658, 'lib': 3922, 'nothing': 4628, 'unknown': 6867, 'tonite': 6677, 'predicting': 5155, 'inch': 3479, 'accumulation': 756, 'response': 5498, 'powerful': 5130, 'weapon': 7109, 'occupy': 4673, 'cares': 1591, 'wow': 7299, 'firmware': 2744, '09050003091': 158, 'c52': 1527, 'university': 6865, 'florida': 2779, 'seem': 5730, 'dial': 2198, 'browser': 1464, 'surf': 6348, 'knows': 3788, 'concerned': 1867, 'starting': 6173, 'panic': 4843, 'seeing': 5727, 'death': 2106, 'note': 4625, 'robs': 5554, 'avenge': 1115, 'wrongly': 7310, 'quick': 5295, 'upgrdcentre': 6891, 'upgrade': 6889, 'loyalty': 4069, '0207': 8, '153': 297, '9153': 697, '26th': 356, 'july': 3698, 'available': 1110, 'created': 1978, 'fingers': 2732, 'made': 4124, 'fills': 2719, 'gaps': 2947, 'holding': 3320, 'yahoo': 7345, 'photos': 4972, 'eightish': 2441, 'carpark': 1599, 'bcums': 1214, 'childish': 1708, 'true': 6756, 'deep': 2124, 'affection': 809, 'kettoda': 3746, 'manda': 4160, 'blake': 1320, 'occurs': 4675, 'history': 3296, 'comfort': 1836, 'luxury': 4090, 'sold': 6027, 'petrol': 4954, 'shesil': 5823, 'sheffield': 5819, 'tom': 6661, 'opinions': 4749, 'categories': 1614, 'measure': 4228, 'ethnicity': 2528, 'census': 1634, 'transcribing': 6723, 'computational': 1860, 'push': 5271, 'workin': 7276, 'rite': 5547, 'de': 2096, 'sed': 5724, 'mood': 4383, 'minuts': 4304, 'latr': 3857, 'cake': 1531, 'invite': 3559, 'anywhere': 970, 'nope': 4611, 'heard': 3240, 'licks': 3925, 'tootsie': 6687, 'pop': 5091, 'ha': 3152, 'seemed': 5731, 'judgemental': 3692, 'fridays': 2877, 'height': 3251, 'guy': 3144, 'throws': 6589, 'gal': 2936, 'brothers': 1459, 'whos': 7187, '077xxx': 31, '02': 7, '09066362206': 216, 'box97n7qp': 1403, 'gentle': 2976, 'posible': 5102, 'century': 1637, 'frwd': 2902, 'thnk': 6568, 'kerala': 3743, 'prepared': 5164, 'finalise': 2725, 'during': 2383, 'works': 7279, 'sending': 5754, 'pandy': 4842, 'mental': 4252, '85023': 651, 'pobox84': 5056, 'm263uz': 4103, '00': 0, 'scream': 5695, 'moan': 4342, 'holy': 3325, 'weren': 7148, 'bud': 1478, 'select': 5738, 'astrology': 1076, 'haf': 3157, 'consent': 1888, 'forms': 2834, 'legal': 3897, 'ams': 917, '30ish': 412, 'infront': 3511, 'missin': 4315, 'guilty': 3139, 'trouble': 6751, 'convincing': 1916, 'twice': 6792, 'neglect': 4535, 'city': 1740, 'spree': 6141, '88039': 669, 'skilgme': 5942, 'tscs087147403231winawk': 6769, 'age16': 826, '50perwksub': 520, 'innocent': 3520, 'glorious': 3018, 'anniversary': 937, 'finds': 2730, 'prey': 5183, 'teasing': 6459, 'across': 764, 'sea': 5707, 'coaxing': 1798, 'images': 3451, 'fond': 2800, 'souveniers': 6078, 'cougar': 1943, 'pen': 4918, 'taxi': 6441, 'ing': 3512, 'cinema': 1738, 'madam': 4123, 'disturbance': 2263, 'dlf': 2270, 'premarica': 5160, 'kindly': 3769, 'rgds': 5526, 'rakhesh': 5323, 'tke': 6629, 'awesome': 1128, 'safe': 5620, 'trip': 6747, 'surrender': 6355, 'sunday': 6322, 'several': 5782, '09050000460': 153, 'j89': 3611, 'box245c2150pm': 1396, 'student': 6255, 'books': 1371, 'wasted': 7082, 'chiong': 1721, 'talent': 6416, 'mmm': 4332, 'jolt': 3677, 'suzy': 6361, 'ooh': 4736, '4got': 496, 'belly': 1257, 'dancing': 2064, 'moseley': 4394, 'weds': 7122, 'cafe': 1529, 'explicit': 2600, 'secs': 5719, '02073162414': 10, 'gsex': 3126, '2667': 355, 'wc1n': 7103, '3xx': 453, 'queen': 5289, 'wedding': 7119, 'registered': 5422, 'optin': 4757, 'subscriber': 6282, 'receipt': 5383, 'ans': 945, 'bbc': 1202, 'charts': 1666, 'tonexs': 6673, 'renewed': 5457, 'polys': 5080, 'clubzed': 1784, 'billing': 1295, 'gettin': 2991, 'picked': 4979, 'downstem': 2329, 'significant': 5899, 'trash': 6730, 'oops': 4740, 'eight': 2439, 'station': 6181, 'seperated': 5763, '〨ud': 7421, 'six': 5936, 'chances': 1651, 'csh11': 2005, '87575': 667, '6days': 575, 'tsandcs': 6766, 'hl': 3302, 'fights': 2710, 'legs': 3899, 'neck': 4523, 'killing': 3765, 'amigos': 903, 'burn': 1497, 'knw': 3789, 'moby': 4353, 'duchess': 2368, 'cornwall': 1928, 'unsub': 6878, '008704050406': 2, 'arrow': 1043, 'birthdate': 1306, 'certificate': 1642, 'publish': 5255, 'secret': 5716, 'wishes': 7223, 'sppok': 6139, 'north': 4619, 'carolina': 1597, 'texas': 6501, 'atm': 1084, 'gre': 3103, 'site': 5929, 'okey': 4704, 'doke': 2297, 'dressed': 2339, 'laying': 3869, 'annie': 936, 'lip': 3964, 'synced': 6394, 'shangela': 5805, 'goldviking': 3042, '29': 363, '762': 597, 'honeybee': 3331, 'sweetest': 6375, 'laughed': 3859, 'havnt': 3226, 'met': 4270, 'moral': 4385, 'crack': 1967, 'jokes': 3673, 'gm': 3020, 'sigh': 5893, 'studying': 6261, 'sch': 5678, 'tues': 6774, 'naughty': 4508, 'aha': 835, 'relax': 5431, 'seen': 5733, 'technical': 6461, 'support': 6339, 'process': 5209, 'networking': 4549, 'field': 2701, 'information': 3509, '0789xxxxxxx': 40, '2find': 370, 'onto': 4732, 'urawinner': 6902, 'awaiting': 1123, 'ambrith': 900, 'madurai': 4127, 'arun': 1049, 'dha': 2193, 'marrge': 4180, 'write': 7303, 'lei': 3901, 'frens': 2870, 'audrey': 1096, 'voicemail': 7006, '08719181513': 144, 'passable': 4881, 'score': 5685, 'phd': 4960, '5years': 544, 'salary': 5627, 'football': 2810, 'basketball': 1189, 'outdoors': 4793, 'grandmas': 3091, 'hungover': 3395, 'cuddle': 2017, 'lush': 4085, 'tea': 6449, 'fumbling': 2914, 'gudnite': 3132, 'doors': 2314, 'sometime': 6040, 'pattern': 4892, 'emerging': 2461, 'weed': 7124, 'fiend': 2703, 'impede': 3463, 'hesitant': 3274, '1000call': 242, '09071512432': 228, '300603t': 408, 'csbcm4235wc1n3xx': 2003, 'callcost150ppmmobilesvary': 1543, 'max': 4207, 'mode': 4355, 'headin': 3231, 'towards': 6709, 'busetop': 1504, 'increase': 3489, 'winning': 7214, 'kadeem': 3712, 'package': 4826, 'term': 6488, '54': 531, 'resubmit': 5505, 'expiry': 2598, 'themob': 6538, 'couple': 1953, 'mas': 4188, 'idk': 3437, 'moved': 4407, 'butting': 1511, 'heads': 3233, 'freedom': 2859, 'vs': 7019, 'barely': 1176, 'keeping': 3737, 'gets': 2988, 'added': 779, 'ignoring': 3443, 'dependents': 2162, 'arms': 1031, 'cardiff': 1581, 'bottom': 1387, 'rocking': 5556, 'ashes': 1054, 'pretty': 5179, 'following': 2798, 'submitting': 6276, 'toughest': 6707, 'acting': 767, 'unspoken': 6877, 'sis': 5925, 'boys': 1408, '69855': 568, '24hrs': 346, '50p': 518, 'stopbcm': 6219, 'sf': 5789, 'wc1n3xx': 7104, 'yun': 7401, 'qatar': 5282, 'opportunity': 4751, 'prayers': 5150, 'kvb': 3804, 'ke': 3734, 'qi': 5284, 'suddenly': 6298, '2morro': 381, 'vivek': 6999, '09061213237': 181, '177': 302, 'm227xy': 4101, 'hottest': 3361, 'wanting': 7067, '89555': 684, 'textoperator': 6512, 'g696ga': 2930, 'wkg': 7239, 'btw': 1474, 'sc': 5671, 'specialise': 6094, 'wad': 7034, 'denis': 2154, 'mina': 4288, 'clever': 1764, 'guesses': 3135, 'willing': 7202, 'leona': 3907, 'attach': 1086, 'surname': 6352, 'clue': 1785, 'spanish': 6085, 'begins': 1246, 'temales': 6478, 'shhhhh': 5825, 'supposed': 6342, 'drunk': 2359, 'ummifying': 6832, 'bye': 1526, 'plate': 5018, 'leftovers': 3895, 'quit': 5297, 'paragon': 4856, 'sense': 5756, 'swimming': 6380, 'cutest': 2042, 'thankyou': 6524, 'appreciate': 992, 'retard': 5510, 'blankets': 1325, 'impressed': 3470, 'funs': 2922, 'sec': 5712, 'breaking': 1428, 'cstore': 2006, 'paid': 4833, 'transfr': 6727, 'amt': 918, 'status': 6182, 'brother': 1458, 'loans': 3994, 'typical': 6812, 'basket': 1188, 'germany': 2983, 'pence': 4919, 'via': 6973, '0844': 60, '861': 655, '85': 649, 'prepayment': 5165, 'telediscount': 6468, 'wallet': 7055, 'yetunde': 7373, 'return': 5513, 'period': 4934, 'ended': 2469, 'pity': 5002, 'suggestions': 6307, 'prospects': 5238, 'bleak': 1327, 'filled': 2717, 'kent': 3741, 'vale': 6938, 'ar': 1007, 'dave': 2088, 'notice': 4629, 'tenerife': 6484, '09061743806': 190, 'tcs': 6448, 'box326': 1397, 'cw25wx': 2047, 'semester': 5748, 'greatness': 3107, 'minor': 4299, 'shindig': 5829, 'interested': 3543, 'handset': 3178, 'rental': 5460, 'fwiw': 2927, 'gas': 2954, 'afford': 811, 'tells': 6474, 'apparently': 982, 'happens': 3193, 'light': 3937, 'combine': 1831, 'parts': 4876, 'lacking': 3816, 'particular': 4871, 'dramastorm': 2332, 'worried': 7283, '2waxsto': 398, 'medical': 4231, 'insurance': 3537, 'major': 4146, 'guide': 3137, 'forgiveness': 2826, 'fruit': 2901, 'tree': 6743, 'stone': 6212, 'freezing': 2866, 'windy': 7209, 'recieve': 5394, 'channel': 1655, 'teletext': 6471, 'pg': 4955, 'contacted': 1896, 'becausethey': 1227, '09058098002': 176, 'pobox1': 5047, 'w14rg': 7024, 'tkts': 6631, '09058099801': 177, 'b4190604': 1136, '7876150ppm': 603, 'likely': 3942, 'oz': 4822, 'shitload': 5840, 'hospital': 3353, 'simpsons': 5912, '2007': 335, 'band': 1164, 'film': 2720, 'red': 5403, 'unnecessarily': 6871, 'hostile': 3356, 'absence': 734, 'smell': 5985, 'ain': 844, 'tobacco': 6644, 'amanda': 898, 'regard': 5418, 'renewing': 5458, 'upgrading': 6890, 'current': 2029, '0845': 63, '021': 12, '3680': 431, 'subject': 6274, 'chasing': 1668, 'bloomberg': 1343, '447797706009': 476, 'careers': 1587, 'campus': 1560, 'cream': 1977, 'shipped': 5833, 'milk': 4284, 'spoiled': 6124, 'ffffffffff': 2696, 'weekends': 7127, '900': 694, '09061701851': 186, 'k61': 3709, '12hours': 272, 'claire': 1746, 'jacket': 3613, 'bristol': 1448, 'les': 3909, 'rudi': 5595, 'snoring': 6012, 'sends': 5755, 'ink': 3515, 'brought': 1460, 'shiny': 5831, 'warming': 7072, 'putting': 5278, 'constant': 1893, 'cared': 1585, 'level': 3918, 'mom': 4363, 'sitter': 5931, 'kaitlyn': 3715, 'sick': 5890, 'wnevr': 7247, 'fal': 2636, 'vth': 7020, 'fals': 2641, 'yen': 7365, 'madodu': 4125, 'nav': 4510, 'pretsorginta': 5177, 'nammanna': 4488, 'pretsovru': 5178, 'alwa': 894, 'eveb': 2538, 'upto': 6899, '12mths': 274, '2price': 390, '100txt': 246, 'mth': 4428, 'tooth': 6685, '08001950382': 51, '2optout': 388, 'd3wv': 2050, '3510i': 427, 'deliveredtomorrow': 2147, '300': 405, 'theatre': 6533, 'attracts': 1091, 'brothas': 1457, 'none': 4607, 'fool': 2807, 'switch': 6384, 'dammit': 2059, 'mite': 4323, 'crazy': 1976, 'everyboy': 2548, 'xxxxxxxx': 7339, 'remind': 5448, 'hallaq': 3170, 'owned': 4818, 'possessive': 5107, 'passionate': 4883, 'nalla': 4482, '8th': 692, 'wnt': 7248, 'bmw': 1351, 'urgently': 6905, 'hv': 3408, 'shortage': 5854, 'lacs': 3817, 'source': 6074, 'arng': 1032, 'real1': 5362, 'pushbutton': 5272, 'dontcha': 2308, 'babygoodbye': 1144, 'golddigger': 3040, 'webeburnin': 7115, 'rock': 5555, 'joys': 3685, 'lifeis': 3931, 'daywith': 2093, 'thoughts': 6575, 'somewheresomeone': 6045, 'tosend': 6698, 'greeting': 3111, 'bcum': 1213, 'restrictions': 5503, 'buddys': 1480, '80082': 618, 'genius': 2975, 'doin': 2294, 'ned': 4525, 'weather': 7112, 'easily': 2403, 'forgets': 2823, 'wear': 7110, 'spending': 6106, 'tm': 6633, 'laughs': 3861, 'hmm': 3306, 'grooved': 3114, 'classes': 1753, 'due': 2373, 'dodgey': 2283, 'bathe': 1193, 'goigng': 3036, 'small': 5979, 'perfume': 4931, 'space': 6082, 'suggest': 6306, 'setting': 5775, 'definite': 2133, 'greece': 3108, 'chocolate': 1724, 'alcohol': 861, 'taste': 6434, 'fish': 2746, 'curry': 2031, 'responding': 5497, 'diwali': 2267, 'admirer': 788, 'reveal': 5517, 'thinks': 6561, '09058094599': 171, 'hardcore': 3200, '69200': 564, '24': 345, 'hrs': 3378, 'chrgd': 1730, '2exit': 369, '09066350750': 212, 'ibiza': 3418, '434': 471, 'sk3': 5939, '8wp': 693, 'ages': 829, 'abj': 728, 'google': 3061, 'nearby': 4516, 'cliffs': 1766, 'med': 4230, 'stamped': 6160, 'envelope': 2503, 'drinks': 2344, '113': 254, 'bray': 1421, 'wicklow': 7191, 'eire': 2442, 'starts': 6174, 'solved': 6030, 'opened': 4742, 'batch': 1190, 'sweetie': 6377, 'salon': 5633, 'boring': 1379, 'housewives': 3365, '0871750': 123, '77': 600, 'landlines': 3833, 'various': 6949, '15pm': 298, 'taunton': 6439, 'ax': 1132, 'figures': 2712, 'piece': 4987, 'priscilla': 5194, 'bowl': 1391, 'crashed': 1973, 'cuddled': 2018, 'sofa': 6022, 'february': 2677, 'hustle': 3406, 'forth': 2835, 'harlem': 3206, 'tessy': 6497, 'favor': 2669, 'nimya': 4582, 'shijas': 5826, 'mokka': 4362, 'operate': 4746, 'spouse': 6138, 'pmt': 5044, 'sumthin': 6320, '4give': 495, 'shldxxxx': 5844, 'squeezed': 6148, 'bucks': 1477, 'proper': 5232, 'tongued': 6674, 'guai': 3129, 'jogging': 3667, 'reunion': 5516, 'alert': 863, 'computer': 1861, '10k': 249, '09064018838': 202, 'cro1327': 1990, 'vary': 6952, 'pool': 5086, 'bunch': 1492, 'lotto': 4045, 'pizza': 5004, 'chosen': 1729, '350': 426, '09066364311': 219, '8pm': 691, 'thurs': 6595, 'selling': 5745, 'peach': 4913, 'tasts': 6435, 'likes': 3943, 'dislikes': 2256, 'butt': 1509, 'hang': 3180, 'starving': 6176, 'cooked': 1918, 'pickle': 4981, 'professional': 5214, 'tiger': 6603, 'woods': 7267, 'anyone': 960, 'nit': 4585, 'subscribers': 6283, 'spoke': 6125, 'ones': 4725, 'que': 5288, 'pases': 4879, 'buen': 1482, 'tiempo': 6602, 'temple': 6481, 'church': 1736, '09064017295': 200, 'k52': 3708, 'answered': 948, 'taught': 6438, 'ranjith': 5335, 'becaus': 1225, 'verifying': 6968, 'prabu': 5135, 'mistake': 4320, 'survey': 6357, 'stock': 6206, 'dubsack': 2367, 'noncomittal': 4606, 'prabha': 5134, 'soryda': 6066, 'sory': 6065, '08707500020': 81, 'x29': 7323, '09065989180': 210, 'dr': 2330, 'appt': 1000, 'flirt': 2773, '25': 349, 'thirtyeight': 6564, '125gift': 270, '2u2': 396, 'billion': 1296, 'das': 2078, 'iknow': 3446, 'wellda': 7141, 'peril': 4933, 'studentfinancial': 6256, 'crisis': 1989, 'spk': 6115, 'habit': 3154, 'nan': 4489, 'bari': 1177, 'hudgi': 3383, 'yorge': 7383, 'pataistha': 4888, 'ertini': 2513, 'kano': 3725, 'bday': 1216, 'spell': 6103, 'scraped': 5692, 'barrel': 1182, 'misfits': 4309, 'gram': 3085, 'usually': 6931, 'eighth': 2440, 'smarter': 5982, 'whole': 7184, 'planning': 5016, '1hr': 313, 'stubborn': 6252, 'mark': 4177, 'sucker': 6294, 'hospitals': 3354, 'suckers': 6295, 'nigh': 4573, 'aunts': 1101, 'tarpon': 6433, 'springs': 6143, 'using': 6927, 'fne': 2791, 'fan': 2646, 'panren': 4845, 'paru': 4878, 'hasn': 3210, 'recently': 5390, 'crap': 1971, 'hr': 3376, 'oni': 4726, 'yeesh': 7360, 'ben': 1261, 'anyways': 969, 'exam': 2569, 'supports': 6340, 'ass': 1066, 'srt': 6152, 'ps3': 5245, 'usb': 6917, 'ger': 2982, 'toking': 6656, 'syd': 6389, 'alternative': 891, 'gauti': 2958, 'sehwag': 5736, 'odi': 4678, '69888nyt': 572, 'heading': 3232, 'shining': 5830, 'sounds': 6071, 'bull': 1491, 'floating': 2776, 'ikea': 3444, 'mess': 4262, 'coherently': 1807, 'twenty': 6791, 'subs': 6278, 'dropped': 2352, 'lookatme': 4022, 'purchase': 5265, 'clip': 1767, '35p': 428, 'mmsto': 4337, '32323': 422, 'swollen': 6385, 'glands': 3014, 'throat': 6583, 'chez': 1698, 'jules': 3695, 'competition': 1849, '80086': 619, 'txttowin': 6808, 'deny': 2158, 'placed': 5007, 'birla': 1303, 'soft': 6023, 'stil': 6202, 'fucked': 2905, 'tobed': 6645, '430': 470, '630': 553, 'gang': 2945, 'disturbing': 2264, 'programs': 5219, 'mallika': 4155, 'sherawat': 5822, 'url': 6911, 'buzzzz': 1519, 'chest': 1696, 'vibrator': 6975, 'shake': 5799, 'bold': 1358, '2bold': 365, 'lobby': 3995, 'desires': 2173, 'liver': 3980, 'managed': 4158, 'lie': 3927, 'receipts': 5384, 'pendent': 4920, 'vomit': 7009, 'temp': 6479, 'unmits': 6870, 'however': 3369, 'mmmmmmm': 4336, 'snuggles': 6018, 'contented': 1900, 'whispers': 7180, 'wtf': 7313, 'random': 5329, 'frndship': 2891, 'wonder': 7260, 'rem': 5439, 'anybody': 957, 'chip': 1722, 'forgiven': 2825, 'thgt': 6552, 'clash': 1751, 'gee': 2968, 'scratching': 5694, 'prasanth': 5147, 'ettans': 2530, 'passed': 4882, 'voda': 7002, 'numbers': 4650, 'ending': 2470, '1225': 266, '50award': 515, '08712300220': 93, 'quoting': 5304, '3100': 417, 'standard': 6163, 'app': 981, '420': 465, 'win150ppmx3age16': 7204, 'forced': 2816, 'slice': 5963, 'hungry': 3396, 'literally': 3975, 'heater': 3246, 'degrees': 2138, 'california': 1537, 'list': 3967, 'joanna': 3661, 'attending': 1090, 'lead': 3878, 'freefone': 2861, '08006344447': 55, 'reverse': 5520, 'cheating': 1677, 'mathematics': 4199, 'colours': 1826, '3lions': 443, 'click': 1765, 'table': 6399, 'lambda': 3826, 'dump': 2377, 'heap': 3238, 'lowes': 4066, 'board': 1352, 'overheating': 4809, 'reslove': 5491, 'inst': 3528, 'pending': 4921, 'clock': 1768, 'protect': 5239, 'threats': 6579, 'sib': 5888, 'asks': 1062, 'sensitive': 5759, 'passwords': 4886, 'share': 5809, '09065174042': 207, '07821230901': 37, 'eta': 2526, 'okday': 4703, 'impossible': 3468, 'treats': 6741, 'necessary': 4521, 'def': 2129, 'icic': 3426, 'nose': 4622, 'essay': 2523, 'propsd': 5237, 'gv': 3146, 'lv': 4091, 'lttrs': 4076, 'threw': 6581, 'thm': 6567, 'aproach': 1003, 'dt': 2365, 'truck': 6755, 'speeding': 6101, 'wn': 7246, 'ran': 5328, 'saved': 5663, 'cn': 1790, 'replied': 5470, 'boost': 1374, 'energy': 2475, 'instantly': 3533, 'thy': 6598, 'lived': 3979, 'happily': 3196, '2gthr': 374, 'drinking': 2343, 'evrydy': 2565, 'ntwk': 4646, 'txts': 6805, '674': 560, 'sorting': 6064, 'dehydrated': 2139, '09061209465': 180, 'suprman': 6344, 'matrix3': 4203, 'starwars3': 6177, 'bx420': 1522, 'ip4': 3566, '5we': 541, '150pm': 291, 'allow': 880, 'bhaskar': 1284, '09066358361': 214, 'y87': 7342, 'december': 2110, '11mths': 260, 'vco': 6956, '08002986906': 53, 'punto': 5262, 'worse': 7287, 'charges': 1661, 'transfer': 6724, 'withdraw': 7230, 'anyhow': 958, '2morrow': 382, 'south': 6076, 'preferably': 5158, 'kegger': 3739, 'dippeditinadew': 2237, 'lovingly': 4062, 'itwhichturnedinto': 3600, 'gifted': 2998, 'tomeandsaid': 6664, '4u': 506, '74355': 592, 'iscoming': 3582, 'tnc': 6639, 'sometme': 6042, 'tunji': 6782, 'abiola': 727, 'steam': 6191, 'sales': 5629, 'pee': 4915, 'pap': 4848, 'miracle': 4305, 'shirts': 5836, 'naked': 4481, 'usual': 6930, '____': 713, 'ths': 6591, 'iq': 3571, 'tis': 6624, 'ias': 3415, 'hockey': 3314, 'elections': 2449, 'shouldn': 5862, 'longer': 4018, 'propose': 5235, 'seing': 5737, 'funky': 2920, 'asssssholeeee': 1070, 'bloo': 1340, 'gr8prizes': 3080, '8800': 668, 'psp': 5247, '80878': 627, '08715705022': 119, 'fucks': 2908, 'sake': 5624, '08718723815': 128, 'mnths': 4340, 'tariffs': 6431, '087018728737': 76, 'toppoly': 6692, 'tune': 6781, 'goal': 3029, 'improve': 3473, 'thinked': 6558, 'flaky': 2759, 'parent': 4861, 'snot': 6013, 'unintentional': 6861, 'nonetheless': 4608, 'outta': 4803, 'teach': 6450, 'ship': 5832, 'prin': 5188, 'avoid': 1120, 'placement': 5008, 'amrita': 916, 'overtime': 4810, 'nigpun': 4577, 'shanil': 5806, 'exchanged': 2573, 'uncut': 6846, 'diamond': 2201, 'dino': 2235, 'prem': 5159, 'ibored': 3421, 'study': 6260, 'middle': 4276, 'dealing': 2100, '400': 455, 'reward': 5523, 'randomly': 5331, 'loyal': 4068, 'customers': 2037, '09066380611': 224, 'werethe': 7149, 'monkeespeople': 4371, 'monkeyaround': 4373, 'howdy': 3368, 'howu': 3371, 'foundurself': 2843, 'jobyet': 3664, 'sausage': 5660, 'jen': 3646, 'incredible': 3490, 'learn': 3884, 'truly': 6758, 'amazing': 899, 'blow': 1344, 'o2fwd': 4666, '18p': 305, 'dentist': 2156, 'tscs': 6767, 'idew': 3435, 'skillgame': 5943, '1winaweek': 324, '150ppermesssubscription': 292, 'miiiiiiissssssssss': 4280, 'abbey': 721, 'worrying': 7286, 'shame': 5803, 'quizzes': 5302, 'popcorn': 5092, 'cheers': 1687, 'callin': 1550, 'sozi': 6080, 'culdnt': 2021, 'talkbut': 6419, 'wannatell': 7064, 'wenwecan': 7145, 'properly': 5233, 'roommates': 5570, '08718726978': 134, 'route': 5578, 'caring': 1592, 'losers': 4035, 'edge': 2418, 'unique': 6863, 'mylife': 4467, '2p': 389, '08448350055': 61, 'planettalkinstant': 5014, 'mising': 4310, 'miles': 4283, 'smiles': 5990, 'letters': 3917, 'difference': 2218, 'keeps': 3738, 'denying': 2159, 'perumbavoor': 4948, '2006': 334, 'fifa': 2704, 'held': 3252, 'behave': 1249, 'subtoitles': 6289, 'completely': 1854, 'accommodation': 750, 'global': 3017, 'phb1': 4959, 'ph': 4956, '08700435505150p': 68, 'specific': 6096, 'jaklin': 3619, 'velachery': 6962, 'started': 6172, 'potential': 5121, 'macho': 4118, 'noice': 4597, 'clothes': 1778, 'jewelry': 3654, 'mrt': 4417, 'forwarded': 2840, '88877': 676, 'rush': 5608, 'stu': 6251, 'truble': 6754, 'evone': 2561, 'hates': 3214, 'av': 1107, 'bck': 1208, 'dan': 2061, 'dudette': 2372, 'egg': 2434, 'stretch': 6239, 'pussy': 5274, 'chinatown': 1716, 'porridge': 5096, 'claypot': 1755, 'rice': 5530, 'yam': 7348, 'fishhead': 2747, 'beehoon': 1234, 'tok': 6654, 'cbe': 1621, 'nowadays': 4638, 'showrooms': 5874, 'shaping': 5808, 'everyso': 2552, 'often': 4695, 'panicks': 4844, 'bein': 1251, 'ate': 1079, 'detail': 2180, 'resent': 5486, 'previous': 5181, 'queries': 5290, 'customersqueries': 2038, 'netvision': 4547, 'creepy': 1984, 'interflora': 3545, 'flowers': 2782, '505060': 514, 'midnight': 4277, 'rayman': 5344, 'golf': 3043, 'o2': 4665, 'arcade': 1010, 'activ8': 769, 'termsapply': 6491, '09066362220': 217, 'gdeve': 2966, 'fones': 2804, 'wild': 7200, 'stop2stop': 6218, 'spent': 6107, 'chastity': 1669, 'device': 2189, 'beatings': 1221, 'dog': 2288, 'lounge': 4049, 'fantasy': 2653, 'sky': 5949, 'gamestar': 2942, 'active': 771, '250k': 351, 'team': 6455, 'scoring': 5687, 'register': 5421, '88088': 671, 'fullonsms': 2913, '4qf2': 501, 'eachother': 2394, 'lifting': 3936, 'checking': 1682, 'area': 1014, '08717898035': 125, 'gals': 2937, 'khelate': 3752, 'kintu': 3771, 'opponenter': 4750, 'dhorte': 2196, 'lage': 3822, 'despite': 2178, 'cramps': 1970, 'chad': 1645, 'gymnastics': 3149, 'christians': 1732, 'or2optout': 4761, 'hv9d': 3409, 't91': 6397, 'gbp': 2963, '09057039994': 163, 'relieved': 5435, 'westonzoyland': 7155, 'healthy': 3237, 'airport': 848, 'rd': 5350, 'bathing': 1194, 'roles': 5562, 'community': 1841, 'outreach': 4798, 'mel': 4240, 'moon': 4384, 'color': 1824, 'stars': 6169, 'musical': 4457, 'peaceful': 4912, 'swimsuit': 6381, 'thursday': 6596, 'notixiquating': 4631, 'laxinorficated': 3867, 'bambling': 1163, 'entropication': 2499, 'oblisingately': 4669, 'opted': 4755, 'masteriastering': 4190, 'amplikater': 914, 'fidalfication': 2700, 'champlaxigating': 1648, 'atrocious': 1085, 'wotz': 7293, 'junna': 3700, 'wifi': 7197, 'blanked': 1323, 'recorder': 5398, 'canname': 1572, 'capital': 1577, 'australia': 1103, 'mquiz': 4413, 'horrible': 3350, 'crickiting': 1988, 'funk': 2919, 'tones2u': 6671, 'doc': 2276, 'hubby': 3382, 'fiting': 2750, 'load': 3991, 'abi': 725, 'mj': 4327, 'adore': 791, '8077': 626, 'grandma': 3090, 'parade': 4855, 'problematic': 5204, 'nos': 4621, 'booking': 1370, 'finn': 2739, 'dedicated': 2122, 'dedicate': 2121, 'rply': 5584, 'wan2': 7061, 'greet': 3110, 'westlife': 7154, 'm8': 4106, 'unbreakable': 6838, 'untamed': 6881, 'unkempt': 6866, '83049': 637, 'std': 6188, 'ummmmmaah': 6834, 'returns': 5515, 'spreadsheet': 6140, 'whose': 7188, 'idea': 3431, 'determine': 2182, 'entire': 2497, '0871277810810': 105, 'treated': 6739, 'digi': 2223, 'cam': 1555, '9pm': 709, 'fab': 2617, 'coupla': 1952, 'wks': 7242, '08708800282': 86, 'burger': 1496, 'king': 3770, 'footy': 2813, 'stadium': 6156, 'sept': 5764, 'large': 3845, 'coca': 1799, 'cola': 1811, 'uniform': 6860, 'aathi': 719, 'tarot': 6432, '85555': 653, 'tomarrow': 6662, 'court': 1957, 'pei': 4917, 'equally': 2507, 'uneventful': 6853, 'pesky': 4949, 'cyclists': 2048, 'natwest': 4507, 'forgotten': 2828, 'timings': 6616, 'xuhui': 7332, 'lesson': 3912, '8am': 687, 'adult': 796, 'drugdealer': 2357, 'chillin': 1714, 'finishes': 2736, '2stoptxt': 394, 'boye': 1405, 'faded': 2625, 'glory': 3019, 'ralphs': 5326, 'floppy': 2778, 'snappy': 6006, 'upload': 6892, '08718730666': 137, 'glo': 3016, '4get': 494, 'cheer': 1685, 'fit': 2749, 'soo': 6053, 'muchxxlove': 4437, 'locaxx': 3998, 'thread': 6578, 'upping': 6895, 'grams': 3086, '09061701939': 187, 's89': 5612, 'hvae': 3410, '09061701444': 184, 'acl03530150pm': 761, 'jap': 3630, 'imma': 3457, 'flip': 2771, 'possible': 5110, 'rebtel': 5380, 'firefox': 2741, '447801259231': 477, '09058094597': 170, 'yeovil': 7366, 'motor': 4401, 'apology': 980, 'texting': 6511, 'mids': 4278, '08452810071': 64, 'lately': 3852, 'restocked': 5502, 'elama': 2446, 'mudyadhu': 4438, 'woul': 7294, 'curfew': 2027, 'gibe': 2996, 'getsleep': 2989, 'studdying': 6254, 'dress': 2338, 'panties': 4846, '80160': 622, 'txt43': 6799, 'spare': 6086, 'twelve': 6790, 'lecture': 3892, 'damn': 2060, 'raji': 5319, 'favour': 2671, 'crab': 1966, 'shore': 5852, 'waves': 7099, 'cleared': 1760, 'footprints': 2812, 'clearing': 1762, 'fox': 2846, 'catch': 1611, 'frndsship': 2892, 'dwn': 2389, 'webpage': 7116, 'offering': 4686, 'downloads': 2326, 'members': 4246, 'requests': 5480, 'factory': 2623, 'nitros': 4588, 'inpersonation': 3522, 'flea': 2764, 'forums': 2838, 'ahead': 836, '09058094454': 165, 'textbuddy': 6507, 'horny': 3348, '25p': 353, 'postcode': 5115, 'gaytextbuddy': 2962, '89693': 685, '09061743811': 192, 'abta': 737, '326': 423, 'intrepid': 3554, 'duo': 2381, '1172': 258, 'couldn': 1947, '08715203652': 113, '42810': 469, 'inclusive': 3484, 'gotto': 3073, 'comuk': 1863, 'login': 4005, '3qxj9': 447, 'extra': 2609, '08702840625': 79, '220cm2': 344, '9ae': 706, 'celebrate': 1630, 'ny': 4660, 'gokila': 3039, 'dang': 2065, 'reminder': 5450, 'law': 3866, 'lemme': 3903, 'useful': 6921, 'fridge': 2878, 'foreign': 2818, 'stamps': 6161, 'refilled': 5410, 'successfully': 6292, 'inr': 3523, 'keralacircle': 3744, 'prepaid': 5162, 'kr': 3799, '08700469649': 69, 'box420': 1401, 'folks': 2794, 'sparkling': 6088, 'breaks': 1429, '45': 480, '0121': 4, '2025050': 336, 'shortbreaks': 5855, 'org': 4771, 'sinco': 5915, 'payee': 4902, 'icicibank': 3427, 'urn': 6913, 'beware': 1278, 'frauds': 2852, 'disclose': 2248, 'hunt': 3398, 'waste': 7081, 'derek': 2168, 'taylor': 6443, 'assumed': 1072, 'limited': 3949, 'bishan': 1308, 'nearer': 4517, 'park': 4865, 'needy': 4531, 'pouts': 5128, 'stomps': 6211, 'feet': 2685, 'jot': 3682, 'welp': 7142, 'connect': 1884, 'ultimately': 6828, 'tor': 6693, 'motive': 4400, 'tui': 6776, 'achieve': 759, 'korli': 3795, '08718738001': 138, '49557': 489, '26': 354, 'nights': 4576, 'port': 5097, 'step': 6195, 'rays': 5345, 'bay': 1200, 'suntec': 6329, 'tirupur': 6623, '1apple': 309, '1tulsi': 322, 'leaf': 3882, '1lemon': 315, 'fat': 2662, '1cup': 311, 'bone': 1362, 'problms': 5206, 'litres': 3976, 'watr': 7094, 'diseases': 2254, 'snd': 6008, 'whom': 7185, 'nannys': 4491, 'ooooooh': 4739, 'yoville': 7393, 'ip': 3565, 'considering': 1890, 'minecraft': 4292, 'server': 5770, 'buns': 1494, 'flavour': 2763, 'coffee': 1806, 'fren': 2868, 'drove': 2354, 'amy': 920, 'parties': 4873, 'semiobscure': 5750, 'pleased': 5030, 'inform': 3508, 'application': 987, 'airtel': 849, 'broadband': 1453, 'processed': 5210, 'installation': 3530, 'exciting': 2575, 'karaoke': 3727, 'activities': 772, 'debating': 2107, 'starshine': 6170, 'boytoy': 1409, 'ache': 758, 'sips': 5923, 'cappuccino': 1578, 'serving': 5773, 'uh': 6821, 'incomm': 3485, 'dick': 2205, 'aids': 842, 'patent': 4889, 'optimistic': 4756, 'past': 4887, 'inconsiderate': 3486, 'nag': 4477, 'recession': 5392, 'hence': 3265, 'askin': 1060, 'necessarily': 4520, 'weirdest': 7135, 'form': 2829, 'clark': 1749, 'utter': 6932, 'tomorro': 6666, 'walmart': 7058, 'mouse': 4404, 'desk': 2174, 'concentration': 1866, '8000930705': 615, 'frying': 2903, 'pan': 4840, 'silly': 5905, 'yuou': 7404, 'spot': 6136, 'prolly': 5223, 'british': 1449, 'hotels': 3359, 'bx526': 1523, 'sw73ss': 6364, 'stays': 6187, 'ors': 4776, 'stool': 6215, 'burns': 1499, 'eaten': 2409, 'eastenders': 2405, 'dot': 2317, 'compare': 1846, 'herself': 3272, 'violet': 6989, 'tulip': 6779, 'lily': 3946, '84025': 645, 'wkent': 7238, '150p16': 290, 'jokin': 3674, 'brum': 1466, 'forfeit': 2821, 'textpod': 6513, '40gb': 462, 'ipod': 3570, 'vpod': 7017, 'custcare': 2035, 'hundreds': 3394, 'handsomes': 3179, 'beauties': 1222, 'aunties': 1100, 'uncles': 6841, 'totes': 6703, 'possession': 5106, 'offense': 4683, 'lifted': 3935, 'hopes': 3344, 'approaches': 994, 'edison': 2420, 'rightly': 5535, 'wise': 7220, 'speechless': 6098, 'viva': 6998, 'gnt': 3024, 'thinkin': 6559, 'popping': 5094, 'ibuprofens': 3422, 'property': 5234, 'engin': 2479, 'otherwise': 4785, 'adi': 785, 'entey': 2496, 'nattil': 4504, 'kittum': 3776, 'jurong': 3701, 'buffet': 1484, 'amore': 911, 'blackberry': 1317, 'buyer': 1514, 'bognor': 1357, 'splendid': 6120, 'enters': 2493, 'transfered': 6725, 'removed': 5455, 'differ': 2217, 'filling': 2718, 'apes': 973, 'fight': 2707, 'reality': 5366, 'poo': 5083, 'connections': 1887, 'cme': 1788, 'hos': 3352, 'hppnss': 3375, 'tear': 6456, 'sorrow': 6059, 'forevr': 2820, 'goodfriend': 3051, 'pig': 4989, '1stchoice': 319, '08707808226': 84, 'ad': 776, 'borin': 1378, 'boggy': 1356, 'biatch': 1286, 'nxt': 4659, 'jontin': 3679, 'macs': 4121, 'lips': 3966, 'pai': 4832, 'seh': 5735, 'scared': 5674, 'hanks': 3184, 'lotsly': 4043, 'ovulate': 4812, '2u': 395, '3wks': 451, 'fret': 2874, 'occupied': 4672, 'pours': 5127, 'sum1': 6314, 'becoz': 1229, 'dose': 2316, 'tablet': 6400, 'plaza': 5027, 'adding': 782, 'zeros': 7411, 'savings': 5664, 'romcapspam': 5565, 'presence': 5169, 'outgoing': 4795, 'breath': 1430, 'hf8': 3278, 'wrc': 7300, 'rally': 5325, 'lucozade': 4081, 'le': 3877, '61200': 549, 'packs': 4828, 'itcould': 3594, 'grandfather': 3089, 'expired': 2596, 'opposed': 4752, 'drunken': 2361, 'sry': 6153, '08718726971': 133, 'tap': 6429, 'spile': 6110, 'seven': 5780, 'broad': 1452, 'canal': 1564, 'adventuring': 799, 'strike': 6242, 'bird': 1301, 'antelope': 952, 'begin': 1245, 'toplay': 6690, 'fieldof': 2702, 'selfindependence': 5742, 'contention': 1901, 'grow': 3119, 'fa': 2616, '21st': 341, '2005': 333, '87121': 662, '08452810075over18': 66, 'telly': 6475, 'brdget': 1423, 'jones': 3678, 'x2': 7322, 'tension': 6486, 'machi': 4117, 'donno': 2306, 'genes': 2974, 'regarding': 5419, 'commit': 1839, 'total': 6701, 'converter': 1911, 'foley': 2793, 'prizes': 5199, 'eye': 2613, '82050': 632, 'sing': 5916, 'along': 884, 'skip': 5947, 'front': 2899, 'pull': 5258, 'com1win150ppmx3age16subscription': 1829, 'version': 6969, 'warner': 7073, '83118': 638, 'colin': 1814, 'farrell': 2656, 'swat': 6367, 'kiosk': 3772, 'mre': 4415, 'wrks': 7306, 'respect': 5493, 'mails': 4142, 'santa': 5642, '09058094583': 169, 'moments': 4365, '5226': 526, 'hava': 3219, '1131': 255, 'daaaaa': 2052, 'pookie': 5085, 'pie': 4986, 'indeed': 3493, 'shattered': 5812, 'squatting': 6147, 'mp3': 4412, 'narcotics': 4493, 'bother': 1385, 'involve': 3563, 'imposed': 3467, 'darling': 2074, 'tb': 6445, 'chgs': 1699, 'rcv': 5348, 'advice': 800, 'nokia6650': 4602, 'txtauction': 6801, '81151': 629, '4t': 502, 'ctxt': 2014, 'mtmsg': 4430, 'lara': 3843, 'suppose': 6341, 'archive': 1011, 'contents': 1902, 'hmv': 3311, 'genuine': 2979, '100percent': 245, 'northampton': 4620, 'skyving': 5952, 'comedy': 1833, 'payments': 4905, 'fedex': 2679, 'blimey': 1332, 'exercise': 2581, 'answers': 950, 'ques': 5291, 'suits': 6311, 'nelson': 4540, 'aint': 845, 'lnly': 3989, '82242': 633, 'msg150p': 4420, '2rcv': 392, 'hlp': 3304, '08712317606': 94, 'hellogorgeous': 3256, 'nitw': 4589, 'texd': 6502, 'hopeu': 3345, '4ward': 508, '2mrw': 384, 'jaz': 3638, 'entertain': 2494, 'anna': 935, 'nagar': 4478, 'ktv': 3800, 'generally': 2973, 'diamonds': 2202, 'shortcode': 5856, '83332': 640, '08081263000': 57, 'refunded': 5414, 'living': 3983, 'perfect': 4928, '100p': 244, '07801543489': 33, 'latests': 3856, '83355': 642, 'llc': 3987, 'usa': 6916, 'mt': 4426, 'msgrcvd18': 4422, 'pre': 5152, 'cancelled': 1568, 'sacked': 5616, 'makin': 4149, 'weirdy': 7137, 'brownies': 1462, 'cookies': 1919, 'favorite': 2670, 'oyster': 4821, 'sashimi': 5653, 'stomach': 6210, 'rumbling': 5602, 'prix': 5197, 'cocksuckers': 1803, 'ipads': 3569, 'worthless': 7290, 'novelty': 4635, '09050000332': 152, 'rstm': 5587, 'sw7': 6363, '3ss': 449, 'oral': 4763, 'doggy': 2292, 'fave': 2668, 'position': 5103, 'quitting': 5299, 'least5times': 3887, 'wudn': 7317, 'christmassy': 1734, 'purchases': 5266, 'gimme': 3000, 'hcl': 3227, 'requires': 5483, 'freshers': 2873, 'english': 2481, 'needed': 4527, 'ms': 4418, 'suman': 6315, 'telephonic': 6470, 'indyarocks': 3502, 'oi': 4698, 'describe': 2169, 'broken': 1455, '9t': 710, 'ure': 6903, 'noworriesloans': 4640, '08717111821': 120, 'gonnamissu': 3048, 'postcard': 5114, 'buttheres': 1510, 'aboutas': 732, 'merememberin': 4259, 'asthere': 1073, 'ofsi': 4693, 'breakin': 1427, 'yaxx': 7353, 'normally': 4618, 'rounder': 5576, 'required': 5481, 'catches': 1612, 'uv': 6934, 'causes': 1617, 'mutations': 4461, 'sunscreen': 6327, 'essential': 2524, 'thesedays': 6546, 'maangalyam': 4111, 'alaipayuthe': 858, '125': 268, 'freeentry': 2860, 'xt': 7331, 'conacted': 1864, '09111030116': 237, 'pobox12n146tf15': 5049, 'answering': 949, 'jp': 3686, 'mofo': 4359, 'screwd': 5699, 'jacuzzi': 3616, 'confuses': 1881, 'hassling': 3212, 'andres': 927, 'haughaighgtujhyguj': 3215, 'waliking': 7048, 'such': 6293, 'worlds': 7281, 'oooooh': 4738, 'chic': 1700, 'common': 1840, 'declare': 2119, 'jazz': 3639, 'hip': 3292, 'coco': 1804, 'peace': 4911, 'blessed': 1329, 'useless': 6922, 'nachos': 4476, 'ref': 5406, 'r836': 5305, '09065069154': 205, 'clas': 1750, 'cereals': 1639, 'gari': 2952, 'films': 2721, 'spirit': 6112, 'yunny': 7402, 'citylink': 1741, 'faster': 2660, 'jenny': 3648, 'leanne': 3883, 'dealer': 2099, 'impatient': 3462, 'someplace': 6035, 'newquay': 4558, '1im': 314, 'talkin': 6420, 'vodafone': 7003, '4882': 487, 'matches': 4195, '09064019014': 203, '09050001295': 156, 'a21': 714, 'brainless': 1414, 'doll': 2299, 'vehicle': 6961, 'sariyag': 5651, 'madoke': 4126, 'barolla': 1180, 'stage': 6158, 'loud': 4048, 'spontaneously': 6128, 'goodevening': 3050, 'enjoyed': 2483, '61610': 550, '08712400602450p': 96, 'provided': 5242, 'tones2you': 6672, 'converted': 1910, 'en': 2467, 'nange': 4490, 'bakra': 1157, 'kalstiya': 3720, 'gran': 3087, 'onlyfound': 4731, 'afew': 806, 'cusoon': 2033, 'honi': 3332, 'grr': 3123, 'prescription': 5168, 'pharmacy': 4957, 'spaces': 6084, 'embassy': 2459, 'sorta': 6062, 'blown': 1345, 'hesitate': 3275, 'weakness': 7107, 'notebook': 4626, 'sports': 6133, 'fans': 2650, '0870141701216': 74, '4txt': 505, '120p': 264, 'unconscious': 6843, 'adults': 797, 'abnormally': 730, 'multimedia': 4442, 'easter': 2406, 'snowboarding': 6016, 'befor': 1239, 'affair': 807, 'dorothy': 2315, 'kiefer': 3762, 'granite': 3092, 'issues': 3590, 'strong': 6246, 'explosive': 2602, 'nasdaq': 4494, 'cdgt': 1626, 'representative': 5477, 'famamus': 2642, 'confidence': 1874, 'aeronautics': 804, 'professors': 5215, 'wer': 7146, 'calld': 1544, 'aeroplane': 805, 'aftr': 821, 'ws': 7311, 'dey': 2192, 'hurried': 3400, 'datz': 2087, 'dismay': 2257, 'fran': 2848, 'ps': 5244, 'anal': 922, 'raviyog': 5342, 'peripherals': 4935, 'bhayandar': 1285, 'lovly': 4063, 'dice': 2204, 'shola': 5847, 'academic': 741, 'department': 2160, 'secretary': 5717, 'sagamu': 5621, 'lautech': 3864, 'vital': 6997, 'completes': 1855, 'education': 2423, 'expensive': 2593, 'zealand': 7409, 'diet': 2214, 'slices': 5964, 'necklace': 4524, 'token': 6655, 'liking': 3944, 'thanks2': 6522, 'perf': 4927, 'thinl': 6563, 'role': 5561, 'standing': 6164, 'actual': 774, 'harder': 3201, 'nbme': 4511, 'manual': 4168, 'tech': 6460, 'reset': 5488, 'troubleshooting': 6752, 'pod': 5062, '80182': 623, '08452810073': 65, 'stayin': 6185, 'stranger': 6233, 'sorted': 6063, 'bloke': 1337, 'gona': 3045, '2getha': 371, 'attend': 1089, 'disconnect': 2249, 'terrorist': 6494, 'itz': 3602, 'confirmd': 1877, 'verified': 6966, 'cnn': 1792, 'ibn': 3420, 'num': 4648, '98321561': 703, 'familiar': 2643, 'velusamy': 6964, 'facilities': 2621, 'divorce': 2266, 'ding': 2232, 'fassyole': 2658, 'blacko': 1318, 'londn': 4013, 'virtual': 6993, 'hug': 3384, 'wisheds': 7222, 'hen': 3264, 'ovulation': 4813, 'strips': 6245, 'postal': 5113, 'audiitions': 1094, 'relocate': 5437, 'arrived': 1042, 'bottle': 1386, 'amused': 919, 'joking': 3675, 'retired': 5511, '09061743386': 189, 'complementary': 1851, 'wa14': 7032, '2px': 391, 'sender': 5753, 'hol': 3316, 'under': 6847, 'lays': 3870, 'lim': 3947, 'hundred': 3393, 'batsman': 1196, 'onum': 4733, 'ela': 2444, 'truth': 6761, 'gravity': 3099, 'carefully': 1589, 'feels': 2683, '08712101358': 90, 'reboot': 5379, 'misundrstud': 4322, 'hate': 3213, 'maneesha': 4163, 'satisfied': 5656, 'experience': 2594, 'toll': 6660, 'ideas': 3432, 'db': 2094, 'environment': 2504, 'terrific': 6493, 'accept': 744, 'lover': 4056, 'dear1': 2103, 'best1': 1269, 'clos1': 1770, 'lvblefrnd': 4092, 'jstfrnd': 3689, 'cutefrnd': 2041, 'lifpartnr': 3933, 'belovd': 1259, 'swtheart': 6388, 'bstfrnd': 1471, 'enemy': 2474, 'arguing': 1022, 'keys': 3748, 'bookshelf': 1372, 'babyjontet': 1145, 'scorable': 5684, 'drpd': 2355, 'deeraj': 2128, 'deepak': 2125, '5min': 536, 'webadres': 7114, 'geting': 2987, 'slip': 5967, 'rooms': 5571, 'fix': 2752, 'tirunelvai': 6621, 'cudnt': 2020, 'ctla': 2009, 'cochin': 1801, 'ente': 2490, 'ishtamayoo': 3584, 'bakrid': 1158, 'tape': 6430, 'importantly': 3466, 'completing': 1856, 'draws': 2334, '09058094565': 168, 'boooo': 1373, 'nowhere': 4639, 'ikno': 3445, 'doesdiscount': 2285, 'shitinnit': 5839, 'printer': 5192, 'groovy': 3115, 'groovying': 3116, 'profile': 5216, 'bpo': 1410, 'rgent': 5527, '1250': 269, '09071512433': 229, '050703': 17, 'callcost': 1542, 'mobilesvary': 4348, 'approve': 997, 'panalam': 4841, 'posts': 5119, 'dolls': 2302, 'patrick': 4891, 'swayze': 6370, '69698': 567, 'zoom': 7416, 'mummy': 4447, '69696': 566, '3lp': 444, 'chatting': 1673, 'accomodations': 751, 'cave': 1619, 'offered': 4685, 'embarassing': 2458, 'haircut': 3163, 'breezy': 1435, 'aww': 1130, 'nearly': 4518, 'dead': 2097, 'jez': 3655, 'todo': 6649, 'workand': 7275, 'whilltake': 7179, 'lists': 3974, 'loneliness': 4015, 'dai': 2057, 'resume': 5508, 'breathing': 1433, 'lmao': 3988, 'needing': 4528, 'ne': 4514, 'interesting': 3544, 'wrking': 7305, 'natalja': 4501, '440': 473, 'nat27081980': 4498, 'data': 2081, 'analysis': 923, 'kidz': 3761, '08702490080': 78, '09066358152': 213, 'prompts': 5229, 'careful': 1588, 'evo': 2560, 'flash': 2760, 'jealous': 3641, 'gender': 2972, '24m': 347, 'schedule': 5679, 'bruv': 1467, 'business': 1505, 'cheesy': 1689, 'frosty': 2900, 'snowman': 6017, '08717895698': 124, 'mobstorequiz10ppm': 4352, 'claims': 1745, '09050005321': 159, 'caroline': 1598, 'favourite': 2672, 'chickened': 1703, 'messaged': 4264, 'woould': 7270, 'theoretically': 6541, 'falling': 2639, 'force': 2815, 'smeone': 5987, 'cheat': 1676, 'played': 5021, 'smash': 5983, 'bros': 1456, 'religiously': 5436, 'rude': 5594, 'apps': 999, 'varaya': 6947, 'elaya': 2447, 'womdarfull': 7255, 'actor': 773, 'kid': 3758, 'lou': 4047, 'goodnite': 3056, 'gailxx': 2933, 'parked': 4866, 'sunroof': 6326, 'popped': 5093, 'sux': 6360, 'slower': 5974, 'idiot': 3436, 'maniac': 4166, 'ups': 6896, '3days': 439, 'shipping': 5834, 'usps': 6929, 'lag': 3821, 'bribe': 1436, 'nipost': 4584, 'cultures': 2022, 'module': 4357, 'three': 6580, 'boyfriend': 1407, '60': 545, '400thousad': 457, 'omg': 4718, 'cat': 1610, 'worms': 7282, 'acknowledgement': 760, 'astoundingly': 1075, 'tactless': 6403, 'faggy': 2626, 'demand': 2151, 'oath': 4667, 'fo': 2792, '07753741225': 27, '08715203677': 115, '42478': 468, 'sighs': 5894, 'lasting': 3850, 'olympics': 4717, 'performed': 4930, 'contribute': 1906, 'greatly': 3106, 'appreciated': 993, 'lancaster': 3828, 'neway': 4555, 'engagement': 2478, 'fixd': 2753, 'shocking': 5846, 'njan': 4591, 'vilikkam': 6983, 'sudn': 6299, '07973788240': 42, '08715203649': 112, '40533': 461, '31': 416, 'happiest': 3195, 'characters': 1658, 'understanding': 6849, 'differences': 2219, 'yavnt': 7352, 'senthil': 5762, 'hsbc': 3379, 'wined': 7211, 'dined': 2231, 'bro': 1451, 'creative': 1979, 'review': 5521, 'promotion': 5228, '8714714': 664, 'spun': 6145, 'wrld': 7307, 'nytho': 4664, 'tx': 6797, 'fonin': 2805, '2mwen': 385, 'bk': 1315, 'frmcloud': 2888, 'body': 1355, 'repairs': 5464, 'followin': 2797, 'cud': 2016, 'ppl': 5131, 'l8': 3806, 'gon': 3044, 'agree': 833, 'ipad': 3567, 'armand': 1030, 'annoying': 941, 'styles': 6269, '88600': 673, 'exp': 2588, '30apr': 411, 'grab': 3081, 'ahhhh': 838, 'woken': 7253, 'approaching': 995, 'sankranti': 5641, 'republic': 5478, 'shivratri': 5842, 'ugadi': 6818, 'fools': 2809, 'independence': 3494, 'teachers': 6452, 'childrens': 1711, 'ganesh': 2944, 'festival': 2690, 'dasara': 2079, 'mornings': 4391, 'afternoons': 819, 'evenings': 2541, 'rememberi': 5445, 'charles': 1663, 'slurp': 5978, 'meat': 4229, 'lovers': 4058, 'supreme': 6343, 'pubs': 5256, 'frankie': 2850, 'bennys': 1266, 'lives': 3982, '49': 488, 'bundle': 1493, 'deals': 2101, 'avble': 1113, 'mf': 4272, 'beyond': 1279, 'biro': 1304, 'thin': 6554, 'arguments': 1024, 'fed': 2678, 'himso': 3290, 'nasty': 4496, 'cough': 1944, 'dry': 2363, '140': 280, '180': 304, 'bedrm': 1231, 'buffy': 1485, 'satisfy': 5657, 'men': 4251, 'randy': 5332, 'qlynnbv': 5286, 'help08700621170150p': 3259, 'sday': 5704, 'joined': 3670, 'escape': 2517, 'bridge': 1437, 'lager': 3823, 'changing': 1654, 'diapers': 2203, 'owed': 4815, 'fires': 2743, 'mary': 4187, 'prakesh': 5144, 'gower': 3076, 'wales': 7047, 'morrow': 4393, 'elaine': 2445, 'local': 3996, 'discreet': 2251, 'action': 768, '69969': 573, 'bcmsfwc1n3xx': 1211, 'treadmill': 6737, 'craigslist': 1968, 'relaxing': 5432, '7am': 604, '5ish': 535, 'cutting': 2045, 'hrishi': 3377, 'dining': 2233, 'experiencehttp': 2595, 'vouch4me': 7014, 'etlp': 2529, 'asp': 1065, 'surly': 6351, 'hui': 3389, 'aldrine': 862, 'rtm': 5590, 'jaya': 3636, '09064012103': 199, 'box334sk38ch': 1398, 'geeeee': 2970, 'mila': 4281, 'age23': 827, 'blonde': 1339, 'mtalk': 4427, '69866': 569, '30pp': 413, '5free': 534, 'increments': 3491, 'help08718728876': 3261, 'lov': 4051, 'nevr': 4553, 'unrecognized': 6873, 'somone': 6047, 'mistakes': 4321, 'valuing': 6946, 'definitly': 2135, 'undrstnd': 6852, 'progress': 5220, 'continue': 1903, 'univ': 6864, 'cell': 1633, 'remembered': 5444, 'advise': 801, 'recent': 5389, '1500': 288, '09066364589': 220, 'li': 3920, 'lecturer': 3893, 'repeating': 5466, 'dogbreath': 2289, 'sounding': 6070, 'muhommad': 4440, 'penny': 4922, 'ducking': 2369, 'chinchillas': 1717, 'watts': 7096, '09066368470': 222, 'salesman': 5630, 'shuhui': 5884, 'naal': 4475, 'eruku': 2514, '4mths': 500, 'mobilesdirect': 4347, '08000938767': 50, 'or2stoptxt': 4762, 'shelf': 5820, 'mirror': 4306, 'youre': 7390, 'turning': 6785, 'picsfree1': 4983, 'vid': 6976, 'keyword': 3749, 'whn': 7182, 'ofice': 4692, 'duffer': 2374, 'tms': 6637, 'widelive': 7193, 'index': 3496, 'wml': 7245, '1b6a5ecef91ff9': 310, '37819': 434, 'true18': 6757, '0430': 15, 'jul': 3694, 'finishd': 2734, 'gnarls': 3023, 'barkleys': 1178, 'horse': 3351, 'racing': 5306, 'chicken': 1702, 'sore': 6058, 'pounded': 5124, 'born': 1380, 'freinds': 2867, 'pride': 5186, 'grownup': 3122, 'reception': 5391, 'fetching': 2692, '4goten': 497, 'scammers': 5672, 'smart': 5980, 'regular': 5426, 'respond': 5496, 'tiime': 6608, 'tears': 6457, '2hrs': 375, 'ability': 726, 'specialisation': 6093, 'labor': 3814, 'sha': 5792, 'shakara': 5798, 'beggar': 1243, 'gauge': 2956, 'patty': 4893, 'interest': 3542, 'videos': 6980, 'shsex': 5880, 'netun': 4546, 'fgkslpopw': 2699, 'fgkslpo': 2698, 'erutupalam': 2516, 'thandiyachu': 6518, 'nimbomsons': 4581, '08715203656': 114, '42049': 466, '09058097189': 174, 'payback': 4900, 'sumfing': 6316, 'indicate': 3500, '3750': 433, 'accident': 748, 'loo': 4020, 'ed': 2417, 'presnts': 5173, 'bcz': 1215, 'mis': 4307, 'jeevithathile': 3644, 'irulinae': 3580, 'neekunna': 4532, 'prakasamanu': 5143, 'sneham': 6009, 'prakasam': 5142, 'ennal': 2488, 'mns': 4338, 'significance': 5898, 'clarification': 1747, 'evey': 2557, 'mnth': 4339, 'flirting': 2774, 'palm': 4839, 'lay': 3868, 'bimbo': 1298, 'ugo': 6820, 'surfing': 6349, 'jaykwon': 3637, 'thuglyfe': 6594, 'falconerf': 2637, 'jd': 3640, 'accounts': 755, 'executive': 2580, '09050000928': 155, 'pobox45w2tg150p': 5054, '30th': 415, 'august': 1098, 'areyouunique': 1018, 'stressful': 6237, 'plumbers': 5038, 'wrench': 7302, 'applausestore': 984, 'monthlysubscription': 4381, 'max6': 4209, 'csc': 2004, 'web': 7113, '2stop': 393, 'bill': 1293, '65': 556, 'dying': 2390, 'anyplaces': 962, 'drinkin': 2342, 'hor': 3347, 'instructions': 3536, 'vava': 6955, 'brisk': 1447, 'walks': 7053, 'dearly': 2105, 'cards': 1582, 'topic': 6689, 'waited': 7042, 'roomate': 5568, 'graduated': 3083, 'bbd': 1203, 'dvg': 2388, 'cold': 1813, 'vinobanagar': 6986, 'violence': 6988, 'ru': 5591, 'model': 4356, 'dust': 2385, 'vewy': 6972, 'lubly': 4077, 'salad': 5625, 'desert': 2170, 'beers': 1238, 'rewarding': 5524, 'window': 7206, 'hiding': 3284, 'k718': 3710, '09065069120': 204, 'ujhhhhhhh': 6823, 'sandiago': 5638, 'parantella': 4859, 'poop': 5087, 'supose': 6336, 'babysit': 1146, 'convince': 1914, 'witot': 7233, 'hurting': 3403, 'main': 4143, 'uploaded': 6893, 'inspection': 3527, 'nursery': 4651, 'pooja': 5084, 'pimples': 4994, 'sweatter': 6373, 'cr': 1964, 'props': 5236, 'melt': 4244, 'sunlight': 6323, 'loss': 4038, 'risk': 5545, '08712103738': 91, 'achan': 757, 'amma': 906, 'mentionned': 4254, 'balls': 1161, 'magic': 4131, 'loose': 4029, 'cleaning': 1758, 'onluy': 4729, 'matters': 4205, 'offcampus': 4682, 'ola': 4709, 'bids': 1288, 'partnership': 4875, 'invest': 3557, 'reliant': 5434, 'kay': 3732, 'soiree': 6025, 'riley': 5537, 'cantdo': 1575, 'anythingtomorrow': 966, 'myparents': 4469, 'aretaking': 1017, 'outfor': 4794, 'katexxx': 3730, 'urgh': 6906, 'coach': 1795, 'smells': 5986, 'duvet': 2386, 'predictive': 5156, 'knackered': 3779, 'lark': 3847, 'logging': 4004, 'geoenvironmental': 2980, 'implications': 3464, 'refund': 5413, 'multiply': 4443, 'independently': 3495, 'count': 1948, 'division': 2265, 'showed': 5868, 'china': 1715, 'asia': 1056, 'nottingham': 4632, '63miles': 554, '40mph': 463, '07808247860': 35, '08719899229': 147, '40411': 460, 'oooh': 4737, 'smokin': 5996, 'knowing': 3786, 'secretly': 5718, '09065394973': 209, 'datebox1282essexcm61xn': 2083, 'sexychat': 5787, 'dine': 2230, 'gain': 2934, 'exe': 2579, 'hlday': 3303, 'camp': 1559, 'amrca': 915, 'serena': 5765, 'meaningful': 4223, 'compromised': 1859, 'mornin': 4389, 'monoc': 4376, 'monos': 4377, 'polyc': 5076, 'stream': 6234, '0871212025016': 92, 'perform': 4929, 'storming': 6227, 'phne': 4964, 'wt': 7312, 'margaret': 4175, 'girlfrnd': 3004, 'grahmbell': 3084, 'invnted': 3562, 'telphone': 6476, 'kappa': 3726, 'mapquest': 4171, 'dogwood': 2293, 'tiny': 6617, 'parking': 4868, 'gpu': 3078, 'begging': 1244, 'river': 5548, 'ccna': 1624, 'base': 1185, 'detroit': 2184, 'exposed': 2603, 'vomiting': 7011, 'authorise': 1104, '09061749602': 194, '528': 529, 'hp20': 3374, '1yf': 327, 'realise': 5363, 'purity': 5267, 'evng': 2559, 'musthu': 4460, 'aunt': 1099, 'flow': 2780, 'developed': 2187, 'ovarian': 4804, 'cysts': 2049, 'bc': 1206, 'shrink': 5878, 'tog': 6650, 'contacts': 1897, 'purple': 5268, 'pink': 4996, 'lyk': 4096, 'yelow': 7364, 'brown': 1461, 'giv': 3008, 'humanities': 3391, 'sem': 5747, 'modules': 4358, 'gist': 3007, 'merely': 4258, 'relationship': 5429, 'wherevr': 7174, 'gudnyt': 3133, 'slippery': 5969, 'everywhere': 2556, 'dirt': 2242, 'windows': 7207, 'mouth': 4405, 'flowing': 2783, 'chores': 1728, 'exist': 2585, 'hail': 3161, 'mist': 4319, 'adoring': 792, 'purse': 5270, 'fffff': 2695, '21870000': 340, 'mailbox': 4140, 'messaging': 4266, '09056242159': 162, 'retrieve': 5512, 'sen': 5751, 'bsn': 1469, 'advising': 802, 'go2sri': 3028, 'lanka': 3837, 'harri': 3207, 'internal': 3547, 'extract': 2610, 'btwn': 1475, 'fill': 2716, 'hands': 3177, 'yelling': 7362, 'scrappy': 5693, 'lonely': 4016, 'voted': 7013, 'heat': 3245, 'applyed': 989, 'oil': 4700, 'annoncement': 938, '07046744435': 22, 'exorcism': 2587, 'emily': 2463, 'hugs': 3387, 'snogs': 6011, 'bowls': 1392, 'svc': 6362, '69988': 574, 'rightio': 5534, '48': 486, 'arent': 1016, 'holby': 3317, 'dearer': 2104, 'dem': 2150, 'rt': 5588, 'pro': 5200, 'ringtoneking': 5542, '08701237397': 71, 'redeemable': 5404, 'vomitin': 7010, 'malaria': 4151, 'bani': 1169, 'bluray': 1350, 'trained': 6719, 'advisors': 803, 'dialling': 2199, '402': 458, 'thangam': 6519, 'names': 4487, 'name1': 4485, 'name2': 4486, 'mobno': 4350, 'adam': 777, '07123456789': 23, 'pobox36504w45wq': 5053, 'txtno': 6804, 'ads': 795, 'poking': 5068, 'everyday': 2549, 'canada': 1563, 'salam': 5626, 'wahleykkum': 7039, 'sharing': 5811, 'grace': 3082, 'tayseer': 6444, 'tissco': 6625, 'inshah': 3525, 'visitor': 6995, 'prof': 5213, 'papers': 4851, 'enna': 2487, 'kalaachutaarama': 3716, 'mini': 4293, 'snap': 6005, 'quizclub': 5301, '80122300p': 620, 'rwm': 5609, '08704050406': 80, 'phasing': 4958, 'fourth': 2845, 'dimension': 2228, 'paperwork': 4852, 'texted': 6509, 'nervous': 4541, 'fired': 2740, 'hotel': 3358, 'textin': 6510, 'arty': 1048, 'collages': 1815, 'tryin': 6763, 'leads': 3881, 'yalru': 7347, 'lyfu': 4094, 'astne': 1074, 'innu': 3521, 'mundhe': 4450, 'lyf': 4093, 'ali': 871, 'halla': 3169, 'bilo': 1297, 'edhae': 2419, 'ovr': 4811, 'vargu': 6948, 'meow': 4257, 'drms': 2350, 'french': 2869, 'fooled': 2808, '08715203694': 117, 'loxahatchee': 4067, 'burning': 1498, 'enjoying': 2485, 'mall': 4154, 'iouri': 3564, 'kaila': 3714, 'wiskey': 7227, 'brandy': 1418, 'rum': 5601, 'gin': 3002, 'vodka': 7004, 'scotch': 5688, 'shampain': 5804, 'kudi': 3802, 'yarasu': 7351, 'dhina': 2195, 'vaazhthukkal': 6936, '07xxxxxxxxx': 43, '08719181259': 142, 'xxxxx': 7337, 'deficient': 2132, '09066368753': 223, '97n7qp': 702, 'uses': 6924, 'revision': 5522, 'boyf': 1406, 'interviw': 3551, 'exeter': 2582, 'unintentionally': 6862, 'faglord': 2627, '515': 525, '9061100010': 695, 'wire3': 7218, '1st4terms': 318, 'm26': 4102, '3uz': 450, 'mobcudb': 4344, 'tp': 6713, 'blank': 1322, 'vivekanand': 7000, 'sd': 5703, 'atleast': 1083, 'shakespeare': 5800, 'arithmetic': 1028, 'percentages': 4926, 'seekers': 5728, 'weighed': 7131, 'woohoo': 7268, '400mins': 456, 'j5q': 3610, 'entertaining': 2495, 'hugh': 3386, 'laurie': 3863, 'stick': 6200, 'praps': 5145, 'goodo': 3058, 'priority': 5193, 'ouch': 4788, 'tuition': 6777, 'slots': 5971, 'decades': 2109, 'goverment': 3074, 'expects': 2592, 'rhythm': 5529, 'establish': 2525, 'ajith': 854, 'wishin': 7224, 'leading': 3880, 'bid': 1287, '151': 296, 'pause': 4895, '08718726270': 130, 'triple': 6748, 'echo': 2414, 'freaking': 2854, 'myspace': 4471, 'logged': 4003, 'reserves': 5487, 'sonetimes': 6048, 'rough': 5574, '08714712412': 109, 'picture': 4984, 'violated': 6987, 'videophones': 6979, '09061744553': 193, 'videochat': 6978, 'java': 3634, 'dload': 2271, 'polyh': 5077, 'noline': 4604, 'rentl': 5461, 'ahold': 840, '08718726970': 132, 'blame': 1321, 'spring': 6142, 'ba': 1139, 'dao': 2067, 'accenture': 743, 'flurries': 2785, 'ground': 3117, 'eek': 2428, 'dates': 2084, 'flirtparty': 2775, 'replys150': 5474, 'tirunelvali': 6622, 'maga': 4129, 'hide': 3283, 'anythiing': 963, 'distance': 2260, 'korean': 3794, 'oic': 4699, 'quickly': 5296, 'settle': 5777, 'ron': 5566, 'swatch': 6368, 'apart': 971, '07734396839': 25, 'ibh': 3416, 'nokia6600': 4601, 'curious': 2028, 'chill': 1713, '6hrs': 577, 'surgical': 6350, 'emergency': 2460, 'unfolds': 6854, 'ploughing': 5036, 'pile': 4992, 'ironing': 3575, 'chinky': 1719, 'payasam': 4899, 'rinu': 5544, 'moji': 4360, 'forgive': 2824, 'messenger': 4268, 'opener': 4743, 'cloud': 1779, 'hero': 3269, 'apt': 1004, 'thnx': 6569, 'rubber': 5593, 'thasa': 6527, 'messed': 4267, 'yeh': 7361, 'shudvetold': 5883, 'urgran': 6909, 'illspeak': 3449, 'u2moro': 6814, 'rr': 5585, 'beneath': 1263, 'pale': 4838, 'downloaded': 2325, 'doit': 2296, 'mymoby': 4468, 'smartcall': 5981, '68866': 562, 'subscriptn3gbp': 6286, '08448714184': 62, 'landlineonly': 3832, 'hhahhaahahah': 3280, 'rofl': 5559, 'nig': 4571, 'leonardo': 3908, '6months': 580, 'n9dx': 4473, 'smith': 5992, 'gayle': 2961, 'dusk': 2384, 'puzzles': 5280, 'europe': 2534, 'emailed': 2456, 'yifeng': 7376, 'liverpool': 3981, 'taka': 6409, 'loverboy': 4057, 'desparately': 2176, 'chase': 1667, 'crossing': 1993, 'coveragd': 1961, 'vasai': 6953, 'complain': 1850, 'bettr': 1274, 'bsnl': 1470, 'offc': 4681, 'nd': 4512, '15': 286, 'dresser': 2340, 'yalrigu': 7346, 'heltini': 3263, 'iyo': 3607, 'kothi': 3798, 'shared': 5810, 'uttered': 6933, 'trusting': 6760, 'signal': 5897, 'neither': 4539, 'unusual': 6883, 'natalie': 4499, '165': 300, 'natalie2k9': 4500, 'vibrate': 6974, 'arr': 1037, 'oscar': 4780, '09063458130': 198, 'polyph': 5078, 'jod': 3665, 'keris': 3745, 'bin': 1299, 'smidgin': 5988, 'figuring': 2713, 'coughing': 1945, 'nutter': 4655, 'cutter': 2044, 'ctter': 2012, 'cttergg': 2013, 'cttargg': 2011, 'ctargg': 2008, 'ctagg': 2007, 'ie': 3439, 'prominent': 5224, 'bite': 1312, 'cheek': 1684, 'paris': 4863, 'flight': 2768, '69101': 563, 'rtf': 5589, 'sphosting': 6108, 'accidant': 747, 'tookplace': 6681, 'ghodbandar': 2995, 'traffic': 6717, 'moves': 4408, 'slovely': 5972, 'alaikkum': 857, 'respectful': 5494, 'cute': 2040, 'walls': 7057, 'hearts': 3244, 'goodnoon': 3057, 'fuuuuck': 2926, 'sleepin': 5958, 'buff': 1483, 'wind': 7205, 'html': 3380, 'gbp4': 2964, 'mfl': 4273, '1146': 257, 'mk45': 4329, '2wt': 400, 'nap': 4492, 'antibiotic': 955, 'abdomen': 722, 'gynae': 3150, 'infections': 3504, 'toilet': 6653, 'stolen': 6209, 'cops': 1925, 'furniture': 2923, 'zogtorius': 7415, 'staring': 6167, 'somewhr': 6046, 'surely': 6347, 'crushes': 1999, 'friendships': 2884, 'macha': 4115, 'mindset': 4290, 'prince': 5189, 'charming': 1664, 'prashanthettan': 5148, 'sacrifice': 5617, 'outsider': 4800, 'rahul': 5312, 'dengra': 2153, 'pt2': 5251, 'txtin': 6802, '4info': 498, 'young': 7387, '121': 265, '60p': 547, '09094646899': 233, 'biggest': 1291, 'vu': 7021, 'bcm1896wc1n3xx': 1209, 'smoked': 5994, '09066362231': 218, 'wondar': 7258, 'flim': 2770, 'tamilnadu': 6425, 'tacos': 6402, 'rajas': 5318, 'burrito': 1500, 'paranoid': 4858, 'workout': 7278, 'fats': 2665, 'devouring': 2191, 'packing': 4827, 'prove': 5240, '09064017305': 201, 'pobox75ldns7': 5055, 'yupz': 7406, 'mobsi': 4351, '391784': 436, 'cc100p': 1623, 'mountain': 4403, 'deer': 2127, 'starve': 6175, 'gua': 3128, 'faber': 2618, '7548': 595, '4041': 459, 'include': 3481, 'tscs08714740323': 6768, '1winawk': 325, '50perweeksub': 519, 'andrews': 928, 'laughing': 3860, 'tooo': 6683, 'nte': 4644, 'headset': 3234, 'adp': 793, 'poet': 5064, 'imagination': 3452, 'control': 1907, 'famous': 2645, 'develop': 2186, 'unconditionally': 6842, 'temper': 6480, 'payed': 4901, 'suganya': 6304, 'lingo': 3957, 'waheeda': 7038, 'fathima': 2664, 'finishing': 2737, 'gods': 3033, 'blessings': 1331, 'flying': 2787, 'monkeys': 4374, 'certainly': 1641, 'dancin': 2063, 'betta': 1272, 'aging': 831, 'products': 5212, 'woot': 7269, 'stuffing': 6265, '08712400200': 95, 'bec': 1224, 'younger': 7388, 'axis': 1133, 'challenge': 1646, 'immed': 3458, 'okies': 4706, 'blah': 1319, 'gimmi': 3001, 'goss': 3065, 'playng': 5026, 'ffffuuuuuuu': 2697, 'suffers': 6302, 'silence': 5902, 'tagged': 6405, 'jason': 3633, 'pose': 5100, 'comb': 1830, 'dryer': 2364, '3000': 406, 'gate': 2955, 'stands': 6165, 'nitz': 4590, 'depressed': 2166, 'sittin': 5932, 'drops': 2353, 'scary': 5675, 'lambu': 3827, 'ji': 3656, 'batchlor': 1191, 'calm': 1554, 'reassurance': 5377, 'clearly': 1763, 'inever': 3503, 'b4u': 1137, 'marsms': 4184, 'b4utele': 1138, '08717168528': 121, 'varunnathu': 6951, 'edukkukayee': 2424, 'raksha': 5324, 'ollu': 4714, 'cl': 1742, 'bahamas': 1153, 'callfreefone': 1549, '08081560665': 58, 'cruise': 1998, '07786200117': 30, 'trauma': 6731, 'swear': 6371, 'brainy': 1416, 'uks': 6826, 'fastest': 2661, 'growing': 3120, '83021': 636, 'superior': 6333, 'ours': 4790, 'waheed': 7037, 'conform': 1879, 'stripes': 6244, 'skirt': 5948, 'dictionary': 2206, 'screen': 5698, 'gently': 2978, '08714712394': 108, 'shu': 5881, 'singapore': 5917, 'sum': 6313, 'lucyxx': 4082, 'macedonia': 4114, 'ú1': 7420, 'poboxox36504w45wq': 5057, '88800': 674, '89034': 678, 'premium': 5161, '08718711108': 126, 'website': 7117, 'spacebucks': 6083, 'gotten': 3072, 'begun': 1247, 'registration': 5423, 'permanent': 4936, 'residency': 5489, 'bbq': 1205, '6ish': 578, 'washob': 7078, 'nobbing': 4594, 'nickey': 4569, 'platt': 5019, 'defer': 2131, 'admission': 789, 'olol': 4715, 'printed': 5191, 'forum': 2837, 'replacement': 5468, 'hopefully': 3342, 'logoff': 4007, 'casualty': 1609, 'stuff42moro': 6264, 'includes': 3482, 'hopeing': 3343, 'sisters': 5927, 'darlings': 2075, 'tiring': 6620, 'concentrating': 1865, 'infernal': 3505, 'affairs': 808, 'animal': 931, 'trade': 6716, 'call09050000327': 1539, 'mittelschmertz': 4325, 'paracetamol': 4853, 'bookedthe': 1369, 'hut': 3407, 'juicy': 3693, 'ecstasy': 2416, 'sef': 5734, 'anjie': 933, 'frequently': 2871, 'fortune': 2836, 'canary': 1565, 'islands': 3586, '20m12aq': 337, 'rumour': 5603, 'harish': 3205, 'transfred': 6728, 'acnt': 762, 'headache': 3230, 'shoot': 5848, 'docs': 2279, 'tight': 6604, 'blastin': 1326, 'tsunamis': 6770, 'occur': 4674, 'rajnikant': 5322, 'ocean': 4676, 'group': 3118, 'attached': 1087, 'luckily': 4079, 'starring': 6168, 'size': 5937, 'elephant': 2451, 'shove': 5865, 'um': 6830, '09058094455': 166, 'kfc': 3750, 'meals': 4220, 'gravy': 3100, 'footie': 2811, 'phil': 4962, 'neville': 4552, 'talents': 6417, 'unfortunately': 6855, 'cakes': 1532, 'amla': 905, 'durban': 2382, 'x49': 7324, '09065989182': 211, 'txtstar': 6806, '08715500022': 118, 'rpl': 5583, 'cnl': 1791, 'continued': 1904, 'in2': 3477, 'president': 5172, 'split': 6121, 'ptbo': 5252, 'youi': 7386, 'bitching': 1311, 'acted': 766, 'haul': 3216, 'bawling': 1199, 'failure': 2631, 'failing': 2629, 'memorable': 4248, '09065171142': 206, 'stopsms': 6222, '08': 44, 'warwick': 7076, 'concert': 1868, 'tmw': 6638, 'canceled': 1567, 'havn': 3225, 'sdryb8i': 5705, 'mathews': 4200, 'tait': 6407, 'edwards': 2426, 'anderson': 926, 'block': 1333, 'breaker': 1426, 'deluxe': 2149, 'format': 2832, 'features': 2675, 'graphics': 3094, 'bbdeluxe': 1204, '89545': 683, '087187262701': 131, '50gbp': 517, 'mtmsg18': 4431, 'pages': 4831, 'kotees': 3797, 'puppy': 5263, 'noise': 4598, 'okors': 4708, 'cherish': 1693, 'mojibiola': 4361, 'mmmm': 4333, 'lick': 3924, '08719181503': 143, 'tall': 6423, 'randomlly': 5330, 'opening': 4745, '32000': 420, 'legitimat': 3898, 'efreefone': 2432, 'financial': 2728, 'puts': 5276, 'perspective': 4946, 'afterwards': 820, 'annoyin': 940, 'unni': 6872, 'recharge': 5393, 'coccooning': 1800, 'somerset': 6036, 'sections': 5721, 'clearer': 1761, 'u4': 6815, 'knickers': 3783, 'beg': 1242, '01223585236': 5, 'nikiyu4': 4580, '89938': 686, 'strings': 6243, '50ea': 516, 'otbox': 4782, '731': 591, 'la1': 3811, '7ws': 611, 'classmates': 1754, 'sexiest': 5784, 'dirtiest': 2243, '89070': 679, 'missionary': 4317, 'hook': 3336, 'hangin': 3182, 'nordstrom': 4614, 'dull': 2375, 'dentists': 2157, 'xam': 7325, '1thing': 321, 'answr': 951, 'posting': 5117, 'trek': 6744, 'aptitude': 1005, 'corvettes': 1933, 'hamster': 3173, '1pm': 316, 'management': 4159, 'puzzeles': 5279, 'fighting': 2708, 'fightng': 2709, 'some1': 6032, 'dificult': 2222, '28thfeb': 362, '330': 425, 'hm': 3305, '1120': 253, '1205': 263, 'destination': 2179, 'cld': 1756, 'wld': 7244, 'nosh': 4623, 'ey': 2612, 'downon': 2327, 'theacusations': 6531, 'itxt': 3601, 'iwana': 3605, 'wotu': 7292, 'thew': 6550, 'haventcn': 3223, 'up4': 6885, 'nething': 4545, 'earliest': 2397, 'okmail': 4707, 'gage': 2931, 'deck': 2117, 'cnupdates': 1793, 'newsletter': 4561, 'alerts': 865, 'ukp': 6825, '09061790125': 196, 'showr': 5873, 'gurl': 3143, 'appropriate': 996, 'enjoyin': 2484, 'sall': 5631, 'hehe': 3250, 'shexy': 5824, 'accordin': 752, 'discussed': 2253, 'pathaya': 4890, 'enketa': 2486, 'maraikara': 4172, 'flippin': 2772, 'nri': 4642, 'audrie': 1097, 'lousy': 4050, 'autocorrect': 1106, 'endowed': 2472, 'grown': 3121, 'unclaimed': 6839, '09066368327': 221, 'closingdate04': 1776, '09': 149, 'claimcode': 1744, 'm39m51': 4104, '50pmmorefrommobile2bremoved': 522, 'mobypobox734ls27yf': 4354, 'robinson': 5553, '730': 590, 'olowoyey': 4716, 'argentina': 1019, 'formatting': 2833, 'jack': 3612, 'helpful': 3262, 'pretend': 5176, 'hypotheticalhuagauahahuagahyuhagga': 3413, 'building': 1488, 'coat': 1797, 'shade': 5793, 'resuming': 5509, 'minimum': 4294, 'reapply': 5373, 'nauseous': 4509, 'sweets': 6378, 'dieting': 2215, 'coincidence': 1809, 'range': 5334, 'interfued': 3546, 'predict': 5153, 'avalarr': 1111, 'hollalater': 3323, 'alter': 890, 'showered': 5870, 'ything': 7398, 'manky': 4167, 'scouse': 5691, 'travelling': 6735, 'inmind': 3517, 'recreation': 5402, 'hitter': 3299, 'hall': 3168, 'hesitation': 3276, 'silently': 5904, 'intha': 3552, 'ponnungale': 5082, 'ipaditan': 3568, 'kavalan': 3731, 'eurodisinc': 2533, 'trav': 6732, 'aco': 763, 'entry41': 2501, 'morefrmmob': 4387, 'shracomorsglsuplt': 5876, 'ls1': 4070, '3aj': 437, 'passport': 4884, 'function': 2916, 'gentleman': 2977, 'dignity': 2226, 'craving': 1975, 'gossip': 3066, '82468': 635, 'enuff': 2502, 'mb': 4214, 'compass': 1847, 'map': 4170, 'soul': 6068, 'gnun': 3025, 'way2sms': 7101, 'simulate': 5913, 'readiness': 5358, 'wesleys': 7151, 'aaooooright': 718, 'heehee': 3249, 'funny': 2921, 'banned': 1172, 'salmon': 5632, 'rhode': 5528, 'island': 3585, 'bong': 1363, '08712402902': 99, 'conveying': 1913, '2814032': 359, '3x': 452, '150pw': 295, 'ummma': 6833, '09090900040': 231, 'extreme': 2611, 'privacy': 5195, 'sic': 5889, '7mp': 607, '0870753331018': 83, 'opposite': 4753, 'hearin': 3241, 'mw': 4463, 'tuth': 6787, 'scrounge': 5700, 'ammo': 908, 'ak': 855, 'swell': 6379, 'apnt': 976, 'suffering': 6301, 'dysentry': 2391, 'mca': 4215, '6230': 551, '83383': 643, 'pobox114': 5048, '14tcr': 284, '2geva': 372, 'owl': 4816, '84484': 648, 'nothin': 4627, 'hanger': 3181, 'get4an18th': 2985, 'teresa': 6487, 'dec': 2108, 'thot': 6572, 'ld': 3873, 'bam': 1162, 'aid': 841, 'usmle': 6928, 'raglan': 5311, 'edward': 2425, 'cricket': 1986, 'closeby': 1772, 'ndship': 4513, 'needle': 4529, '4few': 493, 'conected': 1872, 'bears': 1220, 'nick': 4568, 'types': 6811, 'clear': 1759, 'copies': 1923, 'clarify': 1748, 'preponed': 5166, 'wlcome': 7243, 'lion': 3960, 'buz': 1516, 'wedlunch': 7120, 'outsomewhere': 4801, 'adrink': 794, '2watershd': 397, 'fromwrk': 2898, 'bthere': 1473, 'petexxx': 4952, 'skateboarding': 5941, 'thrown': 6588, 'winds': 7208, 'bandages': 1165, 'stated': 6178, 'sweater': 6372, 'mango': 4165, 'irritating': 3578, 'conference': 1873, 'gopalettan': 3062, 'participate': 4870, 'admin': 786, '7634': 598, '7684': 599, 'stressfull': 6238, 'adds': 784, '44': 472, '7732584351': 601, '24th': 348, 'gail': 2932, 'l8tr': 3809, 'yaxxx': 7354, 'loosu': 4031, 'careless': 1590, '08712402578': 98, 'everyones': 2551, 'babysitting': 1147, 'snatch': 6007, '09111032124': 238, 'pobox12n146tf150p': 5050, 'lik': 3939, 'resolution': 5492, 'frank': 2849, 'collapsed': 1816, 'showers': 5871, 'possessiveness': 5108, 'poured': 5126, 'lies': 3928, 'golden': 3041, 'outbid': 4792, 'simonwatson5120': 5908, 'shinco': 5828, 'plyr': 5041, 'smsrewards': 6001, 'notifications': 4630, 'juliana': 3696, 'rob': 5552, 'mack': 4119, 'theater': 6532, 'belive': 1254, 'monster': 4378, 'wondarfull': 7259, 'dom': 2303, 'sapna': 5645, 'aunty': 1102, 'manege': 4164, 'hogidhe': 3315, 'chinnu': 1720, 'swalpa': 6365, 'agidhane': 830, '0089': 3, 'digits': 2225, '09063442151': 197, 'knock': 3784, 'tkls': 6630, 'stoptxtstop': 6223, 'checkmate': 1683, 'chess': 1695, 'persian': 4940, 'phrase': 4974, 'shah': 5796, 'maat': 4112, 'tallent': 6424, 'wasting': 7083, 'somewhat': 6043, 'event': 2542, 'laden': 3818, 'wrecked': 7301, 'reache': 5353, 'guessin': 3136, 'poem': 5063, 'fear': 2674, 'wetherspoons': 7157, 'completed': 1853, 'degree': 2137, 'joining': 3671, 'finance': 2727, 'keen': 3735, 'recpt': 5401, '6pm': 582, 'awww': 1131, '08718727870150ppm': 136, '07008009200': 21, 'lunsford': 4084, 'pleassssssseeeeee': 5031, 'avent': 1116, 'sportsx': 6134, 'bcaz': 1207, 'strict': 6241, 'teacher': 6451, 'teaches': 6453, 'conducts': 1871, 'understood': 6850, 'upon': 6894, 'kills': 3766, 'phony': 4970, 'crowd': 1994, '169': 301, '6031': 546, 'treatin': 6740, 'treacle': 6736, 'luton': 4086, '0125698789': 6, '02072069400': 9, 'bx': 1521, '526': 528, 'sptv': 6144, 'jersey': 3651, 'devils': 2190, 'wings': 7212, 'incorrect': 3488, 'brin': 1443, 'sheet': 5817, 'upstairs': 6898, 'uncountable': 6845, 'hep': 3266, 'immunisation': 3460, 'blanket': 1324, 'sooooo': 6056, 'caveboy': 1620, 'mcfly': 4217, 'ab': 720, 'sara': 5647, 'jorge': 3681, 'shock': 5845, 'follow': 2795, 'length': 3904, 'shorter': 5857, 'distract': 2261, 'scores': 5686, 'sophas': 6057, 'secondary': 5714, 'schools': 5681, 'applying': 990, 'ogunrinde': 4696, 'alfie': 867, 'm8s': 4107, 'charity': 1662, 'nokias': 4603, '08701417012': 72, 'profit': 5217, 'reminded': 5449, 'doctors': 2281, 'reminds': 5452, 'skint': 5946, 'fancied': 2647, 'bevies': 1277, 'waz': 7102, 'othrs': 4786, 'spoon': 6130, 'watchng': 7089, 'planet': 5013, 'comfey': 1835, 'wknd': 7241, 'explicitly': 2601, 'nora': 4613, 'mandy': 4162, 'sullivan': 6312, 'hotmix': 3360, 'fm': 2789, 'telephone': 6469, '09041940223': 150, 'transferred': 6726, 'thanx4': 6526, 'cer': 1638, 'sts': 6250, 'radiator': 5307, 'fink': 2738, '09099726553': 236, 'promised': 5226, 'carlie': 1593, 'minmobsmore': 4295, 'lkpobox177hp51fl': 3985, 'stink': 6204, 'kane': 3723, 'shud': 5882, 'caught': 1615, 'dobby': 2275, 'filthy': 2723, 'stories': 6226, '69669': 565, 'gprs': 3077, 'weaknesses': 7108, 'pushes': 5273, 'knee': 3780, 'exposes': 2604, 'pulls': 5259, 'wicked': 7190, 'studies': 6258, 'anyones': 961, 'sue': 6300, 'lapdancer': 3840, 'g2': 2929, '1da': 312, '150ppmsg': 294, 'deepest': 2126, 'darkest': 2071, '09094646631': 232, 'nat': 4497, 'flew': 2766, '80608': 625, 'movietrivia': 4411, '08712405022': 102, '1x150p': 326, 'memory': 4250, 'epsilon': 2506, 'mega': 4237, 'asda': 1053, 'counts': 1951, 'celebration': 1631, 'bare': 1175, 'badrith': 1150, 'blogging': 1335, 'magicalsongs': 4133, 'blogspot': 1336, '09058094507': 167, 'text82228': 6504, 'logos': 4009, 'txt82228': 6800, 'bar': 1174, 'fried': 2879, 'spares': 6087, 'looovvve': 4028, '3650': 429, '09066382422': 225, '300603': 407, 'bcm4284': 1210, 'lighters': 3938, 'ee': 2427, 'poortiyagi': 5090, 'odalebeku': 4677, 'hanumanji': 3187, 'hanuman': 3186, 'bajarangabali': 1155, 'maruti': 4185, 'pavanaputra': 4896, 'sankatmochan': 5640, 'ramaduth': 5327, 'mahaveer': 4136, 'janarige': 3625, 'ivatte': 3603, 'kalisidare': 3718, 'olage': 4710, 'ondu': 4723, 'keluviri': 3740, 'maretare': 4174, 'inde': 3492, 'dodda': 2282, 'problum': 5207, 'nalli': 4483, 'siguviri': 5901, 'idu': 3438, 'matra': 4201, 'neglet': 4536, 'whatsup': 7163, 'justbeen': 3704, 'overa': 4806, 'broke': 1454, 'brains': 1415, 'mush': 4455, 'yellow': 7363, 'misscall': 4313, 'frndz': 2893, '6missed': 579, 'drunkard': 2360, 'investigate': 3558, '0871': 89, '872': 665, '9755': 700, 'box95qu': 1402, 'creep': 1983, 'receivea': 5386, '09061701461': 185, 'kl341': 3778, 'diddy': 2208, 'neighbor': 4537, 'toothpaste': 6686, 'amk': 904, 'evaporated': 2536, 'stealing': 6190, 'employer': 2465, 'lock': 3999, 'locks': 4000, 'jenne': 3647, 'abeg': 723, 'sponsors': 6127, 'onwords': 4735, 'mtnl': 4433, 'mumbai': 4446, 'vip': 6990, 'blu': 1346, 'november': 4636, '09061104276': 178, '75max': 596, 'scenario': 5676, 'atlanta': 1081, 'juswoke': 3706, 'boatin': 1354, 'docks': 2278, 'spinout': 6111, 'impression': 3471, 'motherfucker': 4398, 'instant': 3532, '08715203028': 111, '9th': 711, 'sian': 5887, 'amongst': 910, 'remembrs': 5447, 'everytime': 2555, '09058095107': 172, 's3xy': 5611, 'ingredients': 3513, 'oranges': 4765, 'upd8': 6886, 'wesley': 7150, 'romantic': 5564, 'scenery': 5677, 'practising': 5141, 'curtsey': 2032, '22': 342, 'timin': 6614, 'gota': 3068, 'lindsay': 3952, 'bars': 1184, 'heron': 3271, 'champ': 1647, 'glasgow': 3015, 'turned': 6784, 'pisces': 4998, 'aquarius': 1006, 'supplies': 6337, 'lifetime': 3932, 'meaningless': 4224, 'tensed': 6485, 'hasnt': 3211, '86888': 657, 'subscribe6gbp': 6280, '3hrs': 442, 'txtstop': 6807, 'gamb': 2939, 'listed': 3968, '09065394514': 208, 'gam': 2938, 'outstanding': 4802, 'innings': 3519, 'appeal': 983, 'thriller': 6582, 'director': 2240, 'mac': 4113, '545': 533, 'veggie': 6960, 'lolnice': 4011, 'convenience': 1908, 'spiritual': 6113, 'animation': 932, 'deserve': 2171, 'superb': 6332, 'grateful': 3096, 'happier': 3194, 'necesity': 4519, 'witout': 7234, 'colleg': 1822, 'wth': 7314, 'functions': 2917, 'events': 2543, 'espe': 2520, 'irritated': 3576, '4wrd': 509, 'wthout': 7315, 'takecare': 6411, 'mailed': 4141, 'varma': 6950, 'membership': 4247, 'sources': 6075, 'unhappiness': 6857, 'chik': 1705, 'filth': 2722, 'saristar': 5650, 'e14': 2392, '9yt': 712, '08701752560': 75, '450p': 481, 'stop2': 6217, 'hype': 3412, '700': 587, 'studio': 6259, 'spys': 6146, 'ubi': 6817, '67441233': 561, 'irene': 3573, 'ere': 2509, 'bus8': 1502, '61': 548, '66': 558, '382': 435, 'cres': 1985, '6ph': 581, '5wkg': 542, 'èn': 7419, 'scarcasim': 5673, 'parkin': 4867, 'compensation': 1848, 'barring': 1183, 'sudden': 6297, 'influx': 3506, 'ceri': 1640, 'rebel': 5378, 'dreamz': 2337, 'buddy': 1479, 'blokes': 1338, 'shag': 5795, 'sextextuk': 5785, 'xxuk': 7334, '69876': 570, 'deduct': 2123, 'wee': 7123, 'shadow': 5794, 'slippers': 5968, 'pdate_now': 4910, 'yhl': 7374, 'boat': 1353, 'girlie': 3005, 'giggle': 2999, 'possibly': 5111, 'person2die': 4942, 'nvq': 4657, 'lasagna': 3848, 'uhhhhrmm': 6822, 'wewa': 7158, '130': 276, 'iriver': 3574, '255': 352, '128': 271, 'wishlist': 7226, 'section': 5720, 'nitro': 4587, 'gyno': 3151, 'shoving': 5866, 'belong': 1258, 'syria': 6395, 'lord': 4033, 'rings': 5540, 'lotr': 4041, 'soundtrack': 6072, 'stdtxtrate': 6189, 'sticky': 6201, 'electricity': 2450, 'rayan': 5343, 'macleran': 4120, 'shb': 5814, 'syllabus': 6390, 'summers': 6318, 'matched': 4194, 'help08714742804': 3260, 'machan': 4116, 'build': 1487, 'angels': 929, 'snowball': 6015, 'affidavit': 810, 'twiggs': 6793, 'courtroom': 1958, 'zac': 7407, 'gmw': 3021, 'connected': 1885, 'barred': 1181, 'stores': 6225, 'twat': 6789, 'dungerees': 2379, 'decking': 2118, 'punch': 5260, 'meds': 4233, 'borderline': 1376, 'pshew': 5246, '220': 343, 'cm2': 1787, 'blur': 1349, 'designation': 2172, 'developer': 2188, 'nike': 4579, 'semi': 5749, 'method': 4271, 'calculation': 1534, 'invaders': 3556, 'orig': 4773, 'console': 1892, 'potato': 5120, 'ratio': 5341, 'secure': 5722, 'youdoing': 7385, 'sar': 5646, 'effect': 2430, 'irritation': 3579, 'cali': 1535, 'complexities': 1857, 'freely': 2863, 'taxes': 6440, 'outrageous': 4797, 'ibm': 3419, 'hp': 3373, 'lipo': 3965, 'trackmarque': 6715, 'vipclub4u': 6991, 'physics': 4976, 'nhs': 4563, 'yor': 7382, '2b': 364, 'terminated': 6489, 'inconvenience': 3487, 'pocked': 5059, 'melody': 4243, 'speedchat': 6100, '80155': 621, 'swap': 6366, 'chatter': 1672, 'chat80155': 1671, 'rcd': 5347, 'dizzamn': 2268, 'suitemates': 6310, 'kaiez': 3713, 'beta': 1271, 'janx': 3629, 'dads': 2056, 'jsco': 3687, '2channel': 366, 'leadership': 3879, 'skills': 5944, 'psychic': 5249, 'subscribed': 6281, 'follows': 2799, 'subsequent': 6288, 'rang': 5333, 'alto18': 893, 'wave': 7097, '44345': 475, 'club4mobiles': 1782, '87070': 660, 'club4': 1781, 'box1146': 1394, 'grumpy': 3125, 'lying': 4095, 'diesel': 2213, '09096102316': 234, 'minmoremobsemspobox45po139wa': 4297, 'brah': 1411, 'dled': 2269, 'cutie': 2043, 'hills': 3288, 'officially': 4690, 'market': 4178, 'desperate': 2177, 'tantrum': 6428, 'crash': 1972, 'fishrman': 2748, 'sack': 5615, 'stones': 6214, 'strtd': 6248, 'throwin': 6586, '1stone': 320, 'language': 3836, 'beside': 1267, '09066649731from': 227, '09077818151': 230, 'calls1': 1553, '50ppm': 523, '30s': 414, 'santacalling': 5643, '4w': 507, 'technologies': 6462, 'cherthala': 1694, 'bfore': 1282, 'tmorow': 6634, 'engaged': 2477, 'sells': 5746, '4d': 491, 'closes': 1775, 'smsing': 6000, 'fring': 2885, '087147123779am': 106, 'solihull': 6028, 'costume': 1940, 'impressively': 3472, 'sensible': 5758, 'buttons': 1512, 'crying': 2001, 'imprtant': 3475, 'tomorw': 6668, 'motivate': 4399, 'darkness': 2072, 'cts': 2010, 'employee': 2464, 'jelly': 3645, 'slightly': 5966, 'farting': 2657, 'intend': 3539, 'iwas': 3606, 'marine': 4176, 'itried2tell': 3597, 'urmom': 6912, 'careabout': 1584, 'sth': 6199, 'specs': 6097, 'px3748': 5281, 'expression': 2606, 'depression': 2167, 'tightly': 6605, 'yoyyooo': 7395, 'permissions': 4938, 'squishy': 6149, 'mwahs': 4464, 'dock': 2277, 'rolled': 5563, 'newscaster': 4560, 'dabbles': 2053, 'flute': 2786, 'wheel': 7165, 'ninish': 4583, 'icky': 3428, 'american': 901, 'freek': 2862, 'singing': 5918, 'xclusive': 7328, 'clubsaisai': 1783, 'speciale': 6092, 'zouk': 7417, 'roses': 5573, '07946746291': 41, '07880867867': 39, 'every1': 2546, 'ava': 1108, 'goodtime': 3060, 'oli': 4713, 'melnite': 4242, 'ifink': 3441, 'everythin': 2553, 'l8rs': 3808, '0808': 56, '145': 282, '4742': 485, '11pm': 261, 'burden': 1495, '89105': 681, 'grumble': 3124, 'limit': 3948, 'boundaries': 1389, 'endless': 2471, 'associate': 1069, 'rounds': 5577, 'misplaced': 4311, 'mcat': 4216, 'japanese': 3631, 'proverb': 5241, 'companion': 1844, 'chef': 1690, 'listener': 3971, 'organizer': 4772, 'sympathetic': 6392, 'athletic': 1080, 'courageous': 1955, 'determined': 2183, 'dependable': 2161, 'psychologist': 5250, 'pest': 4950, 'exterminator': 2608, 'psychiatrist': 5248, 'healer': 3236, 'stylist': 6272, 'driver': 2346, 'aaniye': 717, 'pudunga': 5257, 'venaam': 6965, '3230': 421, 'textbook': 6506, 'algorithms': 870, 'edition': 2421, 'tee': 6463, 'positive': 5105, 'negative': 4534, 'hmmmm': 3308, 'paypal': 4907, 'voila': 7007, 'pockets': 5061, 'convinced': 1915, 'conversations': 1909, 'senses': 5757, 'overemphasise': 4808, 'hearing': 3242, 'thesmszone': 6548, 'anonymous': 942, 'masked': 4189, 'abuse': 739, '07732584351': 24, 'rodger': 5558, '09050000878': 154, 'everybody': 2547, 'tmrw': 6636, 'settling': 5779, 'happenin': 3191, 'ore': 4769, 'owo': 4820, 'fro': 2895, 'evaluation': 2535, 'sarcastic': 5649, 'gumby': 3141, 'fixes': 2755, 'spelling': 6104, 'mostly': 4396, 'afternon': 817, 'interviews': 3550, '1450': 283, '09053750005': 161, '310303': 418, '08718725756': 129, '140ppm': 281, 'msn': 4425, 'woah': 7250, 'realising': 5365, 'reasonable': 5375, 'formally': 2831, 'praying': 5151, 'woo': 7265, 'hoo': 3334, '09061743810': 191, 'thanku': 6523, 'maaaan': 4110, 'testing': 6499, 'sayy': 5670, 'grasp': 3095, 'prasad': 5146, 'fondly': 2801, 'stairs': 6159, 'phews': 4961, 'southern': 6077, 'postponed': 5118, 'stocked': 6207, 'dialogue': 2200, 'reltnship': 5438, 'wipe': 7216, 'juan': 3691, 'presents': 5171, 'nicky': 4570, 'strt': 6247, 'netcollex': 4543, 'ltdhelpdesk': 4075, '02085076972': 11, 'dokey': 2298, 'administrator': 787, 'sculpture': 5702, 'snickering': 6010, 'chords': 1727, 'luvs': 4088, 'shijutta': 5827, 'decorating': 2120, 'speaking': 6090, 'goodmate': 3053, 'asusual': 1077, 'cheered': 1686, 'franyxxxxx': 2851, 'uworld': 6935, 'qbank': 5283, 'assessment': 1067, 'bffs': 1281, 'carly': 1596, 'ibhltd': 3417, 'ldnw15h': 3876, 'mtmsgrcvd18': 4432, 'cashbin': 1605, 'hire': 3294, 'hitman': 3298, 'ami': 902, 'parchi': 4860, 'kicchu': 3754, 'kaaj': 3711, 'korte': 3796, 'iccha': 3424, 'korche': 3793, 'tul': 6778, 'fifty': 2706, 'sez': 5788, 'arab': 1008, 'evry1': 2564, 'eshxxxxxxxxxxx': 2519, 'ahhh': 837, 'vaguely': 6937, 'smashed': 5984, 'dent': 2155, 'multis': 4444, 'belligerent': 1256, 'bold2': 1359, 'hmv1': 3312, 'iraq': 3572, 'afghanistan': 812, 'stable': 6155, 'honest': 3329, 'traveling': 6734, 'watchin': 7087, 'lido': 3926, 'pert': 4947, 'hooked': 3337, 'lengths': 3905, 'behalf': 1248, 'stunning': 6266, 'desparate': 2175, 'learned': 3885, 'tunde': 6780, 'positions': 5104, 'kama': 3721, 'sutra': 6359, 'darker': 2070, 'styling': 6270, 'jackpot': 3614, '81010': 628, 'dbuk': 2095, 'lccltd': 3872, '4403ldnw1a7rw18': 474, 'noisy': 4599, 'wherre': 7175, 'cmon': 1789, 'replies': 5471, 'ebay': 2412, 'slob': 5970, 'volcanoes': 7008, 'erupt': 2515, 'arise': 1026, 'hurricanes': 3399, 'sway': 6369, 'aroundn': 1036, 'disasters': 2247, '08719899230': 148, '41685': 464, '07': 20, 'hmph': 3310, 'baller': 1160, 'srs': 6150, '08718738034': 139, 'objection': 4668, 'tank': 6427, 'lavender': 3865, 'seventeen': 5781, 'ml': 4330, 'playin': 5024, 'lovin': 4060, 'loooooool': 4027, 'couch': 1942, 'rents': 5462, 'steamboat': 6192, 'rugby': 5596, 'stitch': 6205, 'trouser': 6753, '078': 32, 'canteen': 1576, '9996': 705, '14thmarch': 285, 'availa': 1109, 'arngd': 1033, 'walkin': 7051, 'unfortuntly': 6856, 'snake': 6004, 'bites': 1313, 'frnt': 2894, 'sayin': 5667, 'allday': 877, 'piss': 4999, '449050000301': 479, '09050000301': 151, '09061702893': 188, 'coimbatore': 1808, 'weightloss': 7133, 'shoul': 5860, '07808726822': 36, '9758': 701, 'hiphop': 3293, '07808': 34, 'xxxxxx': 7338, '08719899217': 146, '448712404000': 478, '08712404000': 100, 'torrents': 6695, 'particularly': 4872, 'slowing': 5975, 'matric': 4202, 'thout': 6577, 'lodge': 4001, 'offline': 4691, 'anjola': 934, 'apologize': 979, 'erm': 2511, 'woodland': 7266, 'avenue': 1117, 'parish': 4864, 'magazine': 4130, 'ryan': 5610}\n"
     ]
    }
   ],
   "source": [
    "#use text count vectorizer for converting Message feature to numeric\n",
    "\n",
    "from sklearn.feature_extraction.text import CountVectorizer\n",
    "v = CountVectorizer()\n",
    "X_train_count = v.fit_transform(X_train.values.astype('U'))\n",
    "\n",
    "print('shape', X_train_count.shape)\n",
    "\n",
    "#to see the vocabulary\n",
    "print(v.vocabulary_)"
   ]
  },
  {
   "cell_type": "code",
   "execution_count": 25,
   "id": "ec503630",
   "metadata": {},
   "outputs": [
    {
     "name": "stdout",
     "output_type": "stream",
     "text": [
      "[[0 0 0 ... 0 0 0]\n",
      " [0 0 0 ... 0 0 0]]\n"
     ]
    }
   ],
   "source": [
    "#to see the array\n",
    "print (X_train_count.toarray()[:2])"
   ]
  },
  {
   "cell_type": "code",
   "execution_count": 26,
   "id": "7ab129d9",
   "metadata": {},
   "outputs": [
    {
     "data": {
      "text/plain": [
       "MultinomialNB()"
      ]
     },
     "execution_count": 26,
     "metadata": {},
     "output_type": "execute_result"
    }
   ],
   "source": [
    "#fit model\n",
    "from sklearn.naive_bayes import MultinomialNB\n",
    "model = MultinomialNB()\n",
    "model.fit(X_train_count,y_train)\n"
   ]
  },
  {
   "cell_type": "code",
   "execution_count": 27,
   "id": "e96d2900",
   "metadata": {},
   "outputs": [
    {
     "name": "stdout",
     "output_type": "stream",
     "text": [
      "shape (4, 7422)\n"
     ]
    },
    {
     "data": {
      "text/plain": [
       "array([0, 1, 0, 1], dtype=int64)"
      ]
     },
     "execution_count": 27,
     "metadata": {},
     "output_type": "execute_result"
    }
   ],
   "source": [
    "#predict 4 emails\n",
    "\n",
    "emails = [\n",
    "    'Hey mohan, can we get together to watch footbal game tomorrow?',\n",
    "    'Upto 20% discount on parking, exclusive offer just for you. Dont miss this reward!',\n",
    "    'sos',\n",
    "    'free'\n",
    "]\n",
    "\n",
    "#we trasform emails using model train vocabulary\n",
    "emails_count = v.transform(emails)\n",
    "\n",
    "print ('shape', emails_count.shape)\n",
    "\n",
    "model.predict(emails_count)\n",
    "#1st is not spam, 2nd is spam, 3rd is not spam, 4th is spam"
   ]
  },
  {
   "cell_type": "code",
   "execution_count": 28,
   "id": "c69f12e6",
   "metadata": {},
   "outputs": [
    {
     "name": "stdout",
     "output_type": "stream",
     "text": [
      "(1394, 7422)\n"
     ]
    },
    {
     "data": {
      "text/plain": [
       "0.9813486370157819"
      ]
     },
     "execution_count": 28,
     "metadata": {},
     "output_type": "execute_result"
    }
   ],
   "source": [
    "#predict test data\n",
    "X_test_count = v.transform(X_test. values.astype('str'))\n",
    "\n",
    "print (X_test_count.shape)\n",
    "model.score(X_test_count, y_test)"
   ]
  },
  {
   "cell_type": "code",
   "execution_count": 29,
   "id": "863a42d9",
   "metadata": {},
   "outputs": [],
   "source": [
    "#use Sklearn Pipeline\n",
    "from sklearn.pipeline import Pipeline\n",
    "\n",
    "clf = Pipeline([\n",
    "    ('vectorizer', CountVectorizer()),\n",
    "    ('nb', MultinomialNB())\n",
    "])\n",
    "\n",
    "#must convert to string\n",
    "#try later"
   ]
  },
  {
   "cell_type": "code",
   "execution_count": 30,
   "id": "99d70261",
   "metadata": {},
   "outputs": [
    {
     "ename": "AttributeError",
     "evalue": "'int' object has no attribute 'lower'",
     "output_type": "error",
     "traceback": [
      "\u001b[1;31m---------------------------------------------------------------------------\u001b[0m",
      "\u001b[1;31mAttributeError\u001b[0m                            Traceback (most recent call last)",
      "\u001b[1;32m<ipython-input-30-1ca9ae41795f>\u001b[0m in \u001b[0;36m<module>\u001b[1;34m\u001b[0m\n\u001b[0;32m      1\u001b[0m \u001b[1;31m#fit model\u001b[0m\u001b[1;33m\u001b[0m\u001b[1;33m\u001b[0m\u001b[1;33m\u001b[0m\u001b[0m\n\u001b[0;32m      2\u001b[0m \u001b[1;33m\u001b[0m\u001b[0m\n\u001b[1;32m----> 3\u001b[1;33m \u001b[0mclf\u001b[0m\u001b[1;33m.\u001b[0m\u001b[0mfit\u001b[0m\u001b[1;33m(\u001b[0m\u001b[0mX_train\u001b[0m\u001b[1;33m,\u001b[0m \u001b[0my_train\u001b[0m\u001b[1;33m)\u001b[0m\u001b[1;33m\u001b[0m\u001b[1;33m\u001b[0m\u001b[0m\n\u001b[0m",
      "\u001b[1;32m~\\anaconda3\\lib\\site-packages\\sklearn\\pipeline.py\u001b[0m in \u001b[0;36mfit\u001b[1;34m(self, X, y, **fit_params)\u001b[0m\n\u001b[0;32m    339\u001b[0m         \"\"\"\n\u001b[0;32m    340\u001b[0m         \u001b[0mfit_params_steps\u001b[0m \u001b[1;33m=\u001b[0m \u001b[0mself\u001b[0m\u001b[1;33m.\u001b[0m\u001b[0m_check_fit_params\u001b[0m\u001b[1;33m(\u001b[0m\u001b[1;33m**\u001b[0m\u001b[0mfit_params\u001b[0m\u001b[1;33m)\u001b[0m\u001b[1;33m\u001b[0m\u001b[1;33m\u001b[0m\u001b[0m\n\u001b[1;32m--> 341\u001b[1;33m         \u001b[0mXt\u001b[0m \u001b[1;33m=\u001b[0m \u001b[0mself\u001b[0m\u001b[1;33m.\u001b[0m\u001b[0m_fit\u001b[0m\u001b[1;33m(\u001b[0m\u001b[0mX\u001b[0m\u001b[1;33m,\u001b[0m \u001b[0my\u001b[0m\u001b[1;33m,\u001b[0m \u001b[1;33m**\u001b[0m\u001b[0mfit_params_steps\u001b[0m\u001b[1;33m)\u001b[0m\u001b[1;33m\u001b[0m\u001b[1;33m\u001b[0m\u001b[0m\n\u001b[0m\u001b[0;32m    342\u001b[0m         with _print_elapsed_time('Pipeline',\n\u001b[0;32m    343\u001b[0m                                  self._log_message(len(self.steps) - 1)):\n",
      "\u001b[1;32m~\\anaconda3\\lib\\site-packages\\sklearn\\pipeline.py\u001b[0m in \u001b[0;36m_fit\u001b[1;34m(self, X, y, **fit_params_steps)\u001b[0m\n\u001b[0;32m    301\u001b[0m                 \u001b[0mcloned_transformer\u001b[0m \u001b[1;33m=\u001b[0m \u001b[0mclone\u001b[0m\u001b[1;33m(\u001b[0m\u001b[0mtransformer\u001b[0m\u001b[1;33m)\u001b[0m\u001b[1;33m\u001b[0m\u001b[1;33m\u001b[0m\u001b[0m\n\u001b[0;32m    302\u001b[0m             \u001b[1;31m# Fit or load from cache the current transformer\u001b[0m\u001b[1;33m\u001b[0m\u001b[1;33m\u001b[0m\u001b[1;33m\u001b[0m\u001b[0m\n\u001b[1;32m--> 303\u001b[1;33m             X, fitted_transformer = fit_transform_one_cached(\n\u001b[0m\u001b[0;32m    304\u001b[0m                 \u001b[0mcloned_transformer\u001b[0m\u001b[1;33m,\u001b[0m \u001b[0mX\u001b[0m\u001b[1;33m,\u001b[0m \u001b[0my\u001b[0m\u001b[1;33m,\u001b[0m \u001b[1;32mNone\u001b[0m\u001b[1;33m,\u001b[0m\u001b[1;33m\u001b[0m\u001b[1;33m\u001b[0m\u001b[0m\n\u001b[0;32m    305\u001b[0m                 \u001b[0mmessage_clsname\u001b[0m\u001b[1;33m=\u001b[0m\u001b[1;34m'Pipeline'\u001b[0m\u001b[1;33m,\u001b[0m\u001b[1;33m\u001b[0m\u001b[1;33m\u001b[0m\u001b[0m\n",
      "\u001b[1;32m~\\anaconda3\\lib\\site-packages\\joblib\\memory.py\u001b[0m in \u001b[0;36m__call__\u001b[1;34m(self, *args, **kwargs)\u001b[0m\n\u001b[0;32m    350\u001b[0m \u001b[1;33m\u001b[0m\u001b[0m\n\u001b[0;32m    351\u001b[0m     \u001b[1;32mdef\u001b[0m \u001b[0m__call__\u001b[0m\u001b[1;33m(\u001b[0m\u001b[0mself\u001b[0m\u001b[1;33m,\u001b[0m \u001b[1;33m*\u001b[0m\u001b[0margs\u001b[0m\u001b[1;33m,\u001b[0m \u001b[1;33m**\u001b[0m\u001b[0mkwargs\u001b[0m\u001b[1;33m)\u001b[0m\u001b[1;33m:\u001b[0m\u001b[1;33m\u001b[0m\u001b[1;33m\u001b[0m\u001b[0m\n\u001b[1;32m--> 352\u001b[1;33m         \u001b[1;32mreturn\u001b[0m \u001b[0mself\u001b[0m\u001b[1;33m.\u001b[0m\u001b[0mfunc\u001b[0m\u001b[1;33m(\u001b[0m\u001b[1;33m*\u001b[0m\u001b[0margs\u001b[0m\u001b[1;33m,\u001b[0m \u001b[1;33m**\u001b[0m\u001b[0mkwargs\u001b[0m\u001b[1;33m)\u001b[0m\u001b[1;33m\u001b[0m\u001b[1;33m\u001b[0m\u001b[0m\n\u001b[0m\u001b[0;32m    353\u001b[0m \u001b[1;33m\u001b[0m\u001b[0m\n\u001b[0;32m    354\u001b[0m     \u001b[1;32mdef\u001b[0m \u001b[0mcall_and_shelve\u001b[0m\u001b[1;33m(\u001b[0m\u001b[0mself\u001b[0m\u001b[1;33m,\u001b[0m \u001b[1;33m*\u001b[0m\u001b[0margs\u001b[0m\u001b[1;33m,\u001b[0m \u001b[1;33m**\u001b[0m\u001b[0mkwargs\u001b[0m\u001b[1;33m)\u001b[0m\u001b[1;33m:\u001b[0m\u001b[1;33m\u001b[0m\u001b[1;33m\u001b[0m\u001b[0m\n",
      "\u001b[1;32m~\\anaconda3\\lib\\site-packages\\sklearn\\pipeline.py\u001b[0m in \u001b[0;36m_fit_transform_one\u001b[1;34m(transformer, X, y, weight, message_clsname, message, **fit_params)\u001b[0m\n\u001b[0;32m    752\u001b[0m     \u001b[1;32mwith\u001b[0m \u001b[0m_print_elapsed_time\u001b[0m\u001b[1;33m(\u001b[0m\u001b[0mmessage_clsname\u001b[0m\u001b[1;33m,\u001b[0m \u001b[0mmessage\u001b[0m\u001b[1;33m)\u001b[0m\u001b[1;33m:\u001b[0m\u001b[1;33m\u001b[0m\u001b[1;33m\u001b[0m\u001b[0m\n\u001b[0;32m    753\u001b[0m         \u001b[1;32mif\u001b[0m \u001b[0mhasattr\u001b[0m\u001b[1;33m(\u001b[0m\u001b[0mtransformer\u001b[0m\u001b[1;33m,\u001b[0m \u001b[1;34m'fit_transform'\u001b[0m\u001b[1;33m)\u001b[0m\u001b[1;33m:\u001b[0m\u001b[1;33m\u001b[0m\u001b[1;33m\u001b[0m\u001b[0m\n\u001b[1;32m--> 754\u001b[1;33m             \u001b[0mres\u001b[0m \u001b[1;33m=\u001b[0m \u001b[0mtransformer\u001b[0m\u001b[1;33m.\u001b[0m\u001b[0mfit_transform\u001b[0m\u001b[1;33m(\u001b[0m\u001b[0mX\u001b[0m\u001b[1;33m,\u001b[0m \u001b[0my\u001b[0m\u001b[1;33m,\u001b[0m \u001b[1;33m**\u001b[0m\u001b[0mfit_params\u001b[0m\u001b[1;33m)\u001b[0m\u001b[1;33m\u001b[0m\u001b[1;33m\u001b[0m\u001b[0m\n\u001b[0m\u001b[0;32m    755\u001b[0m         \u001b[1;32melse\u001b[0m\u001b[1;33m:\u001b[0m\u001b[1;33m\u001b[0m\u001b[1;33m\u001b[0m\u001b[0m\n\u001b[0;32m    756\u001b[0m             \u001b[0mres\u001b[0m \u001b[1;33m=\u001b[0m \u001b[0mtransformer\u001b[0m\u001b[1;33m.\u001b[0m\u001b[0mfit\u001b[0m\u001b[1;33m(\u001b[0m\u001b[0mX\u001b[0m\u001b[1;33m,\u001b[0m \u001b[0my\u001b[0m\u001b[1;33m,\u001b[0m \u001b[1;33m**\u001b[0m\u001b[0mfit_params\u001b[0m\u001b[1;33m)\u001b[0m\u001b[1;33m.\u001b[0m\u001b[0mtransform\u001b[0m\u001b[1;33m(\u001b[0m\u001b[0mX\u001b[0m\u001b[1;33m)\u001b[0m\u001b[1;33m\u001b[0m\u001b[1;33m\u001b[0m\u001b[0m\n",
      "\u001b[1;32m~\\anaconda3\\lib\\site-packages\\sklearn\\feature_extraction\\text.py\u001b[0m in \u001b[0;36mfit_transform\u001b[1;34m(self, raw_documents, y)\u001b[0m\n\u001b[0;32m   1201\u001b[0m         \u001b[0mmax_features\u001b[0m \u001b[1;33m=\u001b[0m \u001b[0mself\u001b[0m\u001b[1;33m.\u001b[0m\u001b[0mmax_features\u001b[0m\u001b[1;33m\u001b[0m\u001b[1;33m\u001b[0m\u001b[0m\n\u001b[0;32m   1202\u001b[0m \u001b[1;33m\u001b[0m\u001b[0m\n\u001b[1;32m-> 1203\u001b[1;33m         vocabulary, X = self._count_vocab(raw_documents,\n\u001b[0m\u001b[0;32m   1204\u001b[0m                                           self.fixed_vocabulary_)\n\u001b[0;32m   1205\u001b[0m \u001b[1;33m\u001b[0m\u001b[0m\n",
      "\u001b[1;32m~\\anaconda3\\lib\\site-packages\\sklearn\\feature_extraction\\text.py\u001b[0m in \u001b[0;36m_count_vocab\u001b[1;34m(self, raw_documents, fixed_vocab)\u001b[0m\n\u001b[0;32m   1113\u001b[0m         \u001b[1;32mfor\u001b[0m \u001b[0mdoc\u001b[0m \u001b[1;32min\u001b[0m \u001b[0mraw_documents\u001b[0m\u001b[1;33m:\u001b[0m\u001b[1;33m\u001b[0m\u001b[1;33m\u001b[0m\u001b[0m\n\u001b[0;32m   1114\u001b[0m             \u001b[0mfeature_counter\u001b[0m \u001b[1;33m=\u001b[0m \u001b[1;33m{\u001b[0m\u001b[1;33m}\u001b[0m\u001b[1;33m\u001b[0m\u001b[1;33m\u001b[0m\u001b[0m\n\u001b[1;32m-> 1115\u001b[1;33m             \u001b[1;32mfor\u001b[0m \u001b[0mfeature\u001b[0m \u001b[1;32min\u001b[0m \u001b[0manalyze\u001b[0m\u001b[1;33m(\u001b[0m\u001b[0mdoc\u001b[0m\u001b[1;33m)\u001b[0m\u001b[1;33m:\u001b[0m\u001b[1;33m\u001b[0m\u001b[1;33m\u001b[0m\u001b[0m\n\u001b[0m\u001b[0;32m   1116\u001b[0m                 \u001b[1;32mtry\u001b[0m\u001b[1;33m:\u001b[0m\u001b[1;33m\u001b[0m\u001b[1;33m\u001b[0m\u001b[0m\n\u001b[0;32m   1117\u001b[0m                     \u001b[0mfeature_idx\u001b[0m \u001b[1;33m=\u001b[0m \u001b[0mvocabulary\u001b[0m\u001b[1;33m[\u001b[0m\u001b[0mfeature\u001b[0m\u001b[1;33m]\u001b[0m\u001b[1;33m\u001b[0m\u001b[1;33m\u001b[0m\u001b[0m\n",
      "\u001b[1;32m~\\anaconda3\\lib\\site-packages\\sklearn\\feature_extraction\\text.py\u001b[0m in \u001b[0;36m_analyze\u001b[1;34m(doc, analyzer, tokenizer, ngrams, preprocessor, decoder, stop_words)\u001b[0m\n\u001b[0;32m    102\u001b[0m     \u001b[1;32melse\u001b[0m\u001b[1;33m:\u001b[0m\u001b[1;33m\u001b[0m\u001b[1;33m\u001b[0m\u001b[0m\n\u001b[0;32m    103\u001b[0m         \u001b[1;32mif\u001b[0m \u001b[0mpreprocessor\u001b[0m \u001b[1;32mis\u001b[0m \u001b[1;32mnot\u001b[0m \u001b[1;32mNone\u001b[0m\u001b[1;33m:\u001b[0m\u001b[1;33m\u001b[0m\u001b[1;33m\u001b[0m\u001b[0m\n\u001b[1;32m--> 104\u001b[1;33m             \u001b[0mdoc\u001b[0m \u001b[1;33m=\u001b[0m \u001b[0mpreprocessor\u001b[0m\u001b[1;33m(\u001b[0m\u001b[0mdoc\u001b[0m\u001b[1;33m)\u001b[0m\u001b[1;33m\u001b[0m\u001b[1;33m\u001b[0m\u001b[0m\n\u001b[0m\u001b[0;32m    105\u001b[0m         \u001b[1;32mif\u001b[0m \u001b[0mtokenizer\u001b[0m \u001b[1;32mis\u001b[0m \u001b[1;32mnot\u001b[0m \u001b[1;32mNone\u001b[0m\u001b[1;33m:\u001b[0m\u001b[1;33m\u001b[0m\u001b[1;33m\u001b[0m\u001b[0m\n\u001b[0;32m    106\u001b[0m             \u001b[0mdoc\u001b[0m \u001b[1;33m=\u001b[0m \u001b[0mtokenizer\u001b[0m\u001b[1;33m(\u001b[0m\u001b[0mdoc\u001b[0m\u001b[1;33m)\u001b[0m\u001b[1;33m\u001b[0m\u001b[1;33m\u001b[0m\u001b[0m\n",
      "\u001b[1;32m~\\anaconda3\\lib\\site-packages\\sklearn\\feature_extraction\\text.py\u001b[0m in \u001b[0;36m_preprocess\u001b[1;34m(doc, accent_function, lower)\u001b[0m\n\u001b[0;32m     67\u001b[0m     \"\"\"\n\u001b[0;32m     68\u001b[0m     \u001b[1;32mif\u001b[0m \u001b[0mlower\u001b[0m\u001b[1;33m:\u001b[0m\u001b[1;33m\u001b[0m\u001b[1;33m\u001b[0m\u001b[0m\n\u001b[1;32m---> 69\u001b[1;33m         \u001b[0mdoc\u001b[0m \u001b[1;33m=\u001b[0m \u001b[0mdoc\u001b[0m\u001b[1;33m.\u001b[0m\u001b[0mlower\u001b[0m\u001b[1;33m(\u001b[0m\u001b[1;33m)\u001b[0m\u001b[1;33m\u001b[0m\u001b[1;33m\u001b[0m\u001b[0m\n\u001b[0m\u001b[0;32m     70\u001b[0m     \u001b[1;32mif\u001b[0m \u001b[0maccent_function\u001b[0m \u001b[1;32mis\u001b[0m \u001b[1;32mnot\u001b[0m \u001b[1;32mNone\u001b[0m\u001b[1;33m:\u001b[0m\u001b[1;33m\u001b[0m\u001b[1;33m\u001b[0m\u001b[0m\n\u001b[0;32m     71\u001b[0m         \u001b[0mdoc\u001b[0m \u001b[1;33m=\u001b[0m \u001b[0maccent_function\u001b[0m\u001b[1;33m(\u001b[0m\u001b[0mdoc\u001b[0m\u001b[1;33m)\u001b[0m\u001b[1;33m\u001b[0m\u001b[1;33m\u001b[0m\u001b[0m\n",
      "\u001b[1;31mAttributeError\u001b[0m: 'int' object has no attribute 'lower'"
     ]
    }
   ],
   "source": [
    "#fit model\n",
    " \n",
    "clf.fit(X_train, y_train)"
   ]
  },
  {
   "cell_type": "code",
   "execution_count": 31,
   "id": "d3314662",
   "metadata": {},
   "outputs": [
    {
     "ename": "NotFittedError",
     "evalue": "Vocabulary not fitted or provided",
     "output_type": "error",
     "traceback": [
      "\u001b[1;31m---------------------------------------------------------------------------\u001b[0m",
      "\u001b[1;31mNotFittedError\u001b[0m                            Traceback (most recent call last)",
      "\u001b[1;32m<ipython-input-31-f0f22eb42217>\u001b[0m in \u001b[0;36m<module>\u001b[1;34m\u001b[0m\n\u001b[0;32m      1\u001b[0m \u001b[1;31m#test score\u001b[0m\u001b[1;33m\u001b[0m\u001b[1;33m\u001b[0m\u001b[1;33m\u001b[0m\u001b[0m\n\u001b[1;32m----> 2\u001b[1;33m \u001b[0mclf\u001b[0m\u001b[1;33m.\u001b[0m\u001b[0mscore\u001b[0m\u001b[1;33m(\u001b[0m\u001b[0mX_test\u001b[0m\u001b[1;33m,\u001b[0m\u001b[0my_test\u001b[0m\u001b[1;33m)\u001b[0m\u001b[1;33m\u001b[0m\u001b[1;33m\u001b[0m\u001b[0m\n\u001b[0m",
      "\u001b[1;32m~\\anaconda3\\lib\\site-packages\\sklearn\\utils\\metaestimators.py\u001b[0m in \u001b[0;36m<lambda>\u001b[1;34m(*args, **kwargs)\u001b[0m\n\u001b[0;32m    118\u001b[0m \u001b[1;33m\u001b[0m\u001b[0m\n\u001b[0;32m    119\u001b[0m         \u001b[1;31m# lambda, but not partial, allows help() to work with update_wrapper\u001b[0m\u001b[1;33m\u001b[0m\u001b[1;33m\u001b[0m\u001b[1;33m\u001b[0m\u001b[0m\n\u001b[1;32m--> 120\u001b[1;33m         \u001b[0mout\u001b[0m \u001b[1;33m=\u001b[0m \u001b[1;32mlambda\u001b[0m \u001b[1;33m*\u001b[0m\u001b[0margs\u001b[0m\u001b[1;33m,\u001b[0m \u001b[1;33m**\u001b[0m\u001b[0mkwargs\u001b[0m\u001b[1;33m:\u001b[0m \u001b[0mself\u001b[0m\u001b[1;33m.\u001b[0m\u001b[0mfn\u001b[0m\u001b[1;33m(\u001b[0m\u001b[0mobj\u001b[0m\u001b[1;33m,\u001b[0m \u001b[1;33m*\u001b[0m\u001b[0margs\u001b[0m\u001b[1;33m,\u001b[0m \u001b[1;33m**\u001b[0m\u001b[0mkwargs\u001b[0m\u001b[1;33m)\u001b[0m\u001b[1;33m\u001b[0m\u001b[1;33m\u001b[0m\u001b[0m\n\u001b[0m\u001b[0;32m    121\u001b[0m         \u001b[1;31m# update the docstring of the returned function\u001b[0m\u001b[1;33m\u001b[0m\u001b[1;33m\u001b[0m\u001b[1;33m\u001b[0m\u001b[0m\n\u001b[0;32m    122\u001b[0m         \u001b[0mupdate_wrapper\u001b[0m\u001b[1;33m(\u001b[0m\u001b[0mout\u001b[0m\u001b[1;33m,\u001b[0m \u001b[0mself\u001b[0m\u001b[1;33m.\u001b[0m\u001b[0mfn\u001b[0m\u001b[1;33m)\u001b[0m\u001b[1;33m\u001b[0m\u001b[1;33m\u001b[0m\u001b[0m\n",
      "\u001b[1;32m~\\anaconda3\\lib\\site-packages\\sklearn\\pipeline.py\u001b[0m in \u001b[0;36mscore\u001b[1;34m(self, X, y, sample_weight)\u001b[0m\n\u001b[0;32m    616\u001b[0m         \u001b[0mXt\u001b[0m \u001b[1;33m=\u001b[0m \u001b[0mX\u001b[0m\u001b[1;33m\u001b[0m\u001b[1;33m\u001b[0m\u001b[0m\n\u001b[0;32m    617\u001b[0m         \u001b[1;32mfor\u001b[0m \u001b[0m_\u001b[0m\u001b[1;33m,\u001b[0m \u001b[0mname\u001b[0m\u001b[1;33m,\u001b[0m \u001b[0mtransform\u001b[0m \u001b[1;32min\u001b[0m \u001b[0mself\u001b[0m\u001b[1;33m.\u001b[0m\u001b[0m_iter\u001b[0m\u001b[1;33m(\u001b[0m\u001b[0mwith_final\u001b[0m\u001b[1;33m=\u001b[0m\u001b[1;32mFalse\u001b[0m\u001b[1;33m)\u001b[0m\u001b[1;33m:\u001b[0m\u001b[1;33m\u001b[0m\u001b[1;33m\u001b[0m\u001b[0m\n\u001b[1;32m--> 618\u001b[1;33m             \u001b[0mXt\u001b[0m \u001b[1;33m=\u001b[0m \u001b[0mtransform\u001b[0m\u001b[1;33m.\u001b[0m\u001b[0mtransform\u001b[0m\u001b[1;33m(\u001b[0m\u001b[0mXt\u001b[0m\u001b[1;33m)\u001b[0m\u001b[1;33m\u001b[0m\u001b[1;33m\u001b[0m\u001b[0m\n\u001b[0m\u001b[0;32m    619\u001b[0m         \u001b[0mscore_params\u001b[0m \u001b[1;33m=\u001b[0m \u001b[1;33m{\u001b[0m\u001b[1;33m}\u001b[0m\u001b[1;33m\u001b[0m\u001b[1;33m\u001b[0m\u001b[0m\n\u001b[0;32m    620\u001b[0m         \u001b[1;32mif\u001b[0m \u001b[0msample_weight\u001b[0m \u001b[1;32mis\u001b[0m \u001b[1;32mnot\u001b[0m \u001b[1;32mNone\u001b[0m\u001b[1;33m:\u001b[0m\u001b[1;33m\u001b[0m\u001b[1;33m\u001b[0m\u001b[0m\n",
      "\u001b[1;32m~\\anaconda3\\lib\\site-packages\\sklearn\\feature_extraction\\text.py\u001b[0m in \u001b[0;36mtransform\u001b[1;34m(self, raw_documents)\u001b[0m\n\u001b[0;32m   1250\u001b[0m                 \u001b[1;34m\"Iterable over raw text documents expected, \"\u001b[0m\u001b[1;33m\u001b[0m\u001b[1;33m\u001b[0m\u001b[0m\n\u001b[0;32m   1251\u001b[0m                 \"string object received.\")\n\u001b[1;32m-> 1252\u001b[1;33m         \u001b[0mself\u001b[0m\u001b[1;33m.\u001b[0m\u001b[0m_check_vocabulary\u001b[0m\u001b[1;33m(\u001b[0m\u001b[1;33m)\u001b[0m\u001b[1;33m\u001b[0m\u001b[1;33m\u001b[0m\u001b[0m\n\u001b[0m\u001b[0;32m   1253\u001b[0m \u001b[1;33m\u001b[0m\u001b[0m\n\u001b[0;32m   1254\u001b[0m         \u001b[1;31m# use the same matrix-building strategy as fit_transform\u001b[0m\u001b[1;33m\u001b[0m\u001b[1;33m\u001b[0m\u001b[1;33m\u001b[0m\u001b[0m\n",
      "\u001b[1;32m~\\anaconda3\\lib\\site-packages\\sklearn\\feature_extraction\\text.py\u001b[0m in \u001b[0;36m_check_vocabulary\u001b[1;34m(self)\u001b[0m\n\u001b[0;32m    470\u001b[0m             \u001b[0mself\u001b[0m\u001b[1;33m.\u001b[0m\u001b[0m_validate_vocabulary\u001b[0m\u001b[1;33m(\u001b[0m\u001b[1;33m)\u001b[0m\u001b[1;33m\u001b[0m\u001b[1;33m\u001b[0m\u001b[0m\n\u001b[0;32m    471\u001b[0m             \u001b[1;32mif\u001b[0m \u001b[1;32mnot\u001b[0m \u001b[0mself\u001b[0m\u001b[1;33m.\u001b[0m\u001b[0mfixed_vocabulary_\u001b[0m\u001b[1;33m:\u001b[0m\u001b[1;33m\u001b[0m\u001b[1;33m\u001b[0m\u001b[0m\n\u001b[1;32m--> 472\u001b[1;33m                 \u001b[1;32mraise\u001b[0m \u001b[0mNotFittedError\u001b[0m\u001b[1;33m(\u001b[0m\u001b[1;34m\"Vocabulary not fitted or provided\"\u001b[0m\u001b[1;33m)\u001b[0m\u001b[1;33m\u001b[0m\u001b[1;33m\u001b[0m\u001b[0m\n\u001b[0m\u001b[0;32m    473\u001b[0m \u001b[1;33m\u001b[0m\u001b[0m\n\u001b[0;32m    474\u001b[0m         \u001b[1;32mif\u001b[0m \u001b[0mlen\u001b[0m\u001b[1;33m(\u001b[0m\u001b[0mself\u001b[0m\u001b[1;33m.\u001b[0m\u001b[0mvocabulary_\u001b[0m\u001b[1;33m)\u001b[0m \u001b[1;33m==\u001b[0m \u001b[1;36m0\u001b[0m\u001b[1;33m:\u001b[0m\u001b[1;33m\u001b[0m\u001b[1;33m\u001b[0m\u001b[0m\n",
      "\u001b[1;31mNotFittedError\u001b[0m: Vocabulary not fitted or provided"
     ]
    }
   ],
   "source": [
    "#test score\n",
    "clf.score(X_test,y_test)"
   ]
  },
  {
   "cell_type": "markdown",
   "id": "da6c8af2",
   "metadata": {},
   "source": [
    "#emial prediction\n",
    "clf.predict(emials)"
   ]
  },
  {
   "cell_type": "code",
   "execution_count": 32,
   "id": "49b486bb",
   "metadata": {},
   "outputs": [
    {
     "ename": "NotFittedError",
     "evalue": "Vocabulary not fitted or provided",
     "output_type": "error",
     "traceback": [
      "\u001b[1;31m---------------------------------------------------------------------------\u001b[0m",
      "\u001b[1;31mNotFittedError\u001b[0m                            Traceback (most recent call last)",
      "\u001b[1;32m<ipython-input-32-ed2cc5149c8a>\u001b[0m in \u001b[0;36m<module>\u001b[1;34m\u001b[0m\n\u001b[0;32m      1\u001b[0m \u001b[1;31m#predict emails\u001b[0m\u001b[1;33m\u001b[0m\u001b[1;33m\u001b[0m\u001b[1;33m\u001b[0m\u001b[0m\n\u001b[1;32m----> 2\u001b[1;33m \u001b[0mclf\u001b[0m\u001b[1;33m.\u001b[0m\u001b[0mpredict\u001b[0m\u001b[1;33m(\u001b[0m\u001b[0memails\u001b[0m\u001b[1;33m)\u001b[0m\u001b[1;33m\u001b[0m\u001b[1;33m\u001b[0m\u001b[0m\n\u001b[0m",
      "\u001b[1;32m~\\anaconda3\\lib\\site-packages\\sklearn\\utils\\metaestimators.py\u001b[0m in \u001b[0;36m<lambda>\u001b[1;34m(*args, **kwargs)\u001b[0m\n\u001b[0;32m    118\u001b[0m \u001b[1;33m\u001b[0m\u001b[0m\n\u001b[0;32m    119\u001b[0m         \u001b[1;31m# lambda, but not partial, allows help() to work with update_wrapper\u001b[0m\u001b[1;33m\u001b[0m\u001b[1;33m\u001b[0m\u001b[1;33m\u001b[0m\u001b[0m\n\u001b[1;32m--> 120\u001b[1;33m         \u001b[0mout\u001b[0m \u001b[1;33m=\u001b[0m \u001b[1;32mlambda\u001b[0m \u001b[1;33m*\u001b[0m\u001b[0margs\u001b[0m\u001b[1;33m,\u001b[0m \u001b[1;33m**\u001b[0m\u001b[0mkwargs\u001b[0m\u001b[1;33m:\u001b[0m \u001b[0mself\u001b[0m\u001b[1;33m.\u001b[0m\u001b[0mfn\u001b[0m\u001b[1;33m(\u001b[0m\u001b[0mobj\u001b[0m\u001b[1;33m,\u001b[0m \u001b[1;33m*\u001b[0m\u001b[0margs\u001b[0m\u001b[1;33m,\u001b[0m \u001b[1;33m**\u001b[0m\u001b[0mkwargs\u001b[0m\u001b[1;33m)\u001b[0m\u001b[1;33m\u001b[0m\u001b[1;33m\u001b[0m\u001b[0m\n\u001b[0m\u001b[0;32m    121\u001b[0m         \u001b[1;31m# update the docstring of the returned function\u001b[0m\u001b[1;33m\u001b[0m\u001b[1;33m\u001b[0m\u001b[1;33m\u001b[0m\u001b[0m\n\u001b[0;32m    122\u001b[0m         \u001b[0mupdate_wrapper\u001b[0m\u001b[1;33m(\u001b[0m\u001b[0mout\u001b[0m\u001b[1;33m,\u001b[0m \u001b[0mself\u001b[0m\u001b[1;33m.\u001b[0m\u001b[0mfn\u001b[0m\u001b[1;33m)\u001b[0m\u001b[1;33m\u001b[0m\u001b[1;33m\u001b[0m\u001b[0m\n",
      "\u001b[1;32m~\\anaconda3\\lib\\site-packages\\sklearn\\pipeline.py\u001b[0m in \u001b[0;36mpredict\u001b[1;34m(self, X, **predict_params)\u001b[0m\n\u001b[0;32m    416\u001b[0m         \u001b[0mXt\u001b[0m \u001b[1;33m=\u001b[0m \u001b[0mX\u001b[0m\u001b[1;33m\u001b[0m\u001b[1;33m\u001b[0m\u001b[0m\n\u001b[0;32m    417\u001b[0m         \u001b[1;32mfor\u001b[0m \u001b[0m_\u001b[0m\u001b[1;33m,\u001b[0m \u001b[0mname\u001b[0m\u001b[1;33m,\u001b[0m \u001b[0mtransform\u001b[0m \u001b[1;32min\u001b[0m \u001b[0mself\u001b[0m\u001b[1;33m.\u001b[0m\u001b[0m_iter\u001b[0m\u001b[1;33m(\u001b[0m\u001b[0mwith_final\u001b[0m\u001b[1;33m=\u001b[0m\u001b[1;32mFalse\u001b[0m\u001b[1;33m)\u001b[0m\u001b[1;33m:\u001b[0m\u001b[1;33m\u001b[0m\u001b[1;33m\u001b[0m\u001b[0m\n\u001b[1;32m--> 418\u001b[1;33m             \u001b[0mXt\u001b[0m \u001b[1;33m=\u001b[0m \u001b[0mtransform\u001b[0m\u001b[1;33m.\u001b[0m\u001b[0mtransform\u001b[0m\u001b[1;33m(\u001b[0m\u001b[0mXt\u001b[0m\u001b[1;33m)\u001b[0m\u001b[1;33m\u001b[0m\u001b[1;33m\u001b[0m\u001b[0m\n\u001b[0m\u001b[0;32m    419\u001b[0m         \u001b[1;32mreturn\u001b[0m \u001b[0mself\u001b[0m\u001b[1;33m.\u001b[0m\u001b[0msteps\u001b[0m\u001b[1;33m[\u001b[0m\u001b[1;33m-\u001b[0m\u001b[1;36m1\u001b[0m\u001b[1;33m]\u001b[0m\u001b[1;33m[\u001b[0m\u001b[1;33m-\u001b[0m\u001b[1;36m1\u001b[0m\u001b[1;33m]\u001b[0m\u001b[1;33m.\u001b[0m\u001b[0mpredict\u001b[0m\u001b[1;33m(\u001b[0m\u001b[0mXt\u001b[0m\u001b[1;33m,\u001b[0m \u001b[1;33m**\u001b[0m\u001b[0mpredict_params\u001b[0m\u001b[1;33m)\u001b[0m\u001b[1;33m\u001b[0m\u001b[1;33m\u001b[0m\u001b[0m\n\u001b[0;32m    420\u001b[0m \u001b[1;33m\u001b[0m\u001b[0m\n",
      "\u001b[1;32m~\\anaconda3\\lib\\site-packages\\sklearn\\feature_extraction\\text.py\u001b[0m in \u001b[0;36mtransform\u001b[1;34m(self, raw_documents)\u001b[0m\n\u001b[0;32m   1250\u001b[0m                 \u001b[1;34m\"Iterable over raw text documents expected, \"\u001b[0m\u001b[1;33m\u001b[0m\u001b[1;33m\u001b[0m\u001b[0m\n\u001b[0;32m   1251\u001b[0m                 \"string object received.\")\n\u001b[1;32m-> 1252\u001b[1;33m         \u001b[0mself\u001b[0m\u001b[1;33m.\u001b[0m\u001b[0m_check_vocabulary\u001b[0m\u001b[1;33m(\u001b[0m\u001b[1;33m)\u001b[0m\u001b[1;33m\u001b[0m\u001b[1;33m\u001b[0m\u001b[0m\n\u001b[0m\u001b[0;32m   1253\u001b[0m \u001b[1;33m\u001b[0m\u001b[0m\n\u001b[0;32m   1254\u001b[0m         \u001b[1;31m# use the same matrix-building strategy as fit_transform\u001b[0m\u001b[1;33m\u001b[0m\u001b[1;33m\u001b[0m\u001b[1;33m\u001b[0m\u001b[0m\n",
      "\u001b[1;32m~\\anaconda3\\lib\\site-packages\\sklearn\\feature_extraction\\text.py\u001b[0m in \u001b[0;36m_check_vocabulary\u001b[1;34m(self)\u001b[0m\n\u001b[0;32m    470\u001b[0m             \u001b[0mself\u001b[0m\u001b[1;33m.\u001b[0m\u001b[0m_validate_vocabulary\u001b[0m\u001b[1;33m(\u001b[0m\u001b[1;33m)\u001b[0m\u001b[1;33m\u001b[0m\u001b[1;33m\u001b[0m\u001b[0m\n\u001b[0;32m    471\u001b[0m             \u001b[1;32mif\u001b[0m \u001b[1;32mnot\u001b[0m \u001b[0mself\u001b[0m\u001b[1;33m.\u001b[0m\u001b[0mfixed_vocabulary_\u001b[0m\u001b[1;33m:\u001b[0m\u001b[1;33m\u001b[0m\u001b[1;33m\u001b[0m\u001b[0m\n\u001b[1;32m--> 472\u001b[1;33m                 \u001b[1;32mraise\u001b[0m \u001b[0mNotFittedError\u001b[0m\u001b[1;33m(\u001b[0m\u001b[1;34m\"Vocabulary not fitted or provided\"\u001b[0m\u001b[1;33m)\u001b[0m\u001b[1;33m\u001b[0m\u001b[1;33m\u001b[0m\u001b[0m\n\u001b[0m\u001b[0;32m    473\u001b[0m \u001b[1;33m\u001b[0m\u001b[0m\n\u001b[0;32m    474\u001b[0m         \u001b[1;32mif\u001b[0m \u001b[0mlen\u001b[0m\u001b[1;33m(\u001b[0m\u001b[0mself\u001b[0m\u001b[1;33m.\u001b[0m\u001b[0mvocabulary_\u001b[0m\u001b[1;33m)\u001b[0m \u001b[1;33m==\u001b[0m \u001b[1;36m0\u001b[0m\u001b[1;33m:\u001b[0m\u001b[1;33m\u001b[0m\u001b[1;33m\u001b[0m\u001b[0m\n",
      "\u001b[1;31mNotFittedError\u001b[0m: Vocabulary not fitted or provided"
     ]
    }
   ],
   "source": [
    "#predict emails\n",
    "clf.predict(emails)"
   ]
  },
  {
   "cell_type": "code",
   "execution_count": null,
   "id": "b2b83841",
   "metadata": {},
   "outputs": [],
   "source": []
  }
 ],
 "metadata": {
  "kernelspec": {
   "display_name": "Python 3",
   "language": "python",
   "name": "python3"
  },
  "language_info": {
   "codemirror_mode": {
    "name": "ipython",
    "version": 3
   },
   "file_extension": ".py",
   "mimetype": "text/x-python",
   "name": "python",
   "nbconvert_exporter": "python",
   "pygments_lexer": "ipython3",
   "version": "3.8.8"
  }
 },
 "nbformat": 4,
 "nbformat_minor": 5
}
